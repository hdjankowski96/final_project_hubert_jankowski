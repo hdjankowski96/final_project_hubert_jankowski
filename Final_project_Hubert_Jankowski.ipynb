{
  "nbformat": 4,
  "nbformat_minor": 0,
  "metadata": {
    "colab": {
      "provenance": []
    },
    "kernelspec": {
      "name": "python3",
      "display_name": "Python 3"
    },
    "language_info": {
      "name": "python"
    }
  },
  "cells": [
    {
      "cell_type": "code",
      "source": [
        "#Part 1 - Processing and cleaning the data"
      ],
      "metadata": {
        "id": "PVOVzsPhPE_3"
      },
      "execution_count": 95,
      "outputs": []
    },
    {
      "cell_type": "code",
      "execution_count": 96,
      "metadata": {
        "id": "kvHBZf6sNoot"
      },
      "outputs": [],
      "source": [
        "import pandas as pd"
      ]
    },
    {
      "cell_type": "code",
      "source": [
        "import re"
      ],
      "metadata": {
        "id": "-eGvQxtRhGPk"
      },
      "execution_count": 97,
      "outputs": []
    },
    {
      "cell_type": "code",
      "source": [
        "DATASET = pd.read_csv('/content/dane3.csv')"
      ],
      "metadata": {
        "id": "Q_ACp0UUfY8N"
      },
      "execution_count": 98,
      "outputs": []
    },
    {
      "cell_type": "code",
      "source": [
        "df = DATASET.copy()"
      ],
      "metadata": {
        "id": "QlTGMDkQQW_B"
      },
      "execution_count": 99,
      "outputs": []
    },
    {
      "cell_type": "code",
      "source": [
        "#Replace abbreviated weekday names with english equivalents (full weekday names) - created_at column"
      ],
      "metadata": {
        "id": "nWWThzIAPJfc"
      },
      "execution_count": 100,
      "outputs": []
    },
    {
      "cell_type": "code",
      "source": [
        "weekdays = {\n",
        "    'Mon': 'Monday',\n",
        "    'Tue': 'Tuesday',\n",
        "    'Wed': 'Wednesday',\n",
        "    'Thu': 'Thursday',\n",
        "    'Fri': 'Friday',\n",
        "    'Sat': 'Saturday',\n",
        "    'Sun': 'Sunday'\n",
        "    }"
      ],
      "metadata": {
        "id": "qJxxpbdXQtHl"
      },
      "execution_count": 102,
      "outputs": []
    },
    {
      "cell_type": "code",
      "source": [
        "def replace_abbreviations(tekst):\n",
        "    for abbreviation, full_name in weekdays.items():\n",
        "        tekst = tekst.replace(abbreviation, full_name)\n",
        "    return tekst"
      ],
      "metadata": {
        "id": "6g6PQe9jRamV"
      },
      "execution_count": 103,
      "outputs": []
    },
    {
      "cell_type": "code",
      "source": [
        "df['created_at'] = df['created_at'].apply(replace_abbreviations)"
      ],
      "metadata": {
        "id": "V47lKE_aRo34"
      },
      "execution_count": 104,
      "outputs": []
    },
    {
      "cell_type": "code",
      "source": [
        "#Replace abbreviated month names with numerical equivalents (e.g. Jun to 06) - user_created_at column"
      ],
      "metadata": {
        "id": "y8ZnzAFMg39D"
      },
      "execution_count": 105,
      "outputs": []
    },
    {
      "cell_type": "code",
      "source": [
        "months = {\n",
        "    'Jan': '01',\n",
        "    'Feb': '02',\n",
        "    'Mar': '03',\n",
        "    'Apr': '04',\n",
        "    'May': '05',\n",
        "    'Jun': '06',\n",
        "    'Jul': '07',\n",
        "    'Aug': '08',\n",
        "    'Sep': '09',\n",
        "    'Oct': '10',\n",
        "    'Nov': '11',\n",
        "    'Dec': '12'\n",
        "    }"
      ],
      "metadata": {
        "id": "QWF8B5IZXreu"
      },
      "execution_count": 106,
      "outputs": []
    },
    {
      "cell_type": "code",
      "source": [
        "def replace_months(tekst):\n",
        "    for month, month_num in months.items():\n",
        "        tekst = tekst.replace(month, month_num)\n",
        "    return tekst"
      ],
      "metadata": {
        "id": "QGqRunPzfYFW"
      },
      "execution_count": 107,
      "outputs": []
    },
    {
      "cell_type": "code",
      "source": [
        "df['created_at'] = df['created_at'].apply(replace_months)"
      ],
      "metadata": {
        "id": "7ZiMhz5TftHH"
      },
      "execution_count": 108,
      "outputs": []
    },
    {
      "cell_type": "code",
      "source": [
        "#Get all links to tweets and pass them to the list"
      ],
      "metadata": {
        "id": "TuTRRFgAgyU2"
      },
      "execution_count": null,
      "outputs": []
    },
    {
      "cell_type": "code",
      "source": [
        "twitter_urls = df['tweet_url'].tolist()\n",
        "print(twitter_urls)"
      ],
      "metadata": {
        "colab": {
          "base_uri": "https://localhost:8080/"
        },
        "id": "rFZQyoaWy5V3",
        "outputId": "2e672923-8c8a-4793-da10-164de5f91e05"
      },
      "execution_count": 109,
      "outputs": [
        {
          "output_type": "stream",
          "name": "stdout",
          "text": [
            "['https://twitter.com/NieOddac/status/1411957559712432128', 'https://twitter.com/MeteoprognozaPL/status/1411963424221941763', 'https://twitter.com/jolaiza29/status/1412031023588708352', 'https://twitter.com/PogodaMeteo/status/1411936323779371013', 'https://twitter.com/WESLEYROBERTART/status/1412006678275448834', 'https://twitter.com/SDGsbot/status/1411946061564985349', 'https://twitter.com/iSokolkaeu/status/1411964452921122816', 'https://twitter.com/Squabercom/status/1412024990497656836', 'https://twitter.com/SolskaAda/status/1411970011992891394', 'https://twitter.com/PogodaMeteo/status/1411996139604357122', 'https://twitter.com/TestateTornado/status/1411993985946734595', 'https://twitter.com/PerfectDilemma2/status/1412029598758588419', 'https://twitter.com/tytus_de_zoo_/status/1412035207608348675', 'https://twitter.com/PogodaMeteo/status/1411968124627324930', 'https://twitter.com/TerazSrodowisko/status/1411976056249237505', 'https://twitter.com/RafalDudkiewic1/status/1412031694937464832', 'https://twitter.com/Tempelhof13/status/1412018202712985602', 'https://twitter.com/PortalMorski/status/1411989284148723712', 'https://twitter.com/witeksz/status/1411967033026170880', 'https://twitter.com/GnasKg/status/1412006473429835780', 'https://twitter.com/fatherbeocca/status/1411958835405799424', 'https://twitter.com/wisSDay/status/1412031316066017287', 'https://twitter.com/xxx70889423/status/1411961941355122689', 'https://twitter.com/vulnerablexirl/status/1411932229752795137', 'https://twitter.com/PogodaMeteo/status/1411996122399358981', 'https://twitter.com/ZWatroby/status/1411987973021765632', 'https://twitter.com/JakubMedek/status/1411966792566722565', 'https://twitter.com/Mikog_/status/1412030452370657280', 'https://twitter.com/marianapiorkows/status/1412044922253873153', 'https://twitter.com/Pawe18156599/status/1411974164781703169', 'https://twitter.com/mRokuszewski/status/1412016195663024136', 'https://twitter.com/DamianLebuda14/status/1412032416651386884', 'https://twitter.com/WeszloCom/status/1412015512301801475', 'https://twitter.com/Rafi__X/status/1411938940995751936', 'https://twitter.com/yeoubihubi/status/1411973022567784449', 'https://twitter.com/FOB_Poland/status/1412008431553290240', 'https://twitter.com/skiz_lover/status/1412005284684443656', 'https://twitter.com/ToMaszCoToMasz/status/1411995130714808320', 'https://twitter.com/abellerie/status/1411953684137877507', 'https://twitter.com/kot_b0t/status/1412036750411583488', 'https://twitter.com/PogodaMeteo/status/1411944377715417089', 'https://twitter.com/sehyeonluvv/status/1412028213170163718', 'https://twitter.com/laskowski_pl/status/1411968367578202113', 'https://twitter.com/Marcin_Zysk/status/1411990843779653637', 'https://twitter.com/turpistycznie/status/1411933631594078208', 'https://twitter.com/gunthera_mws/status/1411971603060211712', 'https://twitter.com/KrukMysli/status/1412006642854604809', 'https://twitter.com/GRIDWarszawa/status/1411945237002457089', 'https://twitter.com/Roman78631269/status/1411938754370183169', 'https://twitter.com/EnamoradaArt/status/1412016277586067456', 'https://twitter.com/LauraKwoczala/status/1412006511493136385', 'https://twitter.com/DarekS_100/status/1411983733348081664', 'https://twitter.com/RKomarewicz/status/1412002223333298178', 'https://twitter.com/MPKOBC/status/1412024786042171394', 'https://twitter.com/tentypguess/status/1412006136623112197', 'https://twitter.com/slice_of_love_/status/1411933754633773066', 'https://twitter.com/FOB_Poland/status/1412007587890053121', 'https://twitter.com/utriculator/status/1411966666959900679', 'https://twitter.com/AnnaUrsz/status/1411970917979279360', 'https://twitter.com/MaciejWolnosc/status/1411997844672815106', 'https://twitter.com/4_ol4/status/1411979670510317570', 'https://twitter.com/Lekki_LibRight/status/1412018485996175360', 'https://twitter.com/tancerz78/status/1412016797881147392', 'https://twitter.com/Alicja__E/status/1412020014090276865', 'https://twitter.com/NieOddac/status/1411957783042351105', 'https://twitter.com/MarekJozefiak/status/1412001522754408449', 'https://twitter.com/a_Brzozka/status/1412044188565262345', 'https://twitter.com/randomnpct/status/1411999998091354114', 'https://twitter.com/sylwiafrolow/status/1411958090807848960', 'https://twitter.com/300gospodarka/status/1411974381236936710', 'https://twitter.com/Aktywni_Obyw/status/1411941791906009091', 'https://twitter.com/slaskaopinia/status/1412003321695686660', 'https://twitter.com/I_Boguslawska/status/1411974265210028035', 'https://twitter.com/PogodaMeteo/status/1412013425824256006', 'https://twitter.com/Wise_Europa/status/1411970944659345408', 'https://twitter.com/lupus75/status/1411949684487229444', 'https://twitter.com/kolonskaiszlugi/status/1411967808297213953', 'https://twitter.com/mrowkacz/status/1411967279286341639', 'https://twitter.com/juliafutro/status/1411945919226990592', 'https://twitter.com/manakoniec/status/1411974004487905281', 'https://twitter.com/apoteozazalosci/status/1411987870542446593', 'https://twitter.com/BarbaraRogala4/status/1411978286956220416', 'https://twitter.com/Muzeum_Widzewa/status/1411961774941818886', 'https://twitter.com/fromabove9/status/1412005383166738432', 'https://twitter.com/piernikowao/status/1411982798748110849', 'https://twitter.com/JdRobespierre/status/1412020988976504835', 'https://twitter.com/twitkcg/status/1411783540073660416', 'https://twitter.com/KiniaAnna/status/1411857984116998145', 'https://twitter.com/Marek56516010/status/1411839446828339203', 'https://twitter.com/Ewa04059325/status/1411915661622878209', 'https://twitter.com/KlubSwobMysli/status/1411799369553227784', 'https://twitter.com/PogodaMeteo/status/1411917475864842240', 'https://twitter.com/defcomics/status/1411890351674114053', 'https://twitter.com/domini1983/status/1411793181826560013', 'https://twitter.com/EGramse/status/1411925474931056640', 'https://twitter.com/GGanszczyk/status/1411925532070055937', 'https://twitter.com/PogodaMeteo/status/1411913569680175105', 'https://twitter.com/ArturRodawski/status/1411801940800020484', 'https://twitter.com/kari772/status/1411788896535560193', 'https://twitter.com/PogodaMeteo/status/1411896890925502471', 'https://twitter.com/lewiatan_ka/status/1411805716197916681', 'https://twitter.com/BastianoPL/status/1411876991566069761', 'https://twitter.com/FundacjaIRME/status/1411925717269504000', 'https://twitter.com/bozena_z58/status/1411782930238787585', 'https://twitter.com/Sawomir86174818/status/1411925892511715329', 'https://twitter.com/xmystiles/status/1411798015929634822', 'https://twitter.com/Potato_Nialla_/status/1411868637795950598', 'https://twitter.com/PogodaMeteo/status/1411915724617093121', 'https://twitter.com/DariuszChocyk/status/1411791053464682505', 'https://twitter.com/opiumpopuli/status/1411796423457316867', 'https://twitter.com/PogodaMeteo/status/1411897253640519680', 'https://twitter.com/DamianSfinks/status/1411803806812315652', 'https://twitter.com/LasekMaciej/status/1411801441384157186', 'https://twitter.com/wulgarny_gracz/status/1411788569891508226', 'https://twitter.com/k_analiza/status/1411912363012411392', 'https://twitter.com/ISTARUN1/status/1411809321990623232', 'https://twitter.com/imxmartynka/status/1411795984838021126', 'https://twitter.com/lewiatan_ka/status/1411804406954274819', 'https://twitter.com/PrzemekzOpola74/status/1411788755833442307', 'https://twitter.com/jasiak_piotr/status/1411800881931198466', 'https://twitter.com/PogodaMeteo/status/1411896905911738369', 'https://twitter.com/arkhamsalvation/status/1411796069332230145', 'https://twitter.com/EkoWiosna/status/1411924454515658755', 'https://twitter.com/PogodaMeteo/status/1411917459599286277', 'https://twitter.com/polskawruinie2/status/1411928972846370817', 'https://twitter.com/jarkono/status/1411912467140202496', 'https://twitter.com/lewiatan_ka/status/1411812851497508869', 'https://twitter.com/PogodaMeteo/status/1411896870289485824', 'https://twitter.com/k_analiza/status/1411912000242917378', 'https://twitter.com/car00x/status/1411796227742650373', 'https://twitter.com/EwelinaGd/status/1411802359844511745', 'https://twitter.com/flores_nelumbo/status/1411807905360252934', 'https://twitter.com/PogodaMeteo/status/1411913583185870852', 'https://twitter.com/PogodaMeteo/status/1411922814756610048', 'https://twitter.com/PogodaMeteo/status/1411905237263204354', 'https://twitter.com/ZeligLeonard1/status/1411800742034280448', 'https://twitter.com/dawajlanek/status/1411806732532305922', 'https://twitter.com/arkhamsalvation/status/1411795764347641858', 'https://twitter.com/cat_mom_aisha/status/1411793693560946692', 'https://twitter.com/MarJanWSK/status/1411822084678881280', 'https://twitter.com/PogodaMeteo/status/1411786919235706884', 'https://twitter.com/opiumpopuli/status/1411794793974403073', 'https://twitter.com/rogalmarcinski/status/1411783216525156353', 'https://twitter.com/dvmk0/status/1411836691875258370', 'https://twitter.com/BozenaBonnie/status/1411812778604699650', 'https://twitter.com/PogodaMeteo/status/1411877514683858946', 'https://twitter.com/oxyte_/status/1411804810169536524', 'https://twitter.com/RonnieX2x/status/1411789630865870850', 'https://twitter.com/PogodaMeteo/status/1411792207703678982', 'https://twitter.com/PogodaMeteo/status/1411915736503750658', 'https://twitter.com/Arsenalfcfan94/status/1411790890822217730', 'https://twitter.com/adam19810112/status/1411865317517705238', 'https://twitter.com/PogodaMeteo/status/1411832208575406082', 'https://twitter.com/PogodaMeteo/status/1411883002267832324', 'https://twitter.com/wjakobik/status/1411926958154436608', 'https://twitter.com/BParyska/status/1411800854005440512', 'https://twitter.com/Krystyn18556145/status/1411810036217782273', 'https://twitter.com/PogodaMeteo/status/1411917281358196740', 'https://twitter.com/PogodaMeteo/status/1411917446018179072', 'https://twitter.com/loumebaby/status/1411794498506702850', 'https://twitter.com/MikolajRusinski/status/1411810846586638337', 'https://twitter.com/jula6255/status/1411804356391968771', 'https://twitter.com/PogodaMeteo/status/1411915749774483456', 'https://twitter.com/jacek_liberski/status/1411799216633126918', 'https://twitter.com/MateuszWodarcz1/status/1411929263176028160', 'https://twitter.com/FundacjaIRME/status/1411926170686341123', 'https://twitter.com/MeteoprognozaPL/status/1411920646179897344', 'https://twitter.com/spiritus_artis/status/1411829001405046786', 'https://twitter.com/Jarek52063623/status/1411893344318496772', 'https://twitter.com/krislem58/status/1411789162907418625', 'https://twitter.com/Poczytanki/status/1411763200979345416', 'https://twitter.com/Zyndram4/status/1411738002565566469', 'https://twitter.com/dyferencja/status/1411721715126837251', 'https://twitter.com/drz_yao/status/1411728820852375555', 'https://twitter.com/m_pelek/status/1411752495513321476', 'https://twitter.com/QuickPietruszka/status/1411768575589769218', 'https://twitter.com/RomanDlugi/status/1411724948146638848', 'https://twitter.com/soproudofot5/status/1411777974538539013', 'https://twitter.com/Annie_6167/status/1411731136833888259', 'https://twitter.com/241078A/status/1411765356906094593', 'https://twitter.com/jaroslawjarosik/status/1411766969318187010', 'https://twitter.com/StopPOPULI/status/1411767357178003465', 'https://twitter.com/ItsMeDamianoo/status/1411746253113856005', 'https://twitter.com/chujowosc/status/1411768178322153473', 'https://twitter.com/gojosemojf/status/1411754757325213699', 'https://twitter.com/Hugo210012/status/1411755481090117632', 'https://twitter.com/Jarl_Zoliborza/status/1411761997805391878', 'https://twitter.com/QwakPL/status/1411744232826671109', 'https://twitter.com/KubaJedryka/status/1411732729562124300', 'https://twitter.com/whoyoumamx/status/1411726162192224258', 'https://twitter.com/piotrbe/status/1411724692696834052', 'https://twitter.com/marlenulka/status/1411781417118339072', 'https://twitter.com/asusux3/status/1411734691695190021', 'https://twitter.com/PanCogito7/status/1411734988588990464', 'https://twitter.com/liaase_/status/1411746923346808835', 'https://twitter.com/PiotrWasiak8/status/1411780958932635648', 'https://twitter.com/mariog5tw/status/1411726943712681989', 'https://twitter.com/JurdziakPawel/status/1411752048337510401', 'https://twitter.com/xxLittleBadBaby/status/1411781018235949064', 'https://twitter.com/ADerewienko/status/1411726213605900288', 'https://twitter.com/Maciej90532763/status/1411750533904408578', 'https://twitter.com/KonradPierwszy/status/1411741431065100292', 'https://twitter.com/xsvjkx/status/1411733355796783106', 'https://twitter.com/Fanmuzyki/status/1411740472104603656', 'https://twitter.com/SzuriaToFuria/status/1411744424846110724', 'https://twitter.com/DziennikPL/status/1411768159636377602', 'https://twitter.com/Youacz/status/1411746729679069189', 'https://twitter.com/katzee000/status/1411775414259888131', 'https://twitter.com/elgrabowski/status/1411771478308229120', 'https://twitter.com/_Reynevan_/status/1411726915300376576', 'https://twitter.com/_LEEMEANH0E98/status/1411738467445391363', 'https://twitter.com/WESLEYROBERTART/status/1411752572285865988', 'https://twitter.com/dniniczyje/status/1411722466657984516', 'https://twitter.com/BalcerekMarta/status/1411728656334995458', 'https://twitter.com/niedoskonaloscc/status/1411777503044292613', 'https://twitter.com/wjakobik/status/1411738630398349312', 'https://twitter.com/piotrdyjak/status/1411774021109170182', 'https://twitter.com/WESLEYROBERTART/status/1411745686031380491', 'https://twitter.com/MichaSobkowiak/status/1411767531803656199', 'https://twitter.com/Hugo210012/status/1411767697852047371', 'https://twitter.com/Harrolfo/status/1411723687049506821', 'https://twitter.com/kakim_twt/status/1411740777135366146', 'https://twitter.com/Bartek_1990/status/1411769082790268931', 'https://twitter.com/mendulka/status/1411756294961258502', 'https://twitter.com/zajete_/status/1411733465599463426', 'https://twitter.com/BrucesuperLee/status/1411740404584783886', 'https://twitter.com/AktNierozwagi/status/1411732555288698881', 'https://twitter.com/TataThaja/status/1411770529955074048', 'https://twitter.com/cocieboli/status/1411722015074131968', 'https://twitter.com/Anna94086140/status/1411745222774734852', 'https://twitter.com/mlynsn/status/1411768889579655178', 'https://twitter.com/PogodaMeteo/status/1411741629120192513', 'https://twitter.com/PiotrKrk1/status/1411762576233578499', 'https://twitter.com/kalwak15/status/1411723026031386627', 'https://twitter.com/sebnatha/status/1411780569701232643', 'https://twitter.com/Moninson07/status/1411745402034999296', 'https://twitter.com/PustaWisnia/status/1411766244181790721', 'https://twitter.com/willeatyourrib/status/1411741698229772299', 'https://twitter.com/temagog/status/1411740214847021056', 'https://twitter.com/_Kat_Mal_/status/1411757506645352456', 'https://twitter.com/CzerwonyKat/status/1411774879309963266', 'https://twitter.com/artcoobie/status/1411775054589972483', 'https://twitter.com/mariog5tw/status/1411723258001514496', 'https://twitter.com/poprostuleszek/status/1411736798313787411', 'https://twitter.com/xxx70889423/status/1411724139065380868', 'https://twitter.com/TheLastRagusan/status/1411780780880187402', 'https://twitter.com/AmoSatoshi/status/1411777835140890625', 'https://twitter.com/oopsgabbie/status/1411762572672516103', 'https://twitter.com/SobczynskiJacek/status/1411764111797538821', 'https://twitter.com/KrzemoweEcho/status/1411725053197045763', 'https://twitter.com/pbagin/status/1411741597096677377', 'https://twitter.com/BlondRakieta/status/1411749595760238593', 'https://twitter.com/_dvnon/status/1411714364130873346', 'https://twitter.com/MikaGolebiowski/status/1411697893942116357', 'https://twitter.com/dodos420/status/1411674112582467584', 'https://twitter.com/CywilizacjaZ/status/1411654446178840576', 'https://twitter.com/kultliberalna/status/1411716257334841344', 'https://twitter.com/oopshharry/status/1411652162913030144', 'https://twitter.com/Jacek_Maslowski/status/1411670087644372992', 'https://twitter.com/MarcinTrzyna/status/1411676495932801028', 'https://twitter.com/MarekTatala/status/1411715572774191108', 'https://twitter.com/Pawe51569894/status/1411716473333207044', 'https://twitter.com/_Malvka_/status/1411680584603156481', 'https://twitter.com/deadlyyykiss/status/1411648424903163907', 'https://twitter.com/tripp_10/status/1411702870160855042', 'https://twitter.com/StadnickiM/status/1411703414501920770', 'https://twitter.com/oreocliffo/status/1411670337457098759', 'https://twitter.com/thepiona/status/1411695352873373701', 'https://twitter.com/PogodaMeteo/status/1411696315159961602', 'https://twitter.com/maayuoko/status/1411700892622065665', 'https://twitter.com/BartekBielski/status/1411718090627375113', 'https://twitter.com/ManiekP30/status/1411679227775234048', 'https://twitter.com/KrzysztofWrzal/status/1411716526244339712', 'https://twitter.com/LewakXxi/status/1411661076790382593', 'https://twitter.com/PogodaMeteo/status/1411717402782539779', 'https://twitter.com/Andreas1Andre/status/1411669157591109632', 'https://twitter.com/kmariusz1/status/1411703966585569290', 'https://twitter.com/MaciekW_/status/1411666200149565443', 'https://twitter.com/PogodaMeteo/status/1411717390585536517', 'https://twitter.com/KIMVJEONGGUK/status/1411716753789444104', 'https://twitter.com/MeteoprognozaPL/status/1411655650480988160', 'https://twitter.com/Mial1986_87/status/1411654875872743425', 'https://twitter.com/FranekVetulani/status/1411675999796871169', 'https://twitter.com/JongHyoJin/status/1411698529404428289', 'https://twitter.com/AgnieszkaPyzowa/status/1411675303622156289', 'https://twitter.com/stepskaaa/status/1411675767365423106', 'https://twitter.com/2225kuc/status/1411689871224328194', 'https://twitter.com/swe_felix/status/1411693801400307714', 'https://twitter.com/Miku12518719/status/1411696895282585603', 'https://twitter.com/ifoundluke/status/1411716176749764608', 'https://twitter.com/Mial1986_87/status/1411654054565007365', 'https://twitter.com/issamoodgrande/status/1411658212798042112', 'https://twitter.com/manakoniec/status/1411699901080260611', 'https://twitter.com/Autolikos1/status/1411697840389300228', 'https://twitter.com/ckwadrat/status/1411652554799386624', 'https://twitter.com/dudewhoisjulie/status/1411682229638549509', 'https://twitter.com/PogodaMeteo/status/1411651021579898881', 'https://twitter.com/fasol_cia/status/1411648908179165187', 'https://twitter.com/chudyz182/status/1411709594745847812', 'https://twitter.com/KrzysztofKubon/status/1411692227932393474', 'https://twitter.com/BorsoLW/status/1411704842502934528', 'https://twitter.com/Wanda71600343/status/1411703030618206221', 'https://twitter.com/undefeatedem0/status/1411650814041595904', 'https://twitter.com/dominobb/status/1411715876584308748', 'https://twitter.com/abbeloya/status/1411669830743232516', 'https://twitter.com/ogrodymixtape/status/1411709364793188353', 'https://twitter.com/Marian62920465/status/1411707658776809478', 'https://twitter.com/m_borzecki/status/1411696579325607938', 'https://twitter.com/halaska7/status/1411707024438616069', 'https://twitter.com/jarekkaniewski_/status/1411697999495974915', 'https://twitter.com/rafalo80/status/1411655103778627586', 'https://twitter.com/Cruithne09PL/status/1411703960092696576', 'https://twitter.com/kawazlodem/status/1411681030432608265', 'https://twitter.com/ogurekchrystusa/status/1411702212594745347', 'https://twitter.com/Jakis1Marcin/status/1411660540292874241', 'https://twitter.com/Autolikos1/status/1411697685653078017', 'https://twitter.com/TiniStylinson/status/1411690759984762883', 'https://twitter.com/RundfunkEuropa/status/1411716638383169540', 'https://twitter.com/Bojlerinho/status/1411702217418149889', 'https://twitter.com/IceQueenmelt/status/1411713647253065730', 'https://twitter.com/haxzzy/status/1411653076201639936', 'https://twitter.com/ortegadry/status/1411665070531256325', 'https://twitter.com/dd61742102/status/1411695080725954564', 'https://twitter.com/wczorajszewino/status/1411659898535002112', 'https://twitter.com/mruwka/status/1411670746284371972', 'https://twitter.com/asterriv/status/1411699794062581771', 'https://twitter.com/PogodaMeteo/status/1411688523959308290', 'https://twitter.com/impatii1/status/1411656583398973441', 'https://twitter.com/PogodaMeteo/status/1411716931426660354', 'https://twitter.com/justchill003/status/1411671500722147328', 'https://twitter.com/Hipokrateska/status/1411708723609968642', 'https://twitter.com/romulusata/status/1411694745924014081', 'https://twitter.com/xaklime/status/1411691965377286153', 'https://twitter.com/SGlbnpl/status/1411708313423826951', 'https://twitter.com/bezzuczuc/status/1411691569065992195', 'https://twitter.com/zuzz1e/status/1411703100981891075', 'https://twitter.com/l4ssitud3/status/1411710893897945089', 'https://twitter.com/goggy58464800/status/1411672460664131587', 'https://twitter.com/Trutenzmaz2/status/1411695252990275584', 'https://twitter.com/Zuzia06119033/status/1411665601785962496', 'https://twitter.com/YouGotNo_Jams1/status/1411666250669903873', 'https://twitter.com/Energetyka_24/status/1411656536716283913', 'https://twitter.com/pierogi_ruskie_/status/1411611722943709186', 'https://twitter.com/MZukMarmar/status/1411618361713303555', 'https://twitter.com/JeiNamue/status/1411640968995033090', 'https://twitter.com/Chrabia_/status/1411626838041010176', 'https://twitter.com/lodowkanajalaa/status/1411615117414965251', 'https://twitter.com/Tokimuya/status/1411633540626780162', 'https://twitter.com/d3struct00n/status/1411639582899294209', 'https://twitter.com/mal_gsz/status/1411626846416945152', 'https://twitter.com/_xwhite_rose_/status/1411627244305408004', 'https://twitter.com/kubatm07/status/1411616635610447873', 'https://twitter.com/AdamFabian85/status/1411643625377873923', 'https://twitter.com/Bartek93794875/status/1411639185295953920', 'https://twitter.com/czarnam08648785/status/1411621878423343105', 'https://twitter.com/mateusz_trojnar/status/1411631884212355073', 'https://twitter.com/maciej_witek/status/1411613885090734085', 'https://twitter.com/kostellini/status/1411644928866783238', 'https://twitter.com/TaiyangPK/status/1411621264008093696', 'https://twitter.com/GenapiMa/status/1411622844786675716', 'https://twitter.com/AlexandraBorel3/status/1411633483156537345', 'https://twitter.com/AndGritty/status/1411633021237727233', 'https://twitter.com/PabloMoralesPL/status/1411625015011852289', 'https://twitter.com/twojastara__/status/1411640544393052171', 'https://twitter.com/Satinfo24/status/1411623671874166788', 'https://twitter.com/Guraido6/status/1411612759981277184', 'https://twitter.com/PogodaMeteo/status/1411633652371529730', 'https://twitter.com/mxblackyz/status/1411616074135707648', 'https://twitter.com/Politmania/status/1411637960714375168', 'https://twitter.com/zeildoa/status/1411612264667435008', 'https://twitter.com/PPawlik4343/status/1411620929210363904', 'https://twitter.com/MirCisz2015/status/1411637288963031042', 'https://twitter.com/niedelikatnee/status/1411643249081606150', 'https://twitter.com/PogodaMeteo/status/1411633667399618561', 'https://twitter.com/RadcaW/status/1411642972538552326', 'https://twitter.com/ScyprianNorwid/status/1411624257252216833', 'https://twitter.com/michals_1910/status/1411646582127218692', 'https://twitter.com/mariusz_ulman/status/1411629997513711619', 'https://twitter.com/meandmy6cats/status/1411635317518503938', 'https://twitter.com/CzerwonyKat/status/1411646993483583489', 'https://twitter.com/daarylkaa/status/1411611609152299008', 'https://twitter.com/PawelSagala/status/1411631038263087105', 'https://twitter.com/gilotyna_/status/1411620479123795972', 'https://twitter.com/dannydannyscool/status/1411611662809976832', 'https://twitter.com/turtilla_/status/1411638381382148096', 'https://twitter.com/IPowiatu/status/1411637541820903432', 'https://twitter.com/scoryxx1/status/1411626740942782466', 'https://twitter.com/Bartez43273261/status/1411623363672424449', 'https://twitter.com/MikeWolf9999/status/1411621301756780547', 'https://twitter.com/Iwona84139743/status/1411621089944510465', 'https://twitter.com/Black_Wolf2002/status/1411632030069235714', 'https://twitter.com/nhll2820/status/1411643043363672069', 'https://twitter.com/nopawel/status/1411614443344179200', 'https://twitter.com/taetella44/status/1411613459238866947', 'https://twitter.com/venustetae/status/1411612567605235714', 'https://twitter.com/Ih8myselfbitch/status/1411632840052297730', 'https://twitter.com/nieoryginalnosc/status/1411646990534991874', 'https://twitter.com/AndGritty/status/1411628098987114500', 'https://twitter.com/Michas716/status/1411645008759996421', 'https://twitter.com/miroslaw1990/status/1411645385127366660', 'https://twitter.com/pzytywnemyslii/status/1411630315903279104', 'https://twitter.com/ceebankwatch/status/1411645659963441154', 'https://twitter.com/davv1910/status/1411647606426644483', 'https://twitter.com/MosinskiJan/status/1411637123720044545', 'https://twitter.com/zakopanytae/status/1411638693543223302', 'https://twitter.com/_paranoizm_/status/1411616245712142336', 'https://twitter.com/jul_k_aa/status/1411639295086149636', 'https://twitter.com/Wojtek_8878/status/1411623067864948737', 'https://twitter.com/fullofdepressed/status/1411622048837812232', 'https://twitter.com/luvmyStyles_94/status/1411612199630614530', 'https://twitter.com/Ksawery_Nowak1/status/1411637681759600642', 'https://twitter.com/Introqx/status/1411620916983967745', 'https://twitter.com/Michalmike12/status/1411635173196697602', 'https://twitter.com/kvmxii/status/1411641219327930369', 'https://twitter.com/themoonknxws/status/1411639030324903956', 'https://twitter.com/kinomaniak2252/status/1411644264627441664', 'https://twitter.com/micke_ey/status/1411623220990590977', 'https://twitter.com/drwal_z/status/1411618602277642242', 'https://twitter.com/xcarollen/status/1411604442164699137', 'https://twitter.com/czeskimistrz/status/1411565929071353858', 'https://twitter.com/anszczepanowska/status/1411606753624666112', 'https://twitter.com/feeelittstilll/status/1411586012485140482', 'https://twitter.com/georgetetmajer/status/1411577930988371969', 'https://twitter.com/moraInesalto/status/1411583034399277059', 'https://twitter.com/xmvsvx/status/1411588176364384256', 'https://twitter.com/xxkvzc/status/1411608078420791297', 'https://twitter.com/JadowitaMeduza/status/1411581825227673605', 'https://twitter.com/mylovelypipka/status/1411588463959359490', 'https://twitter.com/alice31001474/status/1411585531025281027', 'https://twitter.com/regradingmel/status/1411605060208009218', 'https://twitter.com/samozaplon_/status/1411587654001512449', 'https://twitter.com/calm_moon_/status/1411580397855592448', 'https://twitter.com/_Viki_chan_/status/1411573838568210433', 'https://twitter.com/SulimaPL/status/1411611062617714689', 'https://twitter.com/szymon47708769/status/1411601638607970313', 'https://twitter.com/wxajia/status/1411603194711576578', 'https://twitter.com/PogodaMeteo/status/1411581692561833990', 'https://twitter.com/xxxshooky/status/1411574972800249862', 'https://twitter.com/jan_czapski/status/1411593202830909442', 'https://twitter.com/akiramy_bby/status/1411602111574462468', 'https://twitter.com/jad1202/status/1411578852200026116', 'https://twitter.com/GNajnigier/status/1411576943577907205', 'https://twitter.com/_jamajka_007/status/1411582758170894337', 'https://twitter.com/fvckreseey/status/1411570089535717376', 'https://twitter.com/whitetough420/status/1411603461729394694', 'https://twitter.com/AgroNews1/status/1411580949926662147', 'https://twitter.com/PogodaMeteo/status/1411560423762108416', 'https://twitter.com/PogodaMeteo/status/1411605719355375619', 'https://twitter.com/GGkhaos/status/1411585497588187137', 'https://twitter.com/AgnesZwierko/status/1411582422769078274', 'https://twitter.com/Tomek525/status/1411561399797653504', 'https://twitter.com/SlawekBanaszek/status/1411598445916397571', 'https://twitter.com/mrtdanielewicz/status/1411560484885733376', 'https://twitter.com/PStrzalkowski/status/1411599486049259521', 'https://twitter.com/dupasmoka/status/1411595651272556544', 'https://twitter.com/natka_herbatka/status/1411598687009218562', 'https://twitter.com/Mariamarta410/status/1411562484356550661', 'https://twitter.com/Doom86554151/status/1411569229493592064', 'https://twitter.com/Weronik74773898/status/1411580238119768065', 'https://twitter.com/stoczniowiec666/status/1411581407781064706', 'https://twitter.com/johnnyscoffeex/status/1411606188396011520', 'https://twitter.com/Alixa124/status/1411564078112329730', 'https://twitter.com/sungiesbun/status/1411568683378483201', 'https://twitter.com/WZembaczynski/status/1411581988402876416', 'https://twitter.com/Sruubka/status/1411584862662897667', 'https://twitter.com/Yuca94761241/status/1411571131392397313', 'https://twitter.com/Banasiak1/status/1411583831757529089', 'https://twitter.com/flmnwrx/status/1411568543175426050', 'https://twitter.com/StudiumObywatel/status/1411595698307481601', 'https://twitter.com/Karol36953399/status/1411599299390197761', 'https://twitter.com/CreepyJoeBiden9/status/1411581291724742657', 'https://twitter.com/PogodaMeteo/status/1411573924979265538', 'https://twitter.com/ukasz74669150/status/1411592801561763841', 'https://twitter.com/emxxyz/status/1411576085712617474', 'https://twitter.com/sentimentaloser/status/1411580775015849985', 'https://twitter.com/MruczinoM/status/1411574020496035840', 'https://twitter.com/whattttdfq/status/1411580854107873281', 'https://twitter.com/joannalazarow/status/1411578921850740736', 'https://twitter.com/novaccinovacci/status/1411597884966019072', 'https://twitter.com/MazurArtur/status/1411579451037601793', 'https://twitter.com/viallav/status/1411583891174006786', 'https://twitter.com/KarolStanicki/status/1411576110589132801', 'https://twitter.com/yeahcoffey/status/1411606161535684608', 'https://twitter.com/Tomek525/status/1411561365362327554', 'https://twitter.com/levitating0_0/status/1411583842062843906', 'https://twitter.com/Mariusz42158512/status/1411572078659112961', 'https://twitter.com/Bum_Chica/status/1411603437612109827', 'https://twitter.com/Marek_Dabkowski/status/1411600582700371968', 'https://twitter.com/normal__de/status/1411593995747213312', 'https://twitter.com/pawelkowalpl/status/1411600045988798465', 'https://twitter.com/PogodaMeteo/status/1411554667402833920', 'https://twitter.com/nieslodze/status/1411478118800449543', 'https://twitter.com/dyzma_endrju/status/1411456541077774339', 'https://twitter.com/PogodaMeteo/status/1411515133017432068', 'https://twitter.com/m4nneskju/status/1411455786761560066', 'https://twitter.com/1303_kc/status/1411466234089160707', 'https://twitter.com/wniebowzietaa/status/1411470947220078598', 'https://twitter.com/PogodaMeteo/status/1411554793999503364', 'https://twitter.com/PogodaMeteo/status/1411553391264899076', 'https://twitter.com/PogodaMeteo/status/1411520545485725698', 'https://twitter.com/PogodaMeteo/status/1411469825747165190', 'https://twitter.com/MruczinoM/status/1411544937989087232', 'https://twitter.com/Marcin69928865/status/1411492718803668993', 'https://twitter.com/m_kokoszkiewicz/status/1411453427008344068', 'https://twitter.com/JanuszSibora/status/1411546440917209091', 'https://twitter.com/Olivia79367608/status/1411469052967542784', 'https://twitter.com/PogodaMeteo/status/1411553411028373505', 'https://twitter.com/tinvchan_/status/1411484676083048453', 'https://twitter.com/heythereangels1/status/1411452296228114437', 'https://twitter.com/Flawl3ss___/status/1411454302061801478', 'https://twitter.com/PogodaMeteo/status/1411551294406410240', 'https://twitter.com/Untrue_You_/status/1411447394634448898', 'https://twitter.com/atencjamurowana/status/1411549734582505473', 'https://twitter.com/PogodaMeteo/status/1411534560433774605', 'https://twitter.com/egzaltacje/status/1411458323849809921', 'https://twitter.com/orzeszkiziemne/status/1411471897049636867', 'https://twitter.com/demitinka/status/1411449901574246400', 'https://twitter.com/sanguinegguk/status/1411477075932942340', 'https://twitter.com/ulicaksiezycowa/status/1411456389285826561', 'https://twitter.com/AbigaildiAngel1/status/1411475145550667779', 'https://twitter.com/jaaczemupytasz/status/1411459973666770946', 'https://twitter.com/ana_ksiazkara/status/1411448528463970304', 'https://twitter.com/hello_you6161/status/1411451987049263108', 'https://twitter.com/aromantyzm/status/1411446578670342157', 'https://twitter.com/controvertido_m/status/1411555365783756807', 'https://twitter.com/defnotviki/status/1411483584599367680', 'https://twitter.com/minimalYoonie/status/1411457328327581698', 'https://twitter.com/zielonasiec/status/1411449670035980289', 'https://twitter.com/viatontae/status/1411449968808927232', 'https://twitter.com/PogodaMeteo/status/1411551303453523970', 'https://twitter.com/KrzemoweEcho/status/1411509476427845642', 'https://twitter.com/Ewa04059325/status/1411554690807046147', 'https://twitter.com/starryblossomJK/status/1411465445627006982', 'https://twitter.com/majeeraanek/status/1411457467146457090', 'https://twitter.com/intromantyczka/status/1411460759004057601', 'https://twitter.com/PogodaMeteo/status/1411553400173563904', 'https://twitter.com/duquelle/status/1411465865430810626', 'https://twitter.com/tinymushroom91/status/1411468638637395974', 'https://twitter.com/malachitowe_/status/1411494101283921922', 'https://twitter.com/PogodaMeteo/status/1411534785185517572', 'https://twitter.com/PogodaMeteo/status/1411534811001409536', 'https://twitter.com/PogodaMeteo/status/1411542828681998338', 'https://twitter.com/petardaciwdupe/status/1411448462940463104', 'https://twitter.com/yejimommy/status/1411453627470843904', 'https://twitter.com/tadeusz38725389/status/1411499996432711682', 'https://twitter.com/florieax/status/1411504940124676098', 'https://twitter.com/jkorzeniewski14/status/1411446983332614147', 'https://twitter.com/S0am_0/status/1411458812083687426', 'https://twitter.com/hepoticaa/status/1411461123375865859', 'https://twitter.com/Sawomir86174818/status/1411469020671455244', 'https://twitter.com/PogodaMeteo/status/1411554780288331777', 'https://twitter.com/nieprzespana/status/1411524339292332034', 'https://twitter.com/wikuphobic/status/1411491016197263361', 'https://twitter.com/Yukisu15/status/1411452869476237312', 'https://twitter.com/channie00idk/status/1411451198687821824', 'https://twitter.com/sunmaery/status/1411457076010930180', 'https://twitter.com/baekhyunnie04__/status/1411452764639707138', 'https://twitter.com/KrocpokZboj/status/1411517677416423427', 'https://twitter.com/horajzyn_/status/1411456921203318785', 'https://twitter.com/abatardir/status/1411455066343608322', 'https://twitter.com/louisvmybae/status/1411452483688353797', 'https://twitter.com/rmcuttingonions/status/1411456605279883264', 'https://twitter.com/Szarlotttta/status/1411448238822014977', 'https://twitter.com/PogodaMeteo/status/1411534801341980672', 'https://twitter.com/_mylittlelucky_/status/1411455060043837440', 'https://twitter.com/PogodaMeteo/status/1411554769525686272', 'https://twitter.com/AsserElsharkawy/status/1411531493269254144', 'https://twitter.com/Ihnf18/status/1411463525172760578', 'https://twitter.com/_kachacha_/status/1411420323036205062', 'https://twitter.com/Magdaiks/status/1411443685032595466', 'https://twitter.com/Dominik25312909/status/1411420329390624777', 'https://twitter.com/SebSt7/status/1411437243424722948', 'https://twitter.com/zukowskimichal/status/1411419011695394823', 'https://twitter.com/cloudless_19/status/1411441102779994112', 'https://twitter.com/flicker_xxx/status/1411417849009160194', 'https://twitter.com/Cumcuberbitch/status/1411430853301919753', 'https://twitter.com/LadyBlueberry1/status/1411418876575895553', 'https://twitter.com/reallycodyswife/status/1411445914347114502', 'https://twitter.com/mereneiden/status/1411417567403593734', 'https://twitter.com/vanilllia1/status/1411426238397300742', 'https://twitter.com/XxAgmaxX/status/1411421316310261762', 'https://twitter.com/adhd989/status/1411423492935979011', 'https://twitter.com/irisvilaa/status/1411425642122514433', 'https://twitter.com/wolvverinepld/status/1411434006680309766', 'https://twitter.com/IPPWarszawa/status/1411436796962029568', 'https://twitter.com/Michalecznyy/status/1411439196489801728', 'https://twitter.com/pawelpomian/status/1411421007206813697', 'https://twitter.com/Geek_alien_/status/1411415517701840896', 'https://twitter.com/oleksleczka/status/1411416164207677443', 'https://twitter.com/marianka_57/status/1411429621267152897', 'https://twitter.com/PogodaMeteo/status/1411429818743377922', 'https://twitter.com/Ahaokej2/status/1411418471154454532', 'https://twitter.com/hrDevonSal1/status/1411433185083334660', 'https://twitter.com/toadstoolksp/status/1411441291062349836', 'https://twitter.com/_bi_smart_/status/1411416975943864321', 'https://twitter.com/keydorable/status/1411442927084228610', 'https://twitter.com/M1NCH4N3R/status/1411429991926185986', 'https://twitter.com/mily_psychopata/status/1411416694795522049', 'https://twitter.com/Rob99990727/status/1411442075833360389', 'https://twitter.com/floweringarden_/status/1411435323628863497', 'https://twitter.com/LidekShinobi/status/1411414929979199489', 'https://twitter.com/rachell_moon/status/1411440497177108482', 'https://twitter.com/cryinginkorean/status/1411432372701175810', 'https://twitter.com/StinkyReigen69/status/1411429992513392644', 'https://twitter.com/wygasly_robok65/status/1411430150869237762', 'https://twitter.com/czekinka/status/1411420229335502849', 'https://twitter.com/salepisyre/status/1411417219058262019', 'https://twitter.com/PogodaMeteo/status/1411424538244620289', 'https://twitter.com/Potwornicka/status/1411436406040403976', 'https://twitter.com/zimnaklucha/status/1411441879078551562', 'https://twitter.com/SLODKAHERB4TKA/status/1411438092993576970', 'https://twitter.com/DortmunderGhost/status/1411430703569510402', 'https://twitter.com/Gabrysi65497533/status/1411416933266821120', 'https://twitter.com/Liliana39451608/status/1411420610253803525', 'https://twitter.com/Pieter_Zmuda/status/1411439206195511297', 'https://twitter.com/Cezar81006020/status/1411436431151611906', 'https://twitter.com/havinfun_420/status/1411416796104626182', 'https://twitter.com/zabladzilam/status/1411444413700661249', 'https://twitter.com/t0hrub3stg1rl/status/1411432383568621571', 'https://twitter.com/wolny_rynek/status/1411427509321732098', 'https://twitter.com/Sp7udoA/status/1411436833016270849', 'https://twitter.com/hoknoe/status/1411421768418476034', 'https://twitter.com/lesbijskawodka/status/1411424551058161664', 'https://twitter.com/gownozaby/status/1411427174469537800', 'https://twitter.com/Peopleneedpeop4/status/1411429515981725701', 'https://twitter.com/WoyEnbiej/status/1411423662058749956', 'https://twitter.com/RozbrykanyKuc/status/1411425230296424451', 'https://twitter.com/cody_drew_/status/1411422666624487427', 'https://twitter.com/Olo_Gurgul/status/1411434960477732866', 'https://twitter.com/pojdedonieba/status/1411434314462552066', 'https://twitter.com/tomojprzystanek/status/1411436116494979072', 'https://twitter.com/ProLogicMusic/status/1411421287294115840', 'https://twitter.com/xLludwxx/status/1411430534002233345', 'https://twitter.com/luizkajestcool/status/1411421794691698692', 'https://twitter.com/moonligh_time/status/1411436908295725056', 'https://twitter.com/zumilan/status/1411427992925057025', 'https://twitter.com/redjalapeno/status/1411438444430123011', 'https://twitter.com/Carlosrobak/status/1411427665043771395', 'https://twitter.com/Lilitha34/status/1411432200860585987', 'https://twitter.com/jheelver/status/1411423525383159811', 'https://twitter.com/Slawek73/status/1411418827448111114', 'https://twitter.com/xzuziv/status/1411435105185419271', 'https://twitter.com/CoriiEmii/status/1411419526521135108', 'https://twitter.com/sleepanist/status/1411446274272993284', 'https://twitter.com/MichalRakowicz/status/1411431181736894471', 'https://twitter.com/ChadCezar/status/1411420281546149889', 'https://twitter.com/socjofobiaa/status/1411425228970991617', 'https://twitter.com/k_mrozek/status/1411417204218806278', 'https://twitter.com/swiatnamdziei/status/1411403530158710786', 'https://twitter.com/natziokk/status/1411391140222414850', 'https://twitter.com/swe_felix/status/1411387486044053506', 'https://twitter.com/blakklak/status/1411398196639719428', 'https://twitter.com/poldek34/status/1411388506300207106', 'https://twitter.com/Crush_April/status/1411412844583829504', 'https://twitter.com/cacuszko0o/status/1411412420271259650', 'https://twitter.com/sushiiroz/status/1411397460572921856', 'https://twitter.com/Agniesz27496977/status/1411407709476474885', 'https://twitter.com/devilishxgirlx/status/1411410491625381896', 'https://twitter.com/ismellsnoow/status/1411389625747263493', 'https://twitter.com/adjust197/status/1411401325255053318', 'https://twitter.com/spiritualfries/status/1411395463744475136', 'https://twitter.com/blacklamacorn/status/1411413807096897544', 'https://twitter.com/wait_for_me__/status/1411392688893710336', 'https://twitter.com/marymount1911/status/1411414301164855296', 'https://twitter.com/MMerkun/status/1411392747622313987', 'https://twitter.com/_sztambuch_/status/1411397569813663747', 'https://twitter.com/tajafen/status/1411411006371270662', 'https://twitter.com/okatsumii/status/1411409846323355648', 'https://twitter.com/Peter_Malick/status/1411390368503971840', 'https://twitter.com/maly_lis/status/1411390837800542214', 'https://twitter.com/usedtobec00l/status/1411386946274877448', 'https://twitter.com/maciejluczak/status/1411413260293881857', 'https://twitter.com/DrHania2/status/1411409012780904458', 'https://twitter.com/c0te_/status/1411413835425198087', 'https://twitter.com/Armeo_jimin/status/1411388348481089540', 'https://twitter.com/h8n1a/status/1411414166053834754', 'https://twitter.com/pinkorangered__/status/1411405534389997568', 'https://twitter.com/Livies11/status/1411398275543048192', 'https://twitter.com/kosmatamysl/status/1411391784534556678', 'https://twitter.com/RafalBalawejder/status/1411393276758876163', 'https://twitter.com/jusia1986/status/1411397267987259399', 'https://twitter.com/_ageraa_/status/1411406470332268545', 'https://twitter.com/ederrahorann/status/1411389678482251776', 'https://twitter.com/shooter04291/status/1411394254681825284', 'https://twitter.com/Tomaszeq55/status/1411413878316187650', 'https://twitter.com/Magorza61173214/status/1411387037073223684', 'https://twitter.com/slawo19/status/1411395404416040960', 'https://twitter.com/kittiejinnie/status/1411402827067441156', 'https://twitter.com/aprobujaco/status/1411399169571438595', 'https://twitter.com/gaylrry/status/1411413001765326850', 'https://twitter.com/cinquecinto/status/1411406160125743109', 'https://twitter.com/sylwiavvx/status/1411397711761448965', 'https://twitter.com/R_G_77_07/status/1411394176563003395', 'https://twitter.com/matt_magdziarz/status/1411400396464177152', 'https://twitter.com/Insane_Loser/status/1411409361474293763', 'https://twitter.com/Useful_Eggplant/status/1411388174979502092', 'https://twitter.com/EwaRuda7/status/1411390551287603210', 'https://twitter.com/GuzikArtur/status/1411393027852099584', 'https://twitter.com/m_szafranski/status/1411394327704657922', 'https://twitter.com/POlsztyn/status/1411412977731899398', 'https://twitter.com/zygaxxx/status/1411391297517240322', 'https://twitter.com/Zona_Mendesa/status/1411390621747666950', 'https://twitter.com/inaustraliaaa/status/1411393062195056640', 'https://twitter.com/gorzkanostalgia/status/1411394606453989380', 'https://twitter.com/kylisax/status/1411397214375718917', 'https://twitter.com/jskwisb/status/1411394244049358851', 'https://twitter.com/Fancy___Dreams/status/1411389030315479044', 'https://twitter.com/darodjd/status/1411396667396526081', 'https://twitter.com/vantaengel_/status/1411414265383239685', 'https://twitter.com/hvpewrldx/status/1411399762906058760', 'https://twitter.com/ROSEVXV/status/1411390269883310081', 'https://twitter.com/G0LDRUSHT4LLY/status/1411407794826362880', 'https://twitter.com/qiubick/status/1411388424234414089', 'https://twitter.com/golden_l0u/status/1411390593490620422', 'https://twitter.com/coolnatsx/status/1411390319925596165', 'https://twitter.com/ZambAgata/status/1411399278958874629', 'https://twitter.com/vesper666d/status/1411414805433536512', 'https://twitter.com/SunnysML/status/1411386719677648898', 'https://twitter.com/SeetrooInfo/status/1411370040671232004', 'https://twitter.com/idziewojna/status/1411360166780575747', 'https://twitter.com/_nothing_lose_/status/1411374855979667462', 'https://twitter.com/PogodaMeteo/status/1411355211596238856', 'https://twitter.com/oldmefoff/status/1411370083075739652', 'https://twitter.com/kochamliptonka/status/1411381100635738114', 'https://twitter.com/BczaBo/status/1411383383620526080', 'https://twitter.com/89hsrrie/status/1411371133664956416', 'https://twitter.com/JJ0NG_JJK/status/1411368144657125378', 'https://twitter.com/panzer_w1959/status/1411365010912186373', 'https://twitter.com/idcreaa/status/1411379857020407811', 'https://twitter.com/desmondfcb/status/1411359261821636614', 'https://twitter.com/chuugisaki/status/1411369818331267074', 'https://twitter.com/MaciejAndrzeje4/status/1411353536642826247', 'https://twitter.com/maritka123drip/status/1411372693941895169', 'https://twitter.com/switezianka_/status/1411372695418253312', 'https://twitter.com/blakeixy_bae/status/1411374154599780358', 'https://twitter.com/Dasta8181/status/1411373539039514629', 'https://twitter.com/LauPaSat_pl/status/1411385231001665546', 'https://twitter.com/eudajmonizm__/status/1411375666826711049', 'https://twitter.com/_moodmom/status/1411359817764151305', 'https://twitter.com/charlotte_176/status/1411360911751852033', 'https://twitter.com/wlozkaznadlasu/status/1411362191803093006', 'https://twitter.com/B0NSAIJ00N/status/1411381211201671174', 'https://twitter.com/Piotr14102553/status/1411355445256720384', 'https://twitter.com/SebSt7/status/1411366881399906307', 'https://twitter.com/TVP3Opole/status/1411371886416732162', 'https://twitter.com/losiekk/status/1411376813931220992', 'https://twitter.com/oliwth/status/1411368458114285570', 'https://twitter.com/bylerscripts/status/1411359499005407234', 'https://twitter.com/MuMiMa74/status/1411382814956822532', 'https://twitter.com/Maria76515414/status/1411365768160329729', 'https://twitter.com/Look_Right_Pol/status/1411373677271212035', 'https://twitter.com/MarkMoto1/status/1411378754929184771', 'https://twitter.com/AndrzejzSanoka/status/1411379898330005505', 'https://twitter.com/PolskaZdrowa/status/1411383975856291845', 'https://twitter.com/SunnysML/status/1411383360325230592', 'https://twitter.com/spiulkolot/status/1411375122339008514', 'https://twitter.com/ambrozewski/status/1411362184286937097', 'https://twitter.com/oftendepp/status/1411385891029979141', 'https://twitter.com/DeszczowyPetrus/status/1411369222735859716', 'https://twitter.com/miszelaaa/status/1411385010330931202', 'https://twitter.com/MichalOleksyn/status/1411384764439875591', 'https://twitter.com/SvetlanaSpero1/status/1411384989879615492', 'https://twitter.com/Waldi99793949/status/1411366435536969730', 'https://twitter.com/PogodaMeteo/status/1411355153307951114', 'https://twitter.com/Michal_Sawich/status/1411364214728495106', 'https://twitter.com/PogodaMeteo/status/1411355232324423683', 'https://twitter.com/horanensy/status/1411384923827720194', 'https://twitter.com/fmennita/status/1411379970962870281', 'https://twitter.com/dumbafalex/status/1411379690904899587', 'https://twitter.com/BrygadzistaKazu/status/1411382327851237380', 'https://twitter.com/PogodaMeteo/status/1411379227316867076', 'https://twitter.com/downoro/status/1411354089812901895', 'https://twitter.com/PKudrel/status/1411381928012431361', 'https://twitter.com/snufkin333/status/1411365448684351493', 'https://twitter.com/AdamDee_ASD/status/1411368761936986116', 'https://twitter.com/rosellinemia/status/1411365035373436937', 'https://twitter.com/Andrzej55506909/status/1411358925534814208', 'https://twitter.com/12_basia666/status/1411366658699108352', 'https://twitter.com/ariimorre/status/1411357215873712132', 'https://twitter.com/GGanszczyk/status/1411377213816115201', 'https://twitter.com/zinnegoswiata/status/1411364305707143170', 'https://twitter.com/AgnieszkaBP/status/1411374620683423747', 'https://twitter.com/huntzbergerbaby/status/1411377165862637570', 'https://twitter.com/Mirka1966/status/1411380286735192064', 'https://twitter.com/tanazwatodrwina/status/1411366846536814594', 'https://twitter.com/martwe_nenufary/status/1411353557371138062', 'https://twitter.com/defencelesssoul/status/1411384278601064450', 'https://twitter.com/mouniphilos/status/1411352426444115970', 'https://twitter.com/HaniaKoz/status/1411358272779689988', 'https://twitter.com/Victoria_xo74/status/1411356202634723329', 'https://twitter.com/littled76513435/status/1411384217288810496', 'https://twitter.com/LechNowacki/status/1411366868582031364', 'https://twitter.com/oracz_mariusz/status/1411369233964015616', 'https://twitter.com/Julka4101/status/1411357043227774979', 'https://twitter.com/6cfih8hf6/status/1411383827650523137', 'https://twitter.com/rsokolowski0072/status/1411363675521392651', 'https://twitter.com/MuMiMa74/status/1411377288801816577', 'https://twitter.com/Principessa_306/status/1411381515456585730', 'https://twitter.com/minionekcharlsa/status/1411361675308060676', 'https://twitter.com/buryszatan/status/1411337784271507461', 'https://twitter.com/Paula281508/status/1411313911228416000', 'https://twitter.com/seta163/status/1411350997272829959', 'https://twitter.com/lifeisstilltooh/status/1411344268682203140', 'https://twitter.com/qatera3/status/1411347549663924228', 'https://twitter.com/SlodkiMaluszek/status/1411336051474452480', 'https://twitter.com/Destrooyaa/status/1411349931797925892', 'https://twitter.com/e3quanimity/status/1411332052927066125', 'https://twitter.com/stalkerkq/status/1411327880798294020', 'https://twitter.com/Maria30408155/status/1411312508133064706', 'https://twitter.com/Krzyszt09789658/status/1411313980040175617', 'https://twitter.com/Wiki_moto/status/1411317551943069696', 'https://twitter.com/illbeveryangora/status/1411327033397833728', 'https://twitter.com/JaroWart/status/1411317630724620288', 'https://twitter.com/weee_veeeee/status/1411326757463113730', 'https://twitter.com/car00x/status/1411309276921057284', 'https://twitter.com/Blackrose4557/status/1411334541789257737', 'https://twitter.com/PogodaMeteo/status/1411333948978966530', 'https://twitter.com/DamianLebuda14/status/1411338314704207873', 'https://twitter.com/pollini77/status/1411327407651495938', 'https://twitter.com/arivluv/status/1411351848804569089', 'https://twitter.com/patisierka/status/1411335577442689028', 'https://twitter.com/czkld/status/1411332822997127174', 'https://twitter.com/vv1v__/status/1411312538948620290', 'https://twitter.com/karmatsheringza/status/1411347891520782345', 'https://twitter.com/piotr8193/status/1411348164444049408', 'https://twitter.com/biebrrus/status/1411321467539755010', 'https://twitter.com/AlarmNds/status/1411344472860991490', 'https://twitter.com/slodkavictoria/status/1411327412391002117', 'https://twitter.com/bailaensol/status/1411320397476380673', 'https://twitter.com/nigdydom/status/1411339882627219458', 'https://twitter.com/PogodaMeteo/status/1411326126815907848', 'https://twitter.com/__czupakabra/status/1411315739408076806', 'https://twitter.com/iiloveumydear/status/1411318891226308608', 'https://twitter.com/kulabab/status/1411314335264219140', 'https://twitter.com/me_guapa/status/1411315621745377280', 'https://twitter.com/dzemwisni0wy_/status/1411314021433810948', 'https://twitter.com/dansexmacabrex/status/1411318751061057537', 'https://twitter.com/nachujjazyje/status/1411332811773169669', 'https://twitter.com/chjniazgrzybnia/status/1411326647270264833', 'https://twitter.com/PrzyjacielIPP/status/1411343900116148229', 'https://twitter.com/bogo141/status/1411318274193825804', 'https://twitter.com/Opuncja33/status/1411321955177963525', 'https://twitter.com/k_2new/status/1411320574962458632', 'https://twitter.com/domiqekk/status/1411320229486075910', 'https://twitter.com/KrysiaBurawska/status/1411315911336857603', 'https://twitter.com/Roslonski1993/status/1411309103314575364', 'https://twitter.com/rzedowska/status/1411321151570198528', 'https://twitter.com/rakowski_stefan/status/1411317997092884488', 'https://twitter.com/mevequeen/status/1411318822087315460', 'https://twitter.com/virusyana/status/1411346211743748099', 'https://twitter.com/tEyM1ketinZMNG8/status/1411321075976257540', 'https://twitter.com/http0angell/status/1411348263463161860', 'https://twitter.com/sophielikefood1/status/1411315479914991627', 'https://twitter.com/JacekHutyra/status/1411322704721059846', 'https://twitter.com/JUrbaniuk/status/1411333043059625990', 'https://twitter.com/jaboja/status/1411347438611357697', 'https://twitter.com/HubertCiurus/status/1411317367406313475', 'https://twitter.com/StecSlawomir/status/1411339191196213252', 'https://twitter.com/happymemoory/status/1411336324762816517', 'https://twitter.com/marysiiaxx/status/1411351888520433667', 'https://twitter.com/PPE_pl/status/1411323856053223429', 'https://twitter.com/justlikelou_h/status/1411320185626238982', 'https://twitter.com/polapaolaa/status/1411315560370089990', 'https://twitter.com/zimneskarpetki/status/1411313833742946313', 'https://twitter.com/wonderglow_/status/1411320579257507841', 'https://twitter.com/kudirkos/status/1411327523879886850', 'https://twitter.com/AgroNews1/status/1411324139324035079', 'https://twitter.com/kliszawwannie/status/1411346174326476804', 'https://twitter.com/xurlover/status/1411273342712176643', 'https://twitter.com/1T4CHI_/status/1411291208811433988', 'https://twitter.com/wittarkowski/status/1411305500566822915', 'https://twitter.com/dwxronikv/status/1411276045366538240', 'https://twitter.com/zabawstawie/status/1411285017398067202', 'https://twitter.com/szachmad/status/1411275757528227842', 'https://twitter.com/AKotarba/status/1411289270325760005', 'https://twitter.com/martwanaturaa/status/1411290823048810496', 'https://twitter.com/damiandiazpl/status/1411284585200197633', 'https://twitter.com/FMargaryna/status/1411302833383788549', 'https://twitter.com/Woit_1900/status/1411274260467826691', 'https://twitter.com/dudeareyouokey/status/1411273657280835587', 'https://twitter.com/cutedream29/status/1411273495909109761', 'https://twitter.com/PMarciniak_/status/1411290541074038790', 'https://twitter.com/uga_buga_hmx2/status/1411284847516073985', 'https://twitter.com/lourrieee/status/1411307154829725697', 'https://twitter.com/EkoWiosna/status/1411301685050458112', 'https://twitter.com/Anna94086140/status/1411277129715748866', 'https://twitter.com/woochiann/status/1411278869080989698', 'https://twitter.com/misfiredarling/status/1411287344360132612', 'https://twitter.com/Dorota_2017/status/1411286348313530370', 'https://twitter.com/AnnaKargul1/status/1411284479159771140', 'https://twitter.com/spilltheteaq/status/1411297550028750850', 'https://twitter.com/Potwornicka/status/1411298255049314304', 'https://twitter.com/soboontome/status/1411281852665675777', 'https://twitter.com/MazurKrzysztof/status/1411283996638654470', 'https://twitter.com/Heavylateskam/status/1411287018236256256', 'https://twitter.com/dariaracdar/status/1411290066064904192', 'https://twitter.com/mrowczan/status/1411291531718373377', 'https://twitter.com/XYZPawel/status/1411299720799137794', 'https://twitter.com/Marcin_Pozn/status/1411292413520486400', 'https://twitter.com/iw_onab/status/1411303320820592642', 'https://twitter.com/bibilinka_/status/1411274150010830848', 'https://twitter.com/ZBandyta/status/1411285504918798337', 'https://twitter.com/boguslawa21/status/1411275800935010309', 'https://twitter.com/socjalizqcja/status/1411285376635920385', 'https://twitter.com/Energetyka_24/status/1411294148859088896', 'https://twitter.com/jajacek801/status/1411279193355206656', 'https://twitter.com/em_hadel/status/1411302991412531200', 'https://twitter.com/Franaszek/status/1411280934901633027', 'https://twitter.com/kometusa_/status/1411305293015826440', 'https://twitter.com/grazynasienk/status/1411275436701720578', 'https://twitter.com/jarkono/status/1411274142549221381', 'https://twitter.com/Maria30408155/status/1411289234955190276', 'https://twitter.com/_k00rnela_/status/1411298227270438914', 'https://twitter.com/haloszczupak/status/1411277348637495299', 'https://twitter.com/86Yennefer/status/1411293953513725954', 'https://twitter.com/aesthetignis/status/1411305418664689667', 'https://twitter.com/hom3_run/status/1411273630923776005', 'https://twitter.com/Anna323333/status/1411308244472107011', 'https://twitter.com/ohmymissalexia/status/1411307690727518209', 'https://twitter.com/krzysztowawruch/status/1411281770033647622', 'https://twitter.com/Twoja_Venus/status/1411288890393124865', 'https://twitter.com/PogodaMeteo/status/1411288629876568068', 'https://twitter.com/MP_Panek/status/1411301979427676163', 'https://twitter.com/KateDzieckoNocy/status/1411295923683082248', 'https://twitter.com/olsenxstan/status/1411302267102322692', 'https://twitter.com/luxbambi/status/1411300381460684800', 'https://twitter.com/marekirena/status/1411271755050672130', 'https://twitter.com/gabsal0n/status/1411307942620585984', 'https://twitter.com/damnxmatty/status/1411289417839480835', 'https://twitter.com/PiotrStrzembosz/status/1411276950744797190', 'https://twitter.com/Waheela3/status/1411304696715911170', 'https://twitter.com/KtoToWie2/status/1411278323469144068', 'https://twitter.com/MarioAwario/status/1411274913869086721', 'https://twitter.com/dry_red/status/1411278286651641857', 'https://twitter.com/HaroldisHorse/status/1411302360165584899', 'https://twitter.com/KLubnauer/status/1411273519875465216', 'https://twitter.com/guideU13/status/1411286249978146817', 'https://twitter.com/dvrkmoonyx/status/1411294502506184706', 'https://twitter.com/humorgituwaa/status/1411288424749875203', 'https://twitter.com/Astall5/status/1411293759753621506', 'https://twitter.com/PolskiPOPIS/status/1411279559962603520', 'https://twitter.com/Maaaaaarcin/status/1411299917549735938', 'https://twitter.com/PiotrBayonne/status/1411292826386718720', 'https://twitter.com/1como/status/1411274043941015554', 'https://twitter.com/alexinexenne/status/1411307451333349382', 'https://twitter.com/_xjulaaxx_/status/1411304598443286531', 'https://twitter.com/maslopalmowe/status/1411273902937055233', 'https://twitter.com/cocaskey/status/1411279509295411200', 'https://twitter.com/IrenaBuzarewicz/status/1411301893159202821', 'https://twitter.com/Marta22363932/status/1411242642877390850', 'https://twitter.com/otoWojciech/status/1411240557976952832', 'https://twitter.com/Gornik1956/status/1411248591792975876', 'https://twitter.com/RafalSmardz/status/1411247410152624130', 'https://twitter.com/tupki60/status/1411246633321472001', 'https://twitter.com/dorot_dorota/status/1411267933184086018', 'https://twitter.com/yapierrr/status/1411240875544428545', 'https://twitter.com/Rysiek76102827/status/1411269690350084098', 'https://twitter.com/eloCosiek/status/1411268255516442626', 'https://twitter.com/BParyska/status/1411264634963861505', 'https://twitter.com/KatarzynaLiwia/status/1411248865894928385', 'https://twitter.com/mefistofelleess/status/1411259782158295040', 'https://twitter.com/andipat100/status/1411259451995213826', 'https://twitter.com/Maria55286820/status/1411258750372040707', 'https://twitter.com/PaweGra1/status/1411260298254749698', 'https://twitter.com/AdamBoratynski/status/1411269562331447298', 'https://twitter.com/jakub_rebus111/status/1411241552677122049', 'https://twitter.com/JoannaMandrosz/status/1411255643059765248', 'https://twitter.com/kukashnjudster/status/1411263075169226752', 'https://twitter.com/MarcinMatus/status/1411242622627332098', 'https://twitter.com/KoneserUnii/status/1411256451587321858', 'https://twitter.com/hype_and_space/status/1411267355167051784', 'https://twitter.com/PanWKratke/status/1411253302180945927', 'https://twitter.com/minutebyevak/status/1411247181886013449', 'https://twitter.com/kaha_katarzyna/status/1411248852032757766', 'https://twitter.com/PogodaMeteo/status/1411243340046163969', 'https://twitter.com/DamianLebuda14/status/1411247509364695041', 'https://twitter.com/MilosawReczek/status/1411261507095216128', 'https://twitter.com/VoytasLicho/status/1411263801115172868', 'https://twitter.com/xluvhoranx/status/1411255392068325380', 'https://twitter.com/samuelnowak/status/1411263102298083328', 'https://twitter.com/sanfelipe2019/status/1411267413149065221', 'https://twitter.com/polskawruinie2/status/1411264645457973249', 'https://twitter.com/thanyazw/status/1411257592983261184', 'https://twitter.com/BJozwiakUPR/status/1411240283883331586', 'https://twitter.com/MarioAwario/status/1411256773701423105', 'https://twitter.com/ApickiKrzysztof/status/1411241620226285568', 'https://twitter.com/milkyyu_/status/1411251897869160449', 'https://twitter.com/Agnieszka_Dk/status/1411253108366352386', 'https://twitter.com/budowa123/status/1411266125464313856', 'https://twitter.com/Marcin111080/status/1411244233822982146', 'https://twitter.com/granum_salis1/status/1411264660385456129', 'https://twitter.com/dansliw/status/1411266162625818624', 'https://twitter.com/b_popielarz/status/1411253849659215873', 'https://twitter.com/BParyska/status/1411264670397255681', 'https://twitter.com/NiezOmna/status/1411268412114931714', 'https://twitter.com/a_g_kaw/status/1411264607822520321', 'https://twitter.com/bazyL82/status/1411258820526018560', 'https://twitter.com/flowerrebelmars/status/1411263754256498688', 'https://twitter.com/BFajferek/status/1411249109131051011', 'https://twitter.com/S_WLasik/status/1411245405522825216', 'https://twitter.com/r_groniak/status/1411249191523950596', 'https://twitter.com/cardamipratens/status/1411267346124181504', 'https://twitter.com/whitevcloud/status/1411270820937318403', 'https://twitter.com/PogodaMeteo/status/1411271320273395712', 'https://twitter.com/straszny1982/status/1411239534298284034', 'https://twitter.com/wiegoss/status/1411264276858294274', 'https://twitter.com/IPrlbis/status/1411265185520787459', 'https://twitter.com/Aniaa_a_a/status/1411258463842410499', 'https://twitter.com/kisswithbrad/status/1411260360091475968', 'https://twitter.com/JomKippur/status/1411271410304028673', 'https://twitter.com/MaciejMarkiew16/status/1411259738797531136', 'https://twitter.com/LewaStronaMocy/status/1411270117825159172', 'https://twitter.com/x_zelkowa_x/status/1411240788709761025', 'https://twitter.com/GChocian/status/1411241362876506114', 'https://twitter.com/MilosawReczek/status/1411261742005559296', 'https://twitter.com/1917Apach/status/1411262415837204489', 'https://twitter.com/agulecx/status/1411271435885158404', 'https://twitter.com/Henryk_Wilt/status/1411245932683857920', 'https://twitter.com/xiuminseokvibes/status/1411242836108926979', 'https://twitter.com/ManOfWorseSort/status/1411255684075753472', 'https://twitter.com/fittiza/status/1411256852155875329', 'https://twitter.com/lavismy/status/1411242726184599552', 'https://twitter.com/PogodaMeteo/status/1411271335167381505', 'https://twitter.com/Baska1004/status/1411256996788060163', 'https://twitter.com/Michal_Sestero/status/1411243563178942464', 'https://twitter.com/mirko85pl/status/1411263065086124037', 'https://twitter.com/Cathedral26/status/1411260177597308932', 'https://twitter.com/OkropnyUrwis/status/1411255192931164164', 'https://twitter.com/RychuMotowidlak/status/1411243305409593345', 'https://twitter.com/macieksoczynski/status/1411248708683972609', 'https://twitter.com/PiotrWarszawski/status/1411259020858564608', 'https://twitter.com/agnieszkahana/status/1411242993881948161', 'https://twitter.com/misfiredarling/status/1411242513797718020', 'https://twitter.com/Adonis1141/status/1411193965597052928', 'https://twitter.com/FrytaZiemniak/status/1411230560396136448', 'https://twitter.com/HerbertWest137/status/1411232305448955906', 'https://twitter.com/krytyka/status/1411213348885221376', 'https://twitter.com/granty_pl/status/1411232602627923974', 'https://twitter.com/Antykaczor1/status/1411237775278497793', 'https://twitter.com/rudek_mirosaw/status/1411226812370280453', 'https://twitter.com/Rencor19/status/1411229884798717953', 'https://twitter.com/goldeniara28/status/1411199642818289664', 'https://twitter.com/Alejancz/status/1411222537300856835', 'https://twitter.com/KaH68519421/status/1411222421873516547', 'https://twitter.com/PogodaMeteo/status/1411192414803480577', 'https://twitter.com/porarelaksu1111/status/1411232151073402884', 'https://twitter.com/Antek11122083/status/1411237590016081920', 'https://twitter.com/xatikn/status/1411235533875994627', 'https://twitter.com/MarekWojtaszek/status/1411200748138942469', 'https://twitter.com/malpawzielonym/status/1411232567467118594', 'https://twitter.com/Matt_Klosky/status/1411204003640266752', 'https://twitter.com/ewikatoja/status/1411197251217723393', 'https://twitter.com/ha55an_o2/status/1411227104608411648', 'https://twitter.com/AndIntra/status/1411211262969659392', 'https://twitter.com/charlotte_176/status/1411222821456551940', 'https://twitter.com/BurasMarula/status/1411222392937095168', 'https://twitter.com/po320kn/status/1411217039818113026', 'https://twitter.com/WiktorKolumb/status/1411225695590756352', 'https://twitter.com/PogodaMeteo/status/1411219357729017857', 'https://twitter.com/MilczyDusza/status/1411222824732213250', 'https://twitter.com/majaka60/status/1411229302058782720', 'https://twitter.com/STYLESISHERO/status/1411211359090532352', 'https://twitter.com/UHamadyk/status/1411239199337062400', 'https://twitter.com/martka1725/status/1411211528360058882', 'https://twitter.com/PogodaMeteo/status/1411211546596937728', 'https://twitter.com/PogodaMeteo/status/1411198043244969984', 'https://twitter.com/ZbBirch/status/1411223625773064193', 'https://twitter.com/hueningkaimc/status/1411219329086070785', 'https://twitter.com/PDulias/status/1411193972165390336', 'https://twitter.com/Mrozo/status/1411222071678582784', 'https://twitter.com/Marta35493150/status/1411205490370088960', 'https://twitter.com/JantarekB/status/1411198711858860034', 'https://twitter.com/MarekJozefiak/status/1411235232716673031', 'https://twitter.com/EwaSmietanka/status/1411236737259560962', 'https://twitter.com/tomaawroblewski/status/1411193596347310089', 'https://twitter.com/CzerwonyKat/status/1411214363046916097', 'https://twitter.com/TkaCicho/status/1411200412737286145', 'https://twitter.com/SongMun67/status/1411198806406934528', 'https://twitter.com/BrataPanPozdrow/status/1411232610970394624', 'https://twitter.com/Potwornicka/status/1411234092763516931', 'https://twitter.com/MeteoprognozaPL/status/1411216768023117825', 'https://twitter.com/MariuszJagora/status/1411238992029364227', 'https://twitter.com/lovemymomrry/status/1411238533814231041', 'https://twitter.com/ELZBIETAO/status/1411201166516555776', 'https://twitter.com/ElektrowniaPV/status/1411239251057033217', 'https://twitter.com/absprawa/status/1411196714892107779', 'https://twitter.com/Mateusz55628522/status/1411238303450402818', 'https://twitter.com/PawelPawlaczyk/status/1411220768357224452', 'https://twitter.com/Tempelhof13/status/1411194188788609027', 'https://twitter.com/ZiokSlawomir/status/1411201397132087296', 'https://twitter.com/Red_xmi/status/1411205570347081728', 'https://twitter.com/mariuszem1/status/1411204975452119040', 'https://twitter.com/Lidia48334525/status/1411217163663417345', 'https://twitter.com/PDzienisiewicz/status/1411220628083032064', 'https://twitter.com/GSwierczynska/status/1411196826716413953', 'https://twitter.com/MStempin/status/1411224233955450880', 'https://twitter.com/edek_antyPO/status/1411225362038771713', 'https://twitter.com/Jerzy55794015/status/1411202097652060161', 'https://twitter.com/punzolover/status/1411214297519243264', 'https://twitter.com/emilka3_/status/1411228532844421120', 'https://twitter.com/wweed17/status/1411214032527372291', 'https://twitter.com/pkgrabowski/status/1411207115788652544', 'https://twitter.com/magdalenamisia1/status/1411216298374217729', 'https://twitter.com/astonhedge/status/1411226949284999170', 'https://twitter.com/Woit_1900/status/1411194607325569025', 'https://twitter.com/PawelChojecki/status/1411223912864751622', 'https://twitter.com/AndrzejTurczyn/status/1411205172001398787', 'https://twitter.com/PogodaMeteo/status/1411192422315565060', 'https://twitter.com/JerzyBroniszews/status/1411211156392456202', 'https://twitter.com/GEOFIZYKA_PL/status/1411221543980576769', 'https://twitter.com/KapPawe/status/1411203588370612226', 'https://twitter.com/MszczujZe/status/1411209891897823234', 'https://twitter.com/LOCALPLAYcom/status/1411234879451406336', 'https://twitter.com/JKowalik11/status/1411203982673027072', 'https://twitter.com/piotra261/status/1411233384215482372', 'https://twitter.com/Agnieszka1957/status/1411223452565000192', 'https://twitter.com/kubasplay/status/1411226135447408642', 'https://twitter.com/tomasz197701/status/1411195507859394562', 'https://twitter.com/FunkyKovaI/status/1411201361941774338', 'https://twitter.com/pitterser/status/1411236970920087555', 'https://twitter.com/PaniaMania/status/1411065048693415939', 'https://twitter.com/Miron644/status/1411057810981507076', 'https://twitter.com/Wojciec007/status/1411095949984817155', 'https://twitter.com/PogodaMeteo/status/1411158145888567297', 'https://twitter.com/PogodaMeteo/status/1411172165743955968', 'https://twitter.com/MirowskiPawel/status/1411061409086164997', 'https://twitter.com/wojtek1425/status/1411046095166267395', 'https://twitter.com/pawwoj1/status/1411040672337993728', 'https://twitter.com/Anakreontyk/status/1411054695607570440', 'https://twitter.com/Clawovsky/status/1411044176662249475', 'https://twitter.com/PogodaMeteo/status/1411192289704226817', 'https://twitter.com/PogodaMeteo/status/1411192401138536449', 'https://twitter.com/ad0reluv/status/1411052858565443588', 'https://twitter.com/Wili665251/status/1411053563699212292', 'https://twitter.com/dzieckorowerowe/status/1411046009497690112', 'https://twitter.com/PStarzyk/status/1411059791976407049', 'https://twitter.com/PogodaMeteo/status/1411191014979739649', 'https://twitter.com/JULIQQX/status/1411041900770086914', 'https://twitter.com/danganholic/status/1411059509011812352', 'https://twitter.com/TomLok3/status/1411072125650321411', 'https://twitter.com/szatko80/status/1411184058881785856', 'https://twitter.com/dittroid/status/1411089972061429764', 'https://twitter.com/pajak_sebastian/status/1411054515646763014', 'https://twitter.com/Thomas15254257/status/1411107451550801920', 'https://twitter.com/ukasz_krysiak/status/1411044316093550593', 'https://twitter.com/carolus789/status/1411138834448924677', 'https://twitter.com/jonyszko1978/status/1411067632195883009', 'https://twitter.com/PogodaMeteo/status/1411172561933774851', 'https://twitter.com/artkarpinski/status/1411042186796355590', 'https://twitter.com/Halusia10/status/1411041862773886977', 'https://twitter.com/DomMi_n/status/1411068584651104256', 'https://twitter.com/Bakeneko_nah/status/1411086238896082957', 'https://twitter.com/melodroms/status/1411050895610204161', 'https://twitter.com/PogodaMeteo/status/1411188843169075200', 'https://twitter.com/PogodaMeteo/status/1411172175944601605', 'https://twitter.com/RadiowaTrojka/status/1411127555005034496', 'https://twitter.com/gownianasprawa/status/1411063638367014912', 'https://twitter.com/justadmirelouis/status/1411069849896431616', 'https://twitter.com/DLidzbarski/status/1411068289296502786', 'https://twitter.com/xtrixiexo/status/1411043194846990337', 'https://twitter.com/Dziwny_czlek2/status/1411061750468911104', 'https://twitter.com/JoliooSkox/status/1411067456630792193', 'https://twitter.com/PogodaMeteo/status/1411180452136865792', 'https://twitter.com/v_oycieh/status/1411101796962086912', 'https://twitter.com/BartofficialPL/status/1411070886891958276', 'https://twitter.com/GreenpeaceCott1/status/1411122250166714375', 'https://twitter.com/PogodaMeteo/status/1411062142749532164', 'https://twitter.com/bluntybear/status/1411048622318407682', 'https://twitter.com/kwiatowymiod/status/1411062872470429697', 'https://twitter.com/charlotte_176/status/1411059913107849221', 'https://twitter.com/PogodaMeteo/status/1411152737350393856', 'https://twitter.com/ZduniakKrystian/status/1411041950137004038', 'https://twitter.com/KamykKamol/status/1411100794997387264', 'https://twitter.com/ada_dudek/status/1411057670027632646', 'https://twitter.com/whitevcloud/status/1411050212966162437', 'https://twitter.com/Ewykaa_/status/1411051182257229824', 'https://twitter.com/omgoliwiaa/status/1411055001837965313', 'https://twitter.com/Fejkenn/status/1411084298850078722', 'https://twitter.com/pizdus_plastus/status/1411079188031938560', 'https://twitter.com/DziennikPL/status/1411041502159986688', 'https://twitter.com/PogodaMeteo/status/1411067417728630784', 'https://twitter.com/gayakaviolet/status/1411146161717657607', 'https://twitter.com/bobik314/status/1411039382577074176', 'https://twitter.com/MagdalenaOrslow/status/1411133669645946886', 'https://twitter.com/_nirvanarnia/status/1411112057785700357', 'https://twitter.com/PogodaMeteo/status/1411188851528376324', 'https://twitter.com/PogodaMeteo/status/1411191006062653443', 'https://twitter.com/HanterPoen/status/1411049129032269829', 'https://twitter.com/natalia_kita/status/1411049506397954048', 'https://twitter.com/roniaxd/status/1411188792158007305', 'https://twitter.com/PogodaMeteo/status/1411172150124466177', 'https://twitter.com/AlcatrazKKSLech/status/1411052654407696391', 'https://twitter.com/PogodaMeteo/status/1411190997690769411', 'https://twitter.com/PogodaMeteo/status/1411107454897856515', 'https://twitter.com/aslimak1/status/1411079682867539973', 'https://twitter.com/majaka60/status/1411058511174422531', 'https://twitter.com/sonia_panek/status/1411017872122449921', 'https://twitter.com/MarekJozefiak/status/1410963815504789507', 'https://twitter.com/GGanszczyk/status/1410977147376766980', 'https://twitter.com/Ania24724952/status/1410993241168691210', 'https://twitter.com/WeTookaChonce88/status/1411029942452817929', 'https://twitter.com/LuxLylyth/status/1411009208867295236', 'https://twitter.com/bogdan_bdg/status/1410963121632591879', 'https://twitter.com/Greenpeace_PL/status/1410981147954356228', 'https://twitter.com/PogodaMeteo/status/1411016852310986758', 'https://twitter.com/SmogLab/status/1410979943576748037', 'https://twitter.com/shanksiara/status/1410968426311471108', 'https://twitter.com/ilyweed420x/status/1411014058812313601', 'https://twitter.com/yeji1love/status/1410971974197731328', 'https://twitter.com/_kanciara/status/1411027906407567363', 'https://twitter.com/jebactwojastara/status/1410995754680864776', 'https://twitter.com/StaryObserwator/status/1410988589584891909', 'https://twitter.com/gilotyna815/status/1410960063699861505', 'https://twitter.com/pawelpreneta/status/1410959017057337348', 'https://twitter.com/ewusz82/status/1410967098466131971', 'https://twitter.com/ZWaleszyski/status/1410986036184895493', 'https://twitter.com/krytyka/status/1410961509291790336', 'https://twitter.com/duke_unreal/status/1411029777436315649', 'https://twitter.com/k_swislowski/status/1410994401791418371', 'https://twitter.com/MKiS_GOV_PL/status/1410965749754208261', 'https://twitter.com/xtiredsunx/status/1410978512920514560', 'https://twitter.com/PiotrJab2/status/1410979947871719425', 'https://twitter.com/ania18035/status/1410985719913406465', 'https://twitter.com/GraziSzym/status/1410960904628355085', 'https://twitter.com/socjalistyczna/status/1410958969175224320', 'https://twitter.com/StGawlowski/status/1410989176888172546', 'https://twitter.com/RudaZolza2106/status/1410990347577143298', 'https://twitter.com/dyzma_endrju/status/1410987985265385472', 'https://twitter.com/Darek_Michniak/status/1410986407292813312', 'https://twitter.com/PogodaMeteo/status/1410963753194164228', 'https://twitter.com/WolnyCzlek/status/1411010972043653120', 'https://twitter.com/wilhelm_mure/status/1410993905252904960', 'https://twitter.com/PracowniaBystra/status/1410972565733052418', 'https://twitter.com/jzoledziowska/status/1410961177362972674', 'https://twitter.com/krytyka/status/1410989071137128452', 'https://twitter.com/Libertarianin_/status/1410962675954298887', 'https://twitter.com/Kropka95934454/status/1411036608799911937', 'https://twitter.com/AleksandraWa7/status/1411015288049573891', 'https://twitter.com/pawelkowalpl/status/1410955155579809798', 'https://twitter.com/SBrycki/status/1410983189854797824', 'https://twitter.com/truesmajl/status/1410965482761601034', 'https://twitter.com/Marek_Dabkowski/status/1410955206565797893', 'https://twitter.com/sassyfucklinson/status/1410998459302359046', 'https://twitter.com/JadowitaMeduza/status/1410976819382214657', 'https://twitter.com/mjpyrg/status/1411013554484957184', 'https://twitter.com/Nam8Dana/status/1410996414705025026', 'https://twitter.com/krystynakryst13/status/1410967009928622085', 'https://twitter.com/efroniara/status/1410997910616039432', 'https://twitter.com/jadespurpose/status/1410959836305633281', 'https://twitter.com/suiivie/status/1411001017592860675', 'https://twitter.com/_noitaer/status/1411016372428156931', 'https://twitter.com/H_Berbelek/status/1410981564431937542', 'https://twitter.com/milczacykrytyk/status/1411020647535362048', 'https://twitter.com/_Jasmine_Ook/status/1411031387159896064', 'https://twitter.com/WashaAgnes/status/1410960578097684480', 'https://twitter.com/DS4d1n/status/1410963495991099392', 'https://twitter.com/PogodaMeteo/status/1410971547213385729', 'https://twitter.com/mikolajewski_a/status/1411000491958538240', 'https://twitter.com/FundacjaRTON/status/1411003233741545473', 'https://twitter.com/asegPL/status/1410960114174005256', 'https://twitter.com/MGumulski/status/1410963902112927747', 'https://twitter.com/ruggeftlouis/status/1411033298713911296', 'https://twitter.com/PogodaMeteo/status/1410992526530654211', 'https://twitter.com/marzenaliliana/status/1411020472532324353', 'https://twitter.com/Greg16249397/status/1411020056532819968', 'https://twitter.com/Wiciass/status/1411014762847215619', 'https://twitter.com/ClientEarth_PL/status/1410972455326433280', 'https://twitter.com/byganeimperio/status/1410961957390274566', 'https://twitter.com/AwZmijewski/status/1411002582588399631', 'https://twitter.com/Ireneusz_Zyska/status/1410979853109809157', 'https://twitter.com/PracowniaBystra/status/1410973881846972421', 'https://twitter.com/im_random_okk/status/1410996285931413507', 'https://twitter.com/EcznySpo/status/1411030823617417218', 'https://twitter.com/PracowniaBystra/status/1410963312066633730', 'https://twitter.com/PogodaMeteo/status/1410992716750757900', 'https://twitter.com/PogodaMeteo/status/1410992737118208000', 'https://twitter.com/renatagawlow/status/1410989249864810502', 'https://twitter.com/v_oycieh/status/1411013971214225411', 'https://twitter.com/AgroNews1/status/1410960083970891783', 'https://twitter.com/RychuMotowidlak/status/1410991256814198786', 'https://twitter.com/wisniewski_pawe/status/1410962723899387912', 'https://twitter.com/999nob0dy/status/1411005965428789252', 'https://twitter.com/goldeniara28/status/1410901180566364160', 'https://twitter.com/BarbaraRogala4/status/1410952795075788800', 'https://twitter.com/BiznesAlert/status/1410893716798115841', 'https://twitter.com/boskismak/status/1410925939161239557', 'https://twitter.com/5Commando/status/1410954397312487425', 'https://twitter.com/PanDibbler/status/1410942052683157505', 'https://twitter.com/StudiumObywatel/status/1410875600101851139', 'https://twitter.com/OnlyMroz/status/1410952627064651778', 'https://twitter.com/mati13051/status/1410926123492548609', 'https://twitter.com/MGumulski/status/1410934019953508353', 'https://twitter.com/justadmirelouis/status/1410939020847337483', 'https://twitter.com/PStrzalkowski/status/1410922850341560320', 'https://twitter.com/el_polacco/status/1410931152756613120', 'https://twitter.com/DominikaLasota1/status/1410922983733010436', 'https://twitter.com/t_szykulski/status/1410954667245309953', 'https://twitter.com/Dawidmx1/status/1410915813943648260', 'https://twitter.com/jakukaz23/status/1410891574091956226', 'https://twitter.com/RudaZolza2106/status/1410877220424499202', 'https://twitter.com/MFIPR_GOV_PL/status/1410940420306178051', 'https://twitter.com/MarekJozefiak/status/1410946048391061511', 'https://twitter.com/boghz91/status/1410920123045666816', 'https://twitter.com/TakeGie/status/1410920016254492679', 'https://twitter.com/BrataPanPozdrow/status/1410939388897509384', 'https://twitter.com/FundacjaRTON/status/1410889024227717122', 'https://twitter.com/PogodaMeteo/status/1410908993757798401', 'https://twitter.com/fundacja_fewe/status/1410927920311308290', 'https://twitter.com/Pawel_Lachman/status/1410906879858032647', 'https://twitter.com/marecelek/status/1410882634838908931', 'https://twitter.com/lukasz_lange/status/1410930571337949186', 'https://twitter.com/Robert62364869/status/1410917273548869633', 'https://twitter.com/begriffstuetzig/status/1410932761632837633', 'https://twitter.com/a_Brzozka/status/1410897419974463491', 'https://twitter.com/PogodaMeteo/status/1410880959856136194', 'https://twitter.com/Mikolajczyk_CJ/status/1410898126605533187', 'https://twitter.com/TurekZbig/status/1410927613569294336', 'https://twitter.com/IFJanicka/status/1410899280735449090', 'https://twitter.com/TVTrend2/status/1410878519337435136', 'https://twitter.com/Grupa_PGE/status/1410893788856397824', 'https://twitter.com/Jirzi2/status/1410948750730743809', 'https://twitter.com/AlarmNds/status/1410892591000862720', 'https://twitter.com/Volleyworl/status/1410901021853839363', 'https://twitter.com/QbaMkn86/status/1410886146003963907', 'https://twitter.com/cozaclown/status/1410891011916812288', 'https://twitter.com/BarbaraRogala4/status/1410952726767407106', 'https://twitter.com/littlemenace69/status/1410915460539994112', 'https://twitter.com/MarekObuchowsk1/status/1410930912888512512', 'https://twitter.com/M_Wawrzynowski/status/1410894454920200192', 'https://twitter.com/wfosigw_lublin/status/1410894898283307008', 'https://twitter.com/t_szykulski/status/1410954709565947906', 'https://twitter.com/StudiumObywatel/status/1410876252546818048', 'https://twitter.com/armada_majje/status/1410884653557424130', 'https://twitter.com/MeteoprognozaPL/status/1410893323125075970', 'https://twitter.com/KrzysztofKubon/status/1410876429898862593', 'https://twitter.com/Brulion92/status/1410939149314576386', 'https://twitter.com/RSzejny/status/1410941676806365189', 'https://twitter.com/ciotkarewolucji/status/1410884080107929603', 'https://twitter.com/MarekWieczerzak/status/1410894857871269893', 'https://twitter.com/Cynamonkaa/status/1410897829623644160', 'https://twitter.com/ssadbadass/status/1410930395105878019', 'https://twitter.com/jasniepanna/status/1410881855939829761', 'https://twitter.com/PogodaMeteo/status/1410926262860849153', 'https://twitter.com/MKiS_GOV_PL/status/1410894673439297539', 'https://twitter.com/300gospodarka/status/1410913042544709632', 'https://twitter.com/CandyMoontliter/status/1410916764544901127', 'https://twitter.com/GrantsOfficeEur/status/1410896304184729600', 'https://twitter.com/pawelkowalpl/status/1410892184015052802', 'https://twitter.com/PolskiSenat/status/1410925819556417536', 'https://twitter.com/AnnaR26187320/status/1410873902604206080', 'https://twitter.com/polanskey/status/1410925672848150532', 'https://twitter.com/Ireneusz_Zyska/status/1410898378318401539', 'https://twitter.com/tinymushroom91/status/1410890258510647296', 'https://twitter.com/yarassch/status/1410924680366657539', 'https://twitter.com/ZielonaInteria/status/1410888349687111685', 'https://twitter.com/kepajan/status/1410926750167617538', 'https://twitter.com/S_ketjoW/status/1410887350578814978', 'https://twitter.com/tytus_de_zoo_/status/1410918526689366018', 'https://twitter.com/aurearosa_/status/1410905378062274561', 'https://twitter.com/PerkunTyper/status/1410896167202967554', 'https://twitter.com/PogodaMeteo/status/1410909009901727748', 'https://twitter.com/PanXanaX/status/1410928976323829771', 'https://twitter.com/safonistka/status/1410915153353248769', 'https://twitter.com/MarekJozefiak/status/1410880339204096001', 'https://twitter.com/Agniesz40881317/status/1410849075398905856', 'https://twitter.com/PogodaMeteo/status/1410809960938754050', 'https://twitter.com/haoandjunnie/status/1410726581333487616', 'https://twitter.com/PogodaMeteo/status/1410809980014432264', 'https://twitter.com/PogodaMeteo/status/1410828774338351107', 'https://twitter.com/PogodaMeteo/status/1410790354866028544', 'https://twitter.com/300gospodarka/status/1410865826161385473', 'https://twitter.com/joe_ashii/status/1410716555835498504', 'https://twitter.com/PogodaMeteo/status/1410835691605573637', 'https://twitter.com/PogodaMeteo/status/1410795910620233730', 'https://twitter.com/CzerwonyKat/status/1410706374326116359', 'https://twitter.com/jura_jska/status/1410699645634891787', 'https://twitter.com/KyylTadeusz/status/1410860214052605956', 'https://twitter.com/PogodaMeteo/status/1410811295906078725', 'https://twitter.com/overburn69/status/1410800510270115843', 'https://twitter.com/AdamMusialik/status/1410848205307273222', 'https://twitter.com/ZdrowePowietrze/status/1410734667737669637', 'https://twitter.com/Fit_Dziewczyna/status/1410707291104595971', 'https://twitter.com/PogodaMeteo/status/1410826549209747457', 'https://twitter.com/MarekKopacz10/status/1410831481874886656', 'https://twitter.com/_not_your_toy/status/1410690415972466692', 'https://twitter.com/finewallsline91/status/1410689312262393860', 'https://twitter.com/RenataManikowsk/status/1410706869451173890', 'https://twitter.com/BozenaBonnie/status/1410777636062834690', 'https://twitter.com/g_matysiak/status/1410860501102379008', 'https://twitter.com/PogodaMeteo/status/1410809931113062402', 'https://twitter.com/VantidusVA/status/1410704917476544517', 'https://twitter.com/yeomyss_/status/1410690433580257283', 'https://twitter.com/xluvmygilbertx/status/1410719853548388362', 'https://twitter.com/Anna_Piechowska/status/1410732412825346048', 'https://twitter.com/PogodaMeteo/status/1410830076208467969', 'https://twitter.com/AgroNews1/status/1410831963812945924', 'https://twitter.com/Bartek93794875/status/1410721871696318464', 'https://twitter.com/_fairyxiu/status/1410704230659375107', 'https://twitter.com/PogodaMeteo/status/1410849185163890690', 'https://twitter.com/PogodaMeteo/status/1410699754233909251', 'https://twitter.com/Squadack/status/1410696790991585290', 'https://twitter.com/happy_sadnessV2/status/1410754485589315588', 'https://twitter.com/aplikuj_pl_/status/1410849808265449476', 'https://twitter.com/shaawty_16/status/1410854085574676483', 'https://twitter.com/CandyMoontliter/status/1410845018202460161', 'https://twitter.com/ArtKurzydlowski/status/1410838152512745474', 'https://twitter.com/PiotrWolosik/status/1410849439380557824', 'https://twitter.com/InstituteRev/status/1410853496577048578', 'https://twitter.com/jezusnazarejski/status/1410858211419344897', 'https://twitter.com/KATryksza/status/1410720988443070464', 'https://twitter.com/InstituteRev/status/1410841243622555652', 'https://twitter.com/capulusaa/status/1410713551279382534', 'https://twitter.com/MeteoGrodziec/status/1410830337886851073', 'https://twitter.com/Adam01234269/status/1410693642818404357', 'https://twitter.com/lolekxwa/status/1410691339918970885', 'https://twitter.com/PogodaMeteo/status/1410828742558162952', 'https://twitter.com/olusiapimpusiaa/status/1410720190774525961', 'https://twitter.com/g_matysiak/status/1410857433526898690', 'https://twitter.com/PogodaMeteo/status/1410830200208830464', 'https://twitter.com/PogodaMeteo/status/1410828759368876035', 'https://twitter.com/n_smog/status/1410869677270646785', 'https://twitter.com/halinagrab/status/1410848726369902593', 'https://twitter.com/jebacpisxxx/status/1410730639372869642', 'https://twitter.com/KasiakMarek/status/1410826905092247554', 'https://twitter.com/MKiS_GOV_PL/status/1410846715368849408', 'https://twitter.com/PogodaMeteo/status/1410826560505012226', 'https://twitter.com/Sonussyy/status/1410856196697956352', 'https://twitter.com/Yoghurt_Sothoth/status/1410853788072779780', 'https://twitter.com/PogodaMeteo/status/1410830219343187968', 'https://twitter.com/chrysalivsm/status/1410726865958961158', 'https://twitter.com/Frumentarii1/status/1410846676458344451', 'https://twitter.com/pieknydran/status/1410708214358986757', 'https://twitter.com/Ksero_97/status/1410693446571020291', 'https://twitter.com/squeakydeaky13/status/1410692502689128448', 'https://twitter.com/Dulkiewicz_A/status/1410729316917288961', 'https://twitter.com/kropelkalovesA/status/1410691320314843137', 'https://twitter.com/KrysiaKowalska/status/1410699945720614915', 'https://twitter.com/PogodaMeteo/status/1410704978671456258', 'https://twitter.com/pitbe/status/1410703299972677638', 'https://twitter.com/PogodaMeteo/status/1410745061764079616', 'https://twitter.com/PogodaMeteo/status/1410858691289616385', 'https://twitter.com/Greenpeace_PL/status/1410872714345291776', 'https://twitter.com/PogodaMeteo/status/1410830211080458241', 'https://twitter.com/tylemiejsc/status/1410855766584557568', 'https://twitter.com/matp1211/status/1410741965780504579', 'https://twitter.com/rutekbot/status/1410687908495908866', 'https://twitter.com/mateusz_golab/status/1410705647461675014', 'https://twitter.com/RAGE1INTERIAPL1/status/1410848145748148224', 'https://twitter.com/D__Stachowiak/status/1410853680102977539', 'https://twitter.com/Hazz_nnah/status/1410739481074749443', 'https://twitter.com/PogodaMeteo/status/1410818075637784576', 'https://twitter.com/tartalimonkowa/status/1410858672641675268', 'https://twitter.com/CaleTomasz/status/1410691429999972353', 'https://twitter.com/Julaa1369/status/1410837448851136512', 'https://twitter.com/grylogiczne_pl/status/1410855125057478656', 'https://twitter.com/Yossarian1981pl/status/1410696883635474440', 'https://twitter.com/RomanDmoch/status/1410857698246148097', 'https://twitter.com/MiBiBialonski/status/1410619592678989827', 'https://twitter.com/Ossala_fr/status/1410622639748616192', 'https://twitter.com/PogodaMeteo/status/1410630161687535616', 'https://twitter.com/mivataex/status/1410620532056338435', 'https://twitter.com/IwonaMajewska3/status/1410648882527227906', 'https://twitter.com/nikeliferous/status/1410663873166909443', 'https://twitter.com/PogodaMeteo/status/1410630148093747206', 'https://twitter.com/rydberg_hans/status/1410610467588907015', 'https://twitter.com/oszukistkaa/status/1410639384370634753', 'https://twitter.com/KapPawe/status/1410579068253360128', 'https://twitter.com/nieznana_4/status/1410602747880120321', 'https://twitter.com/a_Brzozka/status/1410610695431811081', 'https://twitter.com/honey_lynx/status/1410588322867650564', 'https://twitter.com/Cassandra_Ilion/status/1410578357427843078', 'https://twitter.com/marcindglinski/status/1410602018662584320', 'https://twitter.com/lonellyharryy/status/1410658266464534540', 'https://twitter.com/chmiels/status/1410595885549965317', 'https://twitter.com/nataeliesoul/status/1410687889927815173', 'https://twitter.com/_elusia/status/1410619577944399873', 'https://twitter.com/tojannelok/status/1410621335441743878', 'https://twitter.com/j_flisowska/status/1410621229426380803', 'https://twitter.com/MarcinDenkiewic/status/1410612337233391617', 'https://twitter.com/PatrzeObserwuje/status/1410610405508935691', 'https://twitter.com/sunvol6_/status/1410670511026278400', 'https://twitter.com/KubaSkalski/status/1410687136010022914', 'https://twitter.com/DiCoconutnut/status/1410673677423857668', 'https://twitter.com/minisses/status/1410683265095249922', 'https://twitter.com/BanasiukA/status/1410639917487636481', 'https://twitter.com/bibibabidubi/status/1410635441854980099', 'https://twitter.com/Mat_Hmm/status/1410686838378008580', 'https://twitter.com/malyy5/status/1410594382584041473', 'https://twitter.com/welpawel7/status/1410578137163960331', 'https://twitter.com/MasterAdiP/status/1410680785087221762', 'https://twitter.com/barnablia/status/1410653267621732352', 'https://twitter.com/JoKedziorek/status/1410649479720673284', 'https://twitter.com/PogodaMeteo/status/1410601351021662223', 'https://twitter.com/hopzworldz/status/1410658656828407808', 'https://twitter.com/Testudo_ds/status/1410578056440393738', 'https://twitter.com/tomszl/status/1410664343897792518', 'https://twitter.com/MKiS_GOV_PL/status/1410583330760843265', 'https://twitter.com/PennyDr007/status/1410681463385755652', 'https://twitter.com/piekanska/status/1410664720521216000', 'https://twitter.com/AndrzejSzary4/status/1410636812981317640', 'https://twitter.com/mikesh_/status/1410641737517875202', 'https://twitter.com/Greenpeace_PL/status/1410618195992473605', 'https://twitter.com/KatarzynaFabic1/status/1410632271909076998', 'https://twitter.com/PogodaMeteo/status/1410654452806209539', 'https://twitter.com/piotredmund1/status/1410641355383226369', 'https://twitter.com/piotrwawrzynia9/status/1410614743526637576', 'https://twitter.com/marcindglinski/status/1410673497878171648', 'https://twitter.com/MGumulski/status/1410618059350441991', 'https://twitter.com/AntesOlaantes/status/1410601973661929476', 'https://twitter.com/nicniewieszlol/status/1410653562850381829', 'https://twitter.com/RetroTata/status/1410576865765564416', 'https://twitter.com/OlaBazulka/status/1410605661809897476', 'https://twitter.com/asegPL/status/1410590211499642887', 'https://twitter.com/sleepybeautys/status/1410656589997121540', 'https://twitter.com/ddziektarz/status/1410677293379473408', 'https://twitter.com/G1Milo/status/1410618976208576513', 'https://twitter.com/simonthecleaner/status/1410584895416680453', 'https://twitter.com/xMichasio/status/1410664685180014592', 'https://twitter.com/FMargaryna/status/1410645267154616320', 'https://twitter.com/pawelkowalpl/status/1410615603325374475', 'https://twitter.com/TerazSrodowisko/status/1410591361053597699', 'https://twitter.com/PogodaMeteo/status/1410667555451289601', 'https://twitter.com/GotfrydKarol/status/1410615618093477888', 'https://twitter.com/JohnnyBlacky99/status/1410640169099841543', 'https://twitter.com/Potwornicka/status/1410618095131971587', 'https://twitter.com/kieltyka_k/status/1410616381477777424', 'https://twitter.com/AdamKAS7/status/1410581379931377673', 'https://twitter.com/PogodaMeteo/status/1410666311466823683', 'https://twitter.com/SportINTERIA/status/1410606811711868936', 'https://twitter.com/patryk_bialas/status/1410590605273702401', 'https://twitter.com/qrandeily/status/1410595064309452804', 'https://twitter.com/9styl_e/status/1410629254816145409', 'https://twitter.com/PogodaMeteo/status/1410629452485234690', 'https://twitter.com/PanLoukas98/status/1410659715013660675', 'https://twitter.com/PogodaMeteo/status/1410609159406428160', 'https://twitter.com/dzemwisni0wy_/status/1410647987764740105', 'https://twitter.com/mnnr444/status/1410498964206632962', 'https://twitter.com/janusz_ksawery/status/1410500499439300614', 'https://twitter.com/xyzxyzx4/status/1410546338786336769', 'https://twitter.com/KonradLata/status/1410568555733655555', 'https://twitter.com/KrzysztofKubon/status/1410564867602497542', 'https://twitter.com/WWF_Polska/status/1410556808180207616', 'https://twitter.com/toadssstool/status/1410551498875060224', 'https://twitter.com/Michalak_Ag/status/1410572600191946757', 'https://twitter.com/grygiel__ski/status/1410541554981298178', 'https://twitter.com/fakeorlen/status/1410546415412076544', 'https://twitter.com/taesanzone/status/1410553409560842240', 'https://twitter.com/BartlomiejKozek/status/1410565549726310403', 'https://twitter.com/lukasz_nd/status/1410513932280868864', 'https://twitter.com/AZdzitowiecki/status/1410529492200722433', 'https://twitter.com/PogodaMeteo/status/1410518564285583360', 'https://twitter.com/rnrobertPL/status/1410527335045111808', 'https://twitter.com/PogodaMeteo/status/1410546666504138755', 'https://twitter.com/maks_rac/status/1410531820391837696', 'https://twitter.com/michonXX/status/1410563407502360581', 'https://twitter.com/MirowskiPawel/status/1410574879800414213', 'https://twitter.com/PR24_pl/status/1410533390663757825', 'https://twitter.com/bobik314/status/1410563951700713476', 'https://twitter.com/KurkowskiDg/status/1410570451688976391', 'https://twitter.com/Tomasztrojan2/status/1410526835243458567', 'https://twitter.com/mkowalczyk77/status/1410558704534106113', 'https://twitter.com/corneilledw/status/1410538673515503621', 'https://twitter.com/StudiumObywatel/status/1410560054256877568', 'https://twitter.com/adakow44/status/1410494494026444800', 'https://twitter.com/Marek_Dabkowski/status/1410567248436137986', 'https://twitter.com/PapruPapru/status/1410506936353628160', 'https://twitter.com/micke_ey/status/1410525877130117125', 'https://twitter.com/marcins77/status/1410517489830727680', 'https://twitter.com/corneilledw/status/1410570125892280322', 'https://twitter.com/przemas1999/status/1410512150020362242', 'https://twitter.com/debianeq/status/1410566609417216000', 'https://twitter.com/ZielonaInteria/status/1410557341699817481', 'https://twitter.com/m_deluga/status/1410501696204247041', 'https://twitter.com/AZdzitowiecki/status/1410544850290675717', 'https://twitter.com/sunuswoo/status/1410574015723446274', 'https://twitter.com/eristargirlx/status/1410504413756678145', 'https://twitter.com/nettgpl/status/1410492710084132865', 'https://twitter.com/DOROTA43296454/status/1410534429194346498', 'https://twitter.com/tony_13th/status/1410523925231161344', 'https://twitter.com/Varulv321/status/1410541786230149121', 'https://twitter.com/AnczewskaMarta/status/1410498565890351104', 'https://twitter.com/MeteoprognozaPL/status/1410508069726044162', 'https://twitter.com/zmacu_/status/1410502631877918721', 'https://twitter.com/pl_WTW/status/1410513959849975812', 'https://twitter.com/MoSadkowska/status/1410557084433780737', 'https://twitter.com/KatMokrzycka/status/1410515408063447042', 'https://twitter.com/ZielonaInteria/status/1410560949308768261', 'https://twitter.com/Lodomir69/status/1410569041383772166', 'https://twitter.com/sincxrlylisa/status/1410575031780921346', 'https://twitter.com/PogodaMeteo/status/1410495850334334979', 'https://twitter.com/WFOSiGWKatowice/status/1410521841828077570', 'https://twitter.com/NFOSiGW/status/1410509828238233601', 'https://twitter.com/kubatism/status/1410543553311350790', 'https://twitter.com/swentol/status/1410552870118825984', 'https://twitter.com/karolaksiazki/status/1410559421546180610', 'https://twitter.com/PawelEssss/status/1410493509816176641', 'https://twitter.com/PatrycJasinska/status/1410546635831189507', 'https://twitter.com/StudiumObywatel/status/1410559817656287232', 'https://twitter.com/BarbaraRogala4/status/1410525545192996866', 'https://twitter.com/DominikaAnna82/status/1410529179850924037', 'https://twitter.com/300gospodarka/status/1410523099649515521', 'https://twitter.com/JablonskiDoktor/status/1410542917295525891', 'https://twitter.com/fakindomin/status/1410566053550305282', 'https://twitter.com/ackleschess/status/1410543590590328836', 'https://twitter.com/PogodaMeteo/status/1410546693725208581', 'https://twitter.com/KrzysztofKubon/status/1410564853111132163', 'https://twitter.com/Hydrochoreus/status/1410557344304467974', 'https://twitter.com/Marek_Dabkowski/status/1410561436137447424', 'https://twitter.com/PogodaMeteo/status/1410563855550386176', 'https://twitter.com/PolacydlaKlimat/status/1410561652525780993', 'https://twitter.com/egsystencja/status/1410527936361418752', 'https://twitter.com/NiezaleznExpert/status/1410510651399811074', 'https://twitter.com/blackhairgirl5/status/1410534643560943616', 'https://twitter.com/xgoldenslove/status/1410549232398966786', 'https://twitter.com/ari__chan2606/status/1410563680996151297', 'https://twitter.com/PStrzalkowski/status/1410516916050010114', 'https://twitter.com/aiwilost/status/1410574444720967681', 'https://twitter.com/StudiumObywatel/status/1410559871234326530', 'https://twitter.com/aniewiem0/status/1410530708641222662', 'https://twitter.com/300gospodarka/status/1410513504503619585', 'https://twitter.com/maks_rac/status/1410536881754890251', 'https://twitter.com/JoannaD73006841/status/1410531780411658245', 'https://twitter.com/_daysgoneloner/status/1410567494356635648', 'https://twitter.com/Neuropa_/status/1410512581597487106', 'https://twitter.com/adamklimkiewic2/status/1410439874197458945', 'https://twitter.com/dd61742102/status/1410355956177944578', 'https://twitter.com/palarowski/status/1410490238816956417', 'https://twitter.com/KKonstruktywny/status/1410462689252544515', 'https://twitter.com/AndrzejRosinski/status/1410430779251990528', 'https://twitter.com/_amilano/status/1410355659174989831', 'https://twitter.com/JadowitaMeduza/status/1410483085490233352', 'https://twitter.com/PogodaMeteo/status/1410467876226600964', 'https://twitter.com/rzeczpospolita/status/1410433382807392260', 'https://twitter.com/PogodaMeteo/status/1410455672530116608', 'https://twitter.com/magdalena_sojka/status/1410351385187586053', 'https://twitter.com/Nisia_me/status/1410474211144044544', 'https://twitter.com/jakubgierczuk/status/1410488415511003137', 'https://twitter.com/PogodaMeteo/status/1410448322536656897', 'https://twitter.com/PogodaMeteo/status/1410466432081666051', 'https://twitter.com/Grzegor55127426/status/1410479528619790336', 'https://twitter.com/pajak_sebastian/status/1410354826752540676', 'https://twitter.com/MeteoinfoLMOSPL/status/1410491798825353217', 'https://twitter.com/_majimeow/status/1410348506817220614', 'https://twitter.com/ania18035/status/1410479286172241922', 'https://twitter.com/PogodaMeteo/status/1410342764131258372', 'https://twitter.com/Matt30491354/status/1410353630679547908', 'https://twitter.com/BisagaElzbieta/status/1410344482764169218', 'https://twitter.com/Matt30491354/status/1410354277583929345', 'https://twitter.com/Woomikookie/status/1410377609435926530', 'https://twitter.com/PogodaMeteo/status/1410433454534279177', 'https://twitter.com/PogodaMeteo/status/1410466410921406464', 'https://twitter.com/Grzegor55127426/status/1410479451675181059', 'https://twitter.com/AlperlaHome/status/1410343984740843530', 'https://twitter.com/hiraethily/status/1410365473120718853', 'https://twitter.com/goldeniara28/status/1410346288080687121', 'https://twitter.com/AdamKania1979/status/1410403323803488256', 'https://twitter.com/EwaWiniara/status/1410489486258094085', 'https://twitter.com/AndrzejRosinski/status/1410353089253683202', 'https://twitter.com/Adam10259547/status/1410490776623140865', 'https://twitter.com/awxackles/status/1410344742395822082', 'https://twitter.com/PogodaMeteo/status/1410447468391809024', 'https://twitter.com/mynameisgabsa/status/1410349346944602125', 'https://twitter.com/MarcinWrzos/status/1410363008870723587', 'https://twitter.com/MrCiniak23/status/1410482450346745857', 'https://twitter.com/PogodaMeteo/status/1410486791086526470', 'https://twitter.com/ania18035/status/1410479303356264452', 'https://twitter.com/s21n/status/1410459954436263941', 'https://twitter.com/PogodaMeteo/status/1410467869952036864', 'https://twitter.com/PogodaMeteo/status/1410447505821667333', 'https://twitter.com/PogodaMeteo/status/1410464101072048129', 'https://twitter.com/PogodaMeteo/status/1410447492546695168', 'https://twitter.com/rokio2314/status/1410370962080636930', 'https://twitter.com/Sir40i4/status/1410431192487411714', 'https://twitter.com/_rozamakolce/status/1410361733139603459', 'https://twitter.com/lostson_/status/1410354644753203201', 'https://twitter.com/pajak_sebastian/status/1410354762701225990', 'https://twitter.com/harrves/status/1410353024829173761', 'https://twitter.com/kevciio/status/1410380093613084673', 'https://twitter.com/Teresa12369786/status/1410450371928018944', 'https://twitter.com/luucjaa/status/1410361553770237954', 'https://twitter.com/Stalker85078507/status/1410352533638352896', 'https://twitter.com/EwaEgr2/status/1410470690529198080', 'https://twitter.com/PogodaMeteo/status/1410467735616753667', 'https://twitter.com/PogodaMeteo/status/1410464121301123076', 'https://twitter.com/AntesOlaantes/status/1410486009750560768', 'https://twitter.com/PogodaMeteo/status/1410473262224662530', 'https://twitter.com/andrzej_rzonca/status/1410492667021176833', 'https://twitter.com/ania18035/status/1410479344594661377', 'https://twitter.com/TomAndHisFiddle/status/1410366829323866114', 'https://twitter.com/nawacki/status/1410483715998949378', 'https://twitter.com/PogodaMeteo/status/1410466421809848324', 'https://twitter.com/PogodaMeteo/status/1410382665757376520', 'https://twitter.com/GRIDWarszawa/status/1410487427546988544', 'https://twitter.com/PogodaMeteo/status/1410467855213240321', 'https://twitter.com/DPaterczyk/status/1410492295183581184', 'https://twitter.com/PogodaMeteo/status/1410428003222437894', 'https://twitter.com/stantun7/status/1410367194500841475', 'https://twitter.com/AlarmNds/status/1410339142270177282', 'https://twitter.com/krzcinska/status/1410299707964936195', 'https://twitter.com/MKiS_GOV_PL/status/1410277971462660097', 'https://twitter.com/Fyordung/status/1410280078915817472', 'https://twitter.com/p1esgustaw/status/1410268665619136516', 'https://twitter.com/sentimentaloser/status/1410339109965598720', 'https://twitter.com/FakesForge/status/1410341997399924736', 'https://twitter.com/yeonjunsunn/status/1410245013552893962', 'https://twitter.com/Brokosia/status/1410308292912558085', 'https://twitter.com/kubzon/status/1410332267210317837', 'https://twitter.com/CzysteCieplo/status/1410254298974502914', 'https://twitter.com/Pan_Inator/status/1410271923578277891', 'https://twitter.com/Pif_Paf_Striker/status/1410339249841393665', 'https://twitter.com/DJAviomarin/status/1410303633506328580', 'https://twitter.com/AdamFreemanPL/status/1410312643320160256', 'https://twitter.com/Exen/status/1410245549022973955', 'https://twitter.com/melusinska/status/1410287139485622285', 'https://twitter.com/inna_beczka/status/1410326874308415488', 'https://twitter.com/KOD_VIDEO/status/1410289274197622797', 'https://twitter.com/Lostinreality28/status/1410264202414018561', 'https://twitter.com/MSK_Poznan/status/1410313030425055240', 'https://twitter.com/sieniaku/status/1410247991387209736', 'https://twitter.com/PogodaMeteo/status/1410268301884809222', 'https://twitter.com/jakubwiech/status/1410248412797231110', 'https://twitter.com/saniwifeu/status/1410316594065121284', 'https://twitter.com/jakubwiech/status/1410248372213190659', 'https://twitter.com/AZajst/status/1410264817819078659', 'https://twitter.com/misalke/status/1410316341282738188', 'https://twitter.com/kezurawtagni/status/1410261811287449600', 'https://twitter.com/Otherside_93/status/1410327052293713923', 'https://twitter.com/GRANDONUTSS/status/1410340861985034241', 'https://twitter.com/czepiam_sie/status/1410246050078760971', 'https://twitter.com/EcoPoznan/status/1410265811739107329', 'https://twitter.com/lukasz_lange/status/1410279142600458242', 'https://twitter.com/PogodaMeteo/status/1410337374920454149', 'https://twitter.com/EcoPoznan/status/1410265475653701641', 'https://twitter.com/JaskuAnna/status/1410278382156255238', 'https://twitter.com/Ireneusz_Zyska/status/1410279343012597770', 'https://twitter.com/PennyDr007/status/1410329357332238337', 'https://twitter.com/PogodaMeteo/status/1410268250181668864', 'https://twitter.com/MKiS_GOV_PL/status/1410278805579632644', 'https://twitter.com/WashaAgnes/status/1410266840044118016', 'https://twitter.com/nempinho/status/1410313559016411142', 'https://twitter.com/vvarulf/status/1410277762045202433', 'https://twitter.com/hetmanski_m/status/1410264456941166593', 'https://twitter.com/AleksandraWa7/status/1410341764943204352', 'https://twitter.com/GreenEyedDucker/status/1410295206017126406', 'https://twitter.com/krytyka/status/1410251978349875206', 'https://twitter.com/a_Brzozka/status/1410291864947892227', 'https://twitter.com/zgwalter1/status/1410306722497978375', 'https://twitter.com/LisewskiPiotr/status/1410308047508021248', 'https://twitter.com/zgwalter1/status/1410304998005739526', 'https://twitter.com/ADerewienko/status/1410250768955887616', 'https://twitter.com/Ireneusz_Zyska/status/1410296280484548611', 'https://twitter.com/mona_karola/status/1410321174178021376', 'https://twitter.com/MichalDro/status/1410326867358388226', 'https://twitter.com/PogodaMeteo/status/1410268285979987970', 'https://twitter.com/PogodaMeteo/status/1410246764595191809', 'https://twitter.com/Iza93249520/status/1410278113301434371', 'https://twitter.com/K_Kostka/status/1410332908515205121', 'https://twitter.com/MczarnyM/status/1410319212661329923', 'https://twitter.com/KrzyJaski/status/1410294988781633542', 'https://twitter.com/sineadlazuli/status/1410280414799974401', 'https://twitter.com/JustynaSzafran4/status/1410264726622330882', 'https://twitter.com/IksinskiMariusz/status/1410332049056141313', 'https://twitter.com/BogdanKoczorow2/status/1410335711014883331', 'https://twitter.com/bibula_/status/1410305912888250372', 'https://twitter.com/echelon__97/status/1410309046809333761', 'https://twitter.com/Stanisa84110799/status/1410324209650311180', 'https://twitter.com/JFJ15561913/status/1410317252675653634', 'https://twitter.com/Rampapa32498271/status/1410325036133666820', 'https://twitter.com/Anry85143779/status/1410251300273541123', 'https://twitter.com/maciek_glowka/status/1410339451218370564', 'https://twitter.com/abuk1_2/status/1410324869632430084', 'https://twitter.com/stiopanstp/status/1410317482443915264', 'https://twitter.com/PogodaMeteo/status/1410292063242002434', 'https://twitter.com/Rafciu27/status/1410300495080660999', 'https://twitter.com/RemikG7/status/1410289282284244998', 'https://twitter.com/a_Brzozka/status/1410291772199145472', 'https://twitter.com/fioletowabestia/status/1410268848335601668', 'https://twitter.com/JakSwierczynski/status/1410185434131542023', 'https://twitter.com/sunnshinefairy/status/1410182335874674688', 'https://twitter.com/spadak6/status/1410188289013948420', 'https://twitter.com/TurskiPrezesK/status/1410233190690791424', 'https://twitter.com/2225kuc/status/1410232867972653057', 'https://twitter.com/m_tabaka/status/1410204518609002500', 'https://twitter.com/torachani/status/1410187912713539585', 'https://twitter.com/ap4cher6/status/1410192254921232391', 'https://twitter.com/Diabellus/status/1410239424366100480', 'https://twitter.com/bsn_maggie/status/1410239102725787653', 'https://twitter.com/k_wilamowski/status/1410188629918601217', 'https://twitter.com/mikesh_/status/1410231633526022148', 'https://twitter.com/1m9k7s3/status/1410193088551821316', 'https://twitter.com/imtheuniquegirl/status/1410180571708395521', 'https://twitter.com/StopPOPULI/status/1410193988066451460', 'https://twitter.com/BeataDzili/status/1410235391488278536', 'https://twitter.com/ClientEarth_PL/status/1410231392806576129', 'https://twitter.com/wdyrdy/status/1410244782476173318', 'https://twitter.com/kultliberalna/status/1410216546069254148', 'https://twitter.com/Mariusz55974946/status/1410180977436078083', 'https://twitter.com/PogodaMeteo/status/1410238974543683584', 'https://twitter.com/OIgnacy/status/1410237549646319628', 'https://twitter.com/300gospodarka/status/1410195438184058885', 'https://twitter.com/Olaamo12/status/1410195321863426048', 'https://twitter.com/gosianator/status/1410213653262094339', 'https://twitter.com/mwpotocki/status/1410205075998490634', 'https://twitter.com/sunshineleos/status/1410231904008294405', 'https://twitter.com/paprykasz/status/1410212489174913035', 'https://twitter.com/MaciejJakubiec/status/1410185629678309377', 'https://twitter.com/Sprawiedliwa_T/status/1410229992559104000', 'https://twitter.com/AgroNews1/status/1410185373318254595', 'https://twitter.com/KrzysztofKalkow/status/1410202498837712897', 'https://twitter.com/sheloves_julius/status/1410189095146602502', 'https://twitter.com/Po_prostu_tat/status/1410183538662592512', 'https://twitter.com/WalSzat/status/1410185201842540544', 'https://twitter.com/Atarnowska/status/1410210669295771648', 'https://twitter.com/AdamAmbrozik/status/1410241942584168456', 'https://twitter.com/Monika_k71/status/1410211657339506688', 'https://twitter.com/Maniek_53/status/1410222546864181248', 'https://twitter.com/Ireneusz_Zyska/status/1410204328372146176', 'https://twitter.com/ortegadry/status/1410207475014504452', 'https://twitter.com/OAnalityk/status/1410188244067799044', 'https://twitter.com/rysiekpalys/status/1410205513871134726', 'https://twitter.com/_defenestracjaa/status/1410184657702903809', 'https://twitter.com/KasiakMarek/status/1410217479796838403', 'https://twitter.com/kinkietoweabc/status/1410240550079500293', 'https://twitter.com/ArkDom1/status/1410220033146507265', 'https://twitter.com/nirevese/status/1410207598834552839', 'https://twitter.com/Diabellus/status/1410236948174737411', 'https://twitter.com/heurystyka/status/1410244745432027144', 'https://twitter.com/PogodaMeteo/status/1410184307847663618', 'https://twitter.com/rzeczpospolita/status/1410190585739284480', 'https://twitter.com/espri_wroclaw/status/1410240606732013572', 'https://twitter.com/BizblogPl/status/1410202060608376833', 'https://twitter.com/a_Brzozka/status/1410188310996267010', 'https://twitter.com/pgrabska/status/1410218509867573263', 'https://twitter.com/gladiatorvicto/status/1410222809893179395', 'https://twitter.com/Quakson7/status/1410215440635371521', 'https://twitter.com/MGumulski/status/1410177539625062400', 'https://twitter.com/AleksandraWa7/status/1410176915965628420', 'https://twitter.com/superm280220/status/1410225568386367488', 'https://twitter.com/TurskiPrezesK/status/1410227719024132096', 'https://twitter.com/EwaSobolev/status/1410183601505853440', 'https://twitter.com/Daniel_Zet_I/status/1410182408696209411', 'https://twitter.com/GallAno88205585/status/1410225090902597635', 'https://twitter.com/Carnifici/status/1410214046276665349', 'https://twitter.com/spadak6/status/1410177618964586496', 'https://twitter.com/MateoPoznan/status/1410174548134313985', 'https://twitter.com/tochybaola/status/1410184949605584905', 'https://twitter.com/FilipLachert/status/1410244825128050688', 'https://twitter.com/Bartek__Z/status/1410207460737048577', 'https://twitter.com/FarmerkaPL/status/1410185025748885504', 'https://twitter.com/_witheredleaf/status/1410237305286234115', 'https://twitter.com/SpidersWebPL/status/1410202063158616065', 'https://twitter.com/tojazoju/status/1410183272701833218', 'https://twitter.com/TojaAdrianW/status/1410182767674068999', 'https://twitter.com/PogodaMeteo/status/1410201464211902464', 'https://twitter.com/PogodaMeteo/status/1410184328475250689', 'https://twitter.com/deepasian97/status/1410177210728783876', 'https://twitter.com/MarcCoufal/status/1410241370758041603', 'https://twitter.com/Daniel_Ashm/status/1410201974776205313', 'https://twitter.com/msklimatyczny/status/1410177191325966337', 'https://twitter.com/GallAno88205585/status/1410226501920886787', 'https://twitter.com/IMGWmeteo/status/1410231351715024896', 'https://twitter.com/kultliberalna/status/1410140659357474818', 'https://twitter.com/PogodaMeteo/status/1410103998477176835', 'https://twitter.com/PogodaMeteo/status/1410156182036271105', 'https://twitter.com/PogodaMeteo/status/1410132738502533123', 'https://twitter.com/PogodaMeteo/status/1410101860594237442', 'https://twitter.com/Sskarlet_Oharaa/status/1410143396577034247', 'https://twitter.com/PogodaMeteo/status/1410071166174257154', 'https://twitter.com/g_matysiak/status/1410139720114479106', 'https://twitter.com/StackingPlsWait/status/1410123379315720194', 'https://twitter.com/PogodaMeteo/status/1410105527284244491', 'https://twitter.com/szczuplyslimak/status/1410115276159557635', 'https://twitter.com/PogodaMeteo/status/1410103985936154625', 'https://twitter.com/rzeczpospolita/status/1410074684008378369', 'https://twitter.com/PogodaMeteo/status/1410104009873035265', 'https://twitter.com/TojaAdrianW/status/1410162387253088266', 'https://twitter.com/vaaansi/status/1410168359224844292', 'https://twitter.com/aiwilost/status/1410125674145366018', 'https://twitter.com/g_matysiak/status/1410174043614027778', 'https://twitter.com/AgroNews1/status/1410105023334387718', 'https://twitter.com/4CF_foresight/status/1410140709487792135', 'https://twitter.com/Sskarlet_Oharaa/status/1410168369425354754', 'https://twitter.com/PogodaMeteo/status/1410105541108633603', 'https://twitter.com/Eksperci_WSB/status/1410124806545100800', 'https://twitter.com/PogodaMeteo/status/1410110869959229441', 'https://twitter.com/ramenn00dl/status/1410152693868511232', 'https://twitter.com/SmogLab/status/1410162760843923457', 'https://twitter.com/Cro31764393/status/1410133956201177089', 'https://twitter.com/PogodaMeteo/status/1410085476736831491', 'https://twitter.com/MKiS_GOV_PL/status/1410173323905011712', 'https://twitter.com/PogodaMeteo/status/1410124387714363392', 'https://twitter.com/PO_BielskoB/status/1410163149005856770', 'https://twitter.com/Greenpeace_PL/status/1410151940684763143', 'https://twitter.com/pepini71/status/1410112072675991554', 'https://twitter.com/PogodaMeteo/status/1410085064499679232', 'https://twitter.com/PogodaMeteo/status/1410065576182026249', 'https://twitter.com/mrtdanielewicz/status/1410165929657438211', 'https://twitter.com/Neuropa_/status/1410172207624605697', 'https://twitter.com/ChlopzMokotowa/status/1410133721865502720', 'https://twitter.com/Samuel_Skr/status/1410137759264694278', 'https://twitter.com/mxw99/status/1410055925285720066', 'https://twitter.com/happily_96/status/1410130110594916354', 'https://twitter.com/TurekZbig/status/1410163723537420289', 'https://twitter.com/PrzemSkrzydlo/status/1410118976471023617', 'https://twitter.com/_cuteemptiness_/status/1410041420187058176', 'https://twitter.com/PogodaMeteo/status/1410105370849288192', 'https://twitter.com/ANDRZEJRADZISZ2/status/1410165083116904449', 'https://twitter.com/darenty5/status/1410145604051816448', 'https://twitter.com/KomornickiLeon/status/1410097728034676737', 'https://twitter.com/rednightlock/status/1410139882731839488', 'https://twitter.com/SmalTomasz/status/1410107029767720965', 'https://twitter.com/GormusEUW/status/1410146293922549762', 'https://twitter.com/Matolica/status/1410154514099879937', 'https://twitter.com/kkulchongx/status/1410120981587300356', 'https://twitter.com/Monika_k71/status/1410106875883016193', 'https://twitter.com/agaodkotow/status/1410063074615255043', 'https://twitter.com/coconutlyalex/status/1410096480468275202', 'https://twitter.com/leftfish/status/1410120416279027718', 'https://twitter.com/MaciejMck187/status/1410044962100682755', 'https://twitter.com/300gospodarka/status/1410152361151152131', 'https://twitter.com/EurActivPoland/status/1410120252470566918', 'https://twitter.com/shslitstssrbhe/status/1410166654655475717', 'https://twitter.com/trudneg/status/1410161503056039939', 'https://twitter.com/olciaafasolcia/status/1410035262835601410', 'https://twitter.com/PogodaMeteo/status/1410101850112729116', 'https://twitter.com/Joannagrka61/status/1410085719742234625', 'https://twitter.com/PogodaMeteo/status/1410085103431307267', 'https://twitter.com/EurocommPR_KRK/status/1410172459731632135', 'https://twitter.com/FOB_Poland/status/1410148651121393666', 'https://twitter.com/KarolinaZby/status/1410140972474851330', 'https://twitter.com/rturito46/status/1410142785223774210', 'https://twitter.com/PogodaMeteo/status/1410093272308011008', 'https://twitter.com/PogodaMeteo/status/1410105505176035333', 'https://twitter.com/LordTwinings/status/1410129056641716224', 'https://twitter.com/_BenZolwik_/status/1410140531678662657', 'https://twitter.com/PTSPPSFS/status/1410135963599347714', 'https://twitter.com/Choquequirao2/status/1410106233147768832', 'https://twitter.com/jakub_demeszko/status/1410149104789958656', 'https://twitter.com/macieJasinski/status/1410056750032637954', 'https://twitter.com/BartlomiejKozek/status/1410165436059168771', 'https://twitter.com/pociemnoidy/status/1410121431367696387', 'https://twitter.com/PogodaMeteo/status/1410085089573212160', 'https://twitter.com/mamago25/status/1410126973083557888', 'https://twitter.com/bartosz_pilat/status/1410150799519490048', 'https://twitter.com/Stalker85078507/status/1410155927035056133', 'https://twitter.com/healthy_bubble_/status/1410148739109601281', 'https://twitter.com/XRPolska/status/1410154429383417859', 'https://twitter.com/MeSaoirse/status/1410135423813308416', 'https://twitter.com/naukawpolsce/status/1410170690989400070', 'https://twitter.com/PatriciaHemmin5/status/1410144689714610176']\n"
          ]
        }
      ]
    },
    {
      "cell_type": "code",
      "source": [
        "#Get all links found in tweets and pass them to the list (urls column)"
      ],
      "metadata": {
        "id": "KStJC4BeKkVa"
      },
      "execution_count": 17,
      "outputs": []
    },
    {
      "cell_type": "code",
      "source": [
        "def extract_links_from_text(tweet_text):\n",
        "    links = re.findall(r'(https?://\\S+)', tweet_text)\n",
        "    return links if links else None"
      ],
      "metadata": {
        "id": "vqWcNEAE1kSY"
      },
      "execution_count": 110,
      "outputs": []
    },
    {
      "cell_type": "code",
      "source": [
        "df['urls'] = df['text'].apply(extract_links_from_text)"
      ],
      "metadata": {
        "id": "xp9DN8bh1p0n"
      },
      "execution_count": 111,
      "outputs": []
    },
    {
      "cell_type": "code",
      "source": [
        "#Get all image links and pass them to the list (media column)"
      ],
      "metadata": {
        "id": "xtSAAGbj12Md"
      },
      "execution_count": 20,
      "outputs": []
    },
    {
      "cell_type": "code",
      "source": [
        "def extract_images_from_text(text):\n",
        "    images = re.findall(r'(https?://\\S+/photo/\\S+)', text)\n",
        "    return images if images else None"
      ],
      "metadata": {
        "id": "6AJPfTt_15WP"
      },
      "execution_count": 112,
      "outputs": []
    },
    {
      "cell_type": "code",
      "source": [
        "df['media'] = df['text'].apply(extract_images_from_text)"
      ],
      "metadata": {
        "id": "MQHKdbOR4RWH"
      },
      "execution_count": 113,
      "outputs": []
    },
    {
      "cell_type": "code",
      "source": [
        "#Remove all words marked as stopwords and pass the cleaned text to a new column called text_without_stopwords."
      ],
      "metadata": {
        "id": "p2w2B6dN5bjv"
      },
      "execution_count": 6,
      "outputs": []
    },
    {
      "cell_type": "code",
      "source": [
        "!pip install stopwords"
      ],
      "metadata": {
        "colab": {
          "base_uri": "https://localhost:8080/"
        },
        "id": "o0jxQskD8TIO",
        "outputId": "678dd9ba-26ba-41c5-b3be-604ab5b67aa8"
      },
      "execution_count": 114,
      "outputs": [
        {
          "output_type": "stream",
          "name": "stdout",
          "text": [
            "Requirement already satisfied: stopwords in /usr/local/lib/python3.11/dist-packages (1.0.1)\n"
          ]
        }
      ]
    },
    {
      "cell_type": "code",
      "source": [
        "from stopwords import get_stopwords"
      ],
      "metadata": {
        "id": "tIdHm6Y08dK1"
      },
      "execution_count": 115,
      "outputs": []
    },
    {
      "cell_type": "code",
      "source": [
        "stop_words = set(get_stopwords('pl'))"
      ],
      "metadata": {
        "id": "__NuQ8CU9C9V"
      },
      "execution_count": 116,
      "outputs": []
    },
    {
      "cell_type": "code",
      "source": [
        "def remove_stopwords(text):\n",
        "    cleaned_text = ' '.join([word for word in text.split() if word.lower() not in stop_words])\n",
        "    return cleaned_text"
      ],
      "metadata": {
        "id": "lRsceaik9FCN"
      },
      "execution_count": 117,
      "outputs": []
    },
    {
      "cell_type": "code",
      "source": [
        "df['text_without_stopwords'] = df['text'].apply(remove_stopwords)"
      ],
      "metadata": {
        "id": "-1nA7KoYCDMt"
      },
      "execution_count": 118,
      "outputs": []
    },
    {
      "cell_type": "code",
      "source": [
        "df"
      ],
      "metadata": {
        "colab": {
          "base_uri": "https://localhost:8080/",
          "height": 912
        },
        "id": "WsawXjRZCGF1",
        "outputId": "449888e7-19f6-4a39-cc86-4de076b9b9bc"
      },
      "execution_count": 119,
      "outputs": [
        {
          "output_type": "execute_result",
          "data": {
            "text/plain": [
              "      coordinates                           created_at  \\\n",
              "0             NaN     Monday 07 05 07:58:09 +0000 2021   \n",
              "1             NaN     Monday 07 05 08:21:28 +0000 2021   \n",
              "2             NaN     Monday 07 05 12:50:04 +0000 2021   \n",
              "3             NaN     Monday 07 05 06:33:46 +0000 2021   \n",
              "4             NaN     Monday 07 05 11:13:20 +0000 2021   \n",
              "...           ...                                  ...   \n",
              "1945          NaN  Wednesday 06 30 08:10:33 +0000 2021   \n",
              "1946          NaN  Wednesday 06 30 08:33:10 +0000 2021   \n",
              "1947          NaN  Wednesday 06 30 07:17:38 +0000 2021   \n",
              "1948          NaN  Wednesday 06 30 09:37:47 +0000 2021   \n",
              "1949          NaN  Wednesday 06 30 07:54:27 +0000 2021   \n",
              "\n",
              "                                             hashtags media  \\\n",
              "0                                                 NaN  None   \n",
              "1                                                 NaN  None   \n",
              "2                                                 NaN  None   \n",
              "3                           opad Polska pogoda klimat  None   \n",
              "4                                                 NaN  None   \n",
              "...                                               ...   ...   \n",
              "1945                            fitczerwiec fitlipiec  None   \n",
              "1946                                              NaN  None   \n",
              "1947                                              NaN  None   \n",
              "1948  klimat metan alternatywnezrodlaenergii geologia  None   \n",
              "1949                                              NaN  None   \n",
              "\n",
              "                           urls  favorite_count                   id  \\\n",
              "0                          None               1  1411957559712432128   \n",
              "1                          None               0  1411963424221941763   \n",
              "2                          None               1  1412031023588708352   \n",
              "3     [https://t.co/xsyokVwH5B]               5  1411936323779371013   \n",
              "4                          None               0  1412006678275448834   \n",
              "...                         ...             ...                  ...   \n",
              "1945  [https://t.co/ipaIPVU41l]              23  1410148739109601281   \n",
              "1946  [https://t.co/WHo1xXGM6P]               0  1410154429383417859   \n",
              "1947                       None               0  1410135423813308416   \n",
              "1948  [https://t.co/YAE5rR6Y7U]               0  1410170690989400070   \n",
              "1949                       None               5  1410144689714610176   \n",
              "\n",
              "     in_reply_to_screen_name  in_reply_to_status_id  in_reply_to_user_id  ...  \\\n",
              "0                     ciahol           1.411813e+18         1.313318e+09  ...   \n",
              "1              RyszardWojcik           1.411944e+18         5.448980e+08  ...   \n",
              "2            Kwiatkow_Lipska           1.412019e+18         1.270771e+18  ...   \n",
              "3                        NaN                    NaN                  NaN  ...   \n",
              "4              Energetyka_24           1.412006e+18         3.821303e+09  ...   \n",
              "...                      ...                    ...                  ...  ...   \n",
              "1945                     NaN                    NaN                  NaN  ...   \n",
              "1946                     NaN                    NaN                  NaN  ...   \n",
              "1947                     NaN                    NaN                  NaN  ...   \n",
              "1948                     NaN                    NaN                  NaN  ...   \n",
              "1949                     NaN                    NaN                  NaN  ...   \n",
              "\n",
              "     user_friends_count user_listed_count                 user_location  \\\n",
              "0                  5053                 9  Jastrzębie Zdrój woj śląskie   \n",
              "1                  1480               182                        Polska   \n",
              "2                  1861                 9                           NaN   \n",
              "3                   364                49                        Polska   \n",
              "4                   936                20                      opolskie   \n",
              "...                 ...               ...                           ...   \n",
              "1945                253                 0                  she/her !!!    \n",
              "1946                899                42                        Poland   \n",
              "1947                828                69                        Warsaw   \n",
              "1948                702               135                        Polska   \n",
              "1949                652                 6                       she/her   \n",
              "\n",
              "                                             user_name  user_screen_name  \\\n",
              "0                                      Malina Wąsowska          NieOddac   \n",
              "1                                   meteoprognoza.pl🇵🇱   MeteoprognozaPL   \n",
              "2     Jola.Iza Lubelanka z Podkarpacia # Unia to My 🇪🇺         jolaiza29   \n",
              "3                                  Meteomodel ❄️ ❄️ ❄️       PogodaMeteo   \n",
              "4                                   WIESLAW ROBERT ROK   WESLEYROBERTART   \n",
              "...                                                ...               ...   \n",
              "1945                                          𝘢𝘷𝘰𝘬𝘢𝘥𝘰✨   healthy_bubble_   \n",
              "1946                       Extinction Rebellion Polska          XRPolska   \n",
              "1947                               Agnes Saoirse Byrne         MeSaoirse   \n",
              "1948                                    Nauka w Polsce      naukawpolsce   \n",
              "1949                  PatriciaHemmings 💫 will see 5sos   PatriciaHemmin5   \n",
              "\n",
              "      user_statuses_count user_time_zone                            user_urls  \\\n",
              "0                   24391            NaN                 https://tumalina.pl/   \n",
              "1                  200993            NaN          http://www.meteoprognoza.pl   \n",
              "2                   24775            NaN                                  NaN   \n",
              "3                   70608            NaN               https://meteomodel.pl/   \n",
              "4                   54644            NaN       http://www.opolskie.upr.org.pl   \n",
              "...                   ...            ...                                  ...   \n",
              "1945                 1044            NaN    https://sunflowergirl01.carrd.co/   \n",
              "1946                 5733            NaN                    http://xr.org.pl/   \n",
              "1947               256513            NaN  http://www.instagram.com/mesaoirse/   \n",
              "1948                 5670            NaN           http://naukawpolsce.pap.pl   \n",
              "1949                 5842            NaN                                  NaN   \n",
              "\n",
              "     user_verified                             text_without_stopwords  \n",
              "0            False  @ciahol @Robert06270082 @Renata_Grochal @MacBo...  \n",
              "1            False  @RyszardWojcik @Roberte36015396 @SzczesniakA @...  \n",
              "2            False  @Kwiatkow_Lipska @krybarczyk23 @PL_2050 @szymo...  \n",
              "3            False  AutoTweet: Dobowa suma #opad w #Polska w dniu ...  \n",
              "4            False  @Energetyka_24 Człowiek gigantyczny wpływ środ...  \n",
              "...            ...                                                ...  \n",
              "1945         False  śniadanie tost francuski i czarna kawa, zjedzo...  \n",
              "1946         False  W Kanadzie było wczoraj gorąco. Prawie 48°C. d...  \n",
              "1947         False  moment nawet Terlecki mówi w PiS klimat opuszc...  \n",
              "1948         False  Hydraty metanu alternatywne źródło energii, al...  \n",
              "1949         False  Ta piosenka 100% Lukowa, w siódmym niebie, ulu...  \n",
              "\n",
              "[1950 rows x 36 columns]"
            ],
            "text/html": [
              "\n",
              "  <div id=\"df-1b0155f7-6d36-4b8e-9efa-7e854027e90b\" class=\"colab-df-container\">\n",
              "    <div>\n",
              "<style scoped>\n",
              "    .dataframe tbody tr th:only-of-type {\n",
              "        vertical-align: middle;\n",
              "    }\n",
              "\n",
              "    .dataframe tbody tr th {\n",
              "        vertical-align: top;\n",
              "    }\n",
              "\n",
              "    .dataframe thead th {\n",
              "        text-align: right;\n",
              "    }\n",
              "</style>\n",
              "<table border=\"1\" class=\"dataframe\">\n",
              "  <thead>\n",
              "    <tr style=\"text-align: right;\">\n",
              "      <th></th>\n",
              "      <th>coordinates</th>\n",
              "      <th>created_at</th>\n",
              "      <th>hashtags</th>\n",
              "      <th>media</th>\n",
              "      <th>urls</th>\n",
              "      <th>favorite_count</th>\n",
              "      <th>id</th>\n",
              "      <th>in_reply_to_screen_name</th>\n",
              "      <th>in_reply_to_status_id</th>\n",
              "      <th>in_reply_to_user_id</th>\n",
              "      <th>...</th>\n",
              "      <th>user_friends_count</th>\n",
              "      <th>user_listed_count</th>\n",
              "      <th>user_location</th>\n",
              "      <th>user_name</th>\n",
              "      <th>user_screen_name</th>\n",
              "      <th>user_statuses_count</th>\n",
              "      <th>user_time_zone</th>\n",
              "      <th>user_urls</th>\n",
              "      <th>user_verified</th>\n",
              "      <th>text_without_stopwords</th>\n",
              "    </tr>\n",
              "  </thead>\n",
              "  <tbody>\n",
              "    <tr>\n",
              "      <th>0</th>\n",
              "      <td>NaN</td>\n",
              "      <td>Monday 07 05 07:58:09 +0000 2021</td>\n",
              "      <td>NaN</td>\n",
              "      <td>None</td>\n",
              "      <td>None</td>\n",
              "      <td>1</td>\n",
              "      <td>1411957559712432128</td>\n",
              "      <td>ciahol</td>\n",
              "      <td>1.411813e+18</td>\n",
              "      <td>1.313318e+09</td>\n",
              "      <td>...</td>\n",
              "      <td>5053</td>\n",
              "      <td>9</td>\n",
              "      <td>Jastrzębie Zdrój woj śląskie</td>\n",
              "      <td>Malina Wąsowska</td>\n",
              "      <td>NieOddac</td>\n",
              "      <td>24391</td>\n",
              "      <td>NaN</td>\n",
              "      <td>https://tumalina.pl/</td>\n",
              "      <td>False</td>\n",
              "      <td>@ciahol @Robert06270082 @Renata_Grochal @MacBo...</td>\n",
              "    </tr>\n",
              "    <tr>\n",
              "      <th>1</th>\n",
              "      <td>NaN</td>\n",
              "      <td>Monday 07 05 08:21:28 +0000 2021</td>\n",
              "      <td>NaN</td>\n",
              "      <td>None</td>\n",
              "      <td>None</td>\n",
              "      <td>0</td>\n",
              "      <td>1411963424221941763</td>\n",
              "      <td>RyszardWojcik</td>\n",
              "      <td>1.411944e+18</td>\n",
              "      <td>5.448980e+08</td>\n",
              "      <td>...</td>\n",
              "      <td>1480</td>\n",
              "      <td>182</td>\n",
              "      <td>Polska</td>\n",
              "      <td>meteoprognoza.pl🇵🇱</td>\n",
              "      <td>MeteoprognozaPL</td>\n",
              "      <td>200993</td>\n",
              "      <td>NaN</td>\n",
              "      <td>http://www.meteoprognoza.pl</td>\n",
              "      <td>False</td>\n",
              "      <td>@RyszardWojcik @Roberte36015396 @SzczesniakA @...</td>\n",
              "    </tr>\n",
              "    <tr>\n",
              "      <th>2</th>\n",
              "      <td>NaN</td>\n",
              "      <td>Monday 07 05 12:50:04 +0000 2021</td>\n",
              "      <td>NaN</td>\n",
              "      <td>None</td>\n",
              "      <td>None</td>\n",
              "      <td>1</td>\n",
              "      <td>1412031023588708352</td>\n",
              "      <td>Kwiatkow_Lipska</td>\n",
              "      <td>1.412019e+18</td>\n",
              "      <td>1.270771e+18</td>\n",
              "      <td>...</td>\n",
              "      <td>1861</td>\n",
              "      <td>9</td>\n",
              "      <td>NaN</td>\n",
              "      <td>Jola.Iza Lubelanka z Podkarpacia # Unia to My 🇪🇺</td>\n",
              "      <td>jolaiza29</td>\n",
              "      <td>24775</td>\n",
              "      <td>NaN</td>\n",
              "      <td>NaN</td>\n",
              "      <td>False</td>\n",
              "      <td>@Kwiatkow_Lipska @krybarczyk23 @PL_2050 @szymo...</td>\n",
              "    </tr>\n",
              "    <tr>\n",
              "      <th>3</th>\n",
              "      <td>NaN</td>\n",
              "      <td>Monday 07 05 06:33:46 +0000 2021</td>\n",
              "      <td>opad Polska pogoda klimat</td>\n",
              "      <td>None</td>\n",
              "      <td>[https://t.co/xsyokVwH5B]</td>\n",
              "      <td>5</td>\n",
              "      <td>1411936323779371013</td>\n",
              "      <td>NaN</td>\n",
              "      <td>NaN</td>\n",
              "      <td>NaN</td>\n",
              "      <td>...</td>\n",
              "      <td>364</td>\n",
              "      <td>49</td>\n",
              "      <td>Polska</td>\n",
              "      <td>Meteomodel ❄️ ❄️ ❄️</td>\n",
              "      <td>PogodaMeteo</td>\n",
              "      <td>70608</td>\n",
              "      <td>NaN</td>\n",
              "      <td>https://meteomodel.pl/</td>\n",
              "      <td>False</td>\n",
              "      <td>AutoTweet: Dobowa suma #opad w #Polska w dniu ...</td>\n",
              "    </tr>\n",
              "    <tr>\n",
              "      <th>4</th>\n",
              "      <td>NaN</td>\n",
              "      <td>Monday 07 05 11:13:20 +0000 2021</td>\n",
              "      <td>NaN</td>\n",
              "      <td>None</td>\n",
              "      <td>None</td>\n",
              "      <td>0</td>\n",
              "      <td>1412006678275448834</td>\n",
              "      <td>Energetyka_24</td>\n",
              "      <td>1.412006e+18</td>\n",
              "      <td>3.821303e+09</td>\n",
              "      <td>...</td>\n",
              "      <td>936</td>\n",
              "      <td>20</td>\n",
              "      <td>opolskie</td>\n",
              "      <td>WIESLAW ROBERT ROK</td>\n",
              "      <td>WESLEYROBERTART</td>\n",
              "      <td>54644</td>\n",
              "      <td>NaN</td>\n",
              "      <td>http://www.opolskie.upr.org.pl</td>\n",
              "      <td>False</td>\n",
              "      <td>@Energetyka_24 Człowiek gigantyczny wpływ środ...</td>\n",
              "    </tr>\n",
              "    <tr>\n",
              "      <th>...</th>\n",
              "      <td>...</td>\n",
              "      <td>...</td>\n",
              "      <td>...</td>\n",
              "      <td>...</td>\n",
              "      <td>...</td>\n",
              "      <td>...</td>\n",
              "      <td>...</td>\n",
              "      <td>...</td>\n",
              "      <td>...</td>\n",
              "      <td>...</td>\n",
              "      <td>...</td>\n",
              "      <td>...</td>\n",
              "      <td>...</td>\n",
              "      <td>...</td>\n",
              "      <td>...</td>\n",
              "      <td>...</td>\n",
              "      <td>...</td>\n",
              "      <td>...</td>\n",
              "      <td>...</td>\n",
              "      <td>...</td>\n",
              "      <td>...</td>\n",
              "    </tr>\n",
              "    <tr>\n",
              "      <th>1945</th>\n",
              "      <td>NaN</td>\n",
              "      <td>Wednesday 06 30 08:10:33 +0000 2021</td>\n",
              "      <td>fitczerwiec fitlipiec</td>\n",
              "      <td>None</td>\n",
              "      <td>[https://t.co/ipaIPVU41l]</td>\n",
              "      <td>23</td>\n",
              "      <td>1410148739109601281</td>\n",
              "      <td>NaN</td>\n",
              "      <td>NaN</td>\n",
              "      <td>NaN</td>\n",
              "      <td>...</td>\n",
              "      <td>253</td>\n",
              "      <td>0</td>\n",
              "      <td>she/her !!!</td>\n",
              "      <td>𝘢𝘷𝘰𝘬𝘢𝘥𝘰✨</td>\n",
              "      <td>healthy_bubble_</td>\n",
              "      <td>1044</td>\n",
              "      <td>NaN</td>\n",
              "      <td>https://sunflowergirl01.carrd.co/</td>\n",
              "      <td>False</td>\n",
              "      <td>śniadanie tost francuski i czarna kawa, zjedzo...</td>\n",
              "    </tr>\n",
              "    <tr>\n",
              "      <th>1946</th>\n",
              "      <td>NaN</td>\n",
              "      <td>Wednesday 06 30 08:33:10 +0000 2021</td>\n",
              "      <td>NaN</td>\n",
              "      <td>None</td>\n",
              "      <td>[https://t.co/WHo1xXGM6P]</td>\n",
              "      <td>0</td>\n",
              "      <td>1410154429383417859</td>\n",
              "      <td>NaN</td>\n",
              "      <td>NaN</td>\n",
              "      <td>NaN</td>\n",
              "      <td>...</td>\n",
              "      <td>899</td>\n",
              "      <td>42</td>\n",
              "      <td>Poland</td>\n",
              "      <td>Extinction Rebellion Polska</td>\n",
              "      <td>XRPolska</td>\n",
              "      <td>5733</td>\n",
              "      <td>NaN</td>\n",
              "      <td>http://xr.org.pl/</td>\n",
              "      <td>False</td>\n",
              "      <td>W Kanadzie było wczoraj gorąco. Prawie 48°C. d...</td>\n",
              "    </tr>\n",
              "    <tr>\n",
              "      <th>1947</th>\n",
              "      <td>NaN</td>\n",
              "      <td>Wednesday 06 30 07:17:38 +0000 2021</td>\n",
              "      <td>NaN</td>\n",
              "      <td>None</td>\n",
              "      <td>None</td>\n",
              "      <td>0</td>\n",
              "      <td>1410135423813308416</td>\n",
              "      <td>NaN</td>\n",
              "      <td>NaN</td>\n",
              "      <td>NaN</td>\n",
              "      <td>...</td>\n",
              "      <td>828</td>\n",
              "      <td>69</td>\n",
              "      <td>Warsaw</td>\n",
              "      <td>Agnes Saoirse Byrne</td>\n",
              "      <td>MeSaoirse</td>\n",
              "      <td>256513</td>\n",
              "      <td>NaN</td>\n",
              "      <td>http://www.instagram.com/mesaoirse/</td>\n",
              "      <td>False</td>\n",
              "      <td>moment nawet Terlecki mówi w PiS klimat opuszc...</td>\n",
              "    </tr>\n",
              "    <tr>\n",
              "      <th>1948</th>\n",
              "      <td>NaN</td>\n",
              "      <td>Wednesday 06 30 09:37:47 +0000 2021</td>\n",
              "      <td>klimat metan alternatywnezrodlaenergii geologia</td>\n",
              "      <td>None</td>\n",
              "      <td>[https://t.co/YAE5rR6Y7U]</td>\n",
              "      <td>0</td>\n",
              "      <td>1410170690989400070</td>\n",
              "      <td>NaN</td>\n",
              "      <td>NaN</td>\n",
              "      <td>NaN</td>\n",
              "      <td>...</td>\n",
              "      <td>702</td>\n",
              "      <td>135</td>\n",
              "      <td>Polska</td>\n",
              "      <td>Nauka w Polsce</td>\n",
              "      <td>naukawpolsce</td>\n",
              "      <td>5670</td>\n",
              "      <td>NaN</td>\n",
              "      <td>http://naukawpolsce.pap.pl</td>\n",
              "      <td>False</td>\n",
              "      <td>Hydraty metanu alternatywne źródło energii, al...</td>\n",
              "    </tr>\n",
              "    <tr>\n",
              "      <th>1949</th>\n",
              "      <td>NaN</td>\n",
              "      <td>Wednesday 06 30 07:54:27 +0000 2021</td>\n",
              "      <td>NaN</td>\n",
              "      <td>None</td>\n",
              "      <td>None</td>\n",
              "      <td>5</td>\n",
              "      <td>1410144689714610176</td>\n",
              "      <td>NaN</td>\n",
              "      <td>NaN</td>\n",
              "      <td>NaN</td>\n",
              "      <td>...</td>\n",
              "      <td>652</td>\n",
              "      <td>6</td>\n",
              "      <td>she/her</td>\n",
              "      <td>PatriciaHemmings 💫 will see 5sos</td>\n",
              "      <td>PatriciaHemmin5</td>\n",
              "      <td>5842</td>\n",
              "      <td>NaN</td>\n",
              "      <td>NaN</td>\n",
              "      <td>False</td>\n",
              "      <td>Ta piosenka 100% Lukowa, w siódmym niebie, ulu...</td>\n",
              "    </tr>\n",
              "  </tbody>\n",
              "</table>\n",
              "<p>1950 rows × 36 columns</p>\n",
              "</div>\n",
              "    <div class=\"colab-df-buttons\">\n",
              "\n",
              "  <div class=\"colab-df-container\">\n",
              "    <button class=\"colab-df-convert\" onclick=\"convertToInteractive('df-1b0155f7-6d36-4b8e-9efa-7e854027e90b')\"\n",
              "            title=\"Convert this dataframe to an interactive table.\"\n",
              "            style=\"display:none;\">\n",
              "\n",
              "  <svg xmlns=\"http://www.w3.org/2000/svg\" height=\"24px\" viewBox=\"0 -960 960 960\">\n",
              "    <path d=\"M120-120v-720h720v720H120Zm60-500h600v-160H180v160Zm220 220h160v-160H400v160Zm0 220h160v-160H400v160ZM180-400h160v-160H180v160Zm440 0h160v-160H620v160ZM180-180h160v-160H180v160Zm440 0h160v-160H620v160Z\"/>\n",
              "  </svg>\n",
              "    </button>\n",
              "\n",
              "  <style>\n",
              "    .colab-df-container {\n",
              "      display:flex;\n",
              "      gap: 12px;\n",
              "    }\n",
              "\n",
              "    .colab-df-convert {\n",
              "      background-color: #E8F0FE;\n",
              "      border: none;\n",
              "      border-radius: 50%;\n",
              "      cursor: pointer;\n",
              "      display: none;\n",
              "      fill: #1967D2;\n",
              "      height: 32px;\n",
              "      padding: 0 0 0 0;\n",
              "      width: 32px;\n",
              "    }\n",
              "\n",
              "    .colab-df-convert:hover {\n",
              "      background-color: #E2EBFA;\n",
              "      box-shadow: 0px 1px 2px rgba(60, 64, 67, 0.3), 0px 1px 3px 1px rgba(60, 64, 67, 0.15);\n",
              "      fill: #174EA6;\n",
              "    }\n",
              "\n",
              "    .colab-df-buttons div {\n",
              "      margin-bottom: 4px;\n",
              "    }\n",
              "\n",
              "    [theme=dark] .colab-df-convert {\n",
              "      background-color: #3B4455;\n",
              "      fill: #D2E3FC;\n",
              "    }\n",
              "\n",
              "    [theme=dark] .colab-df-convert:hover {\n",
              "      background-color: #434B5C;\n",
              "      box-shadow: 0px 1px 3px 1px rgba(0, 0, 0, 0.15);\n",
              "      filter: drop-shadow(0px 1px 2px rgba(0, 0, 0, 0.3));\n",
              "      fill: #FFFFFF;\n",
              "    }\n",
              "  </style>\n",
              "\n",
              "    <script>\n",
              "      const buttonEl =\n",
              "        document.querySelector('#df-1b0155f7-6d36-4b8e-9efa-7e854027e90b button.colab-df-convert');\n",
              "      buttonEl.style.display =\n",
              "        google.colab.kernel.accessAllowed ? 'block' : 'none';\n",
              "\n",
              "      async function convertToInteractive(key) {\n",
              "        const element = document.querySelector('#df-1b0155f7-6d36-4b8e-9efa-7e854027e90b');\n",
              "        const dataTable =\n",
              "          await google.colab.kernel.invokeFunction('convertToInteractive',\n",
              "                                                    [key], {});\n",
              "        if (!dataTable) return;\n",
              "\n",
              "        const docLinkHtml = 'Like what you see? Visit the ' +\n",
              "          '<a target=\"_blank\" href=https://colab.research.google.com/notebooks/data_table.ipynb>data table notebook</a>'\n",
              "          + ' to learn more about interactive tables.';\n",
              "        element.innerHTML = '';\n",
              "        dataTable['output_type'] = 'display_data';\n",
              "        await google.colab.output.renderOutput(dataTable, element);\n",
              "        const docLink = document.createElement('div');\n",
              "        docLink.innerHTML = docLinkHtml;\n",
              "        element.appendChild(docLink);\n",
              "      }\n",
              "    </script>\n",
              "  </div>\n",
              "\n",
              "\n",
              "<div id=\"df-4417944e-27c5-4566-8d8e-807d98386129\">\n",
              "  <button class=\"colab-df-quickchart\" onclick=\"quickchart('df-4417944e-27c5-4566-8d8e-807d98386129')\"\n",
              "            title=\"Suggest charts\"\n",
              "            style=\"display:none;\">\n",
              "\n",
              "<svg xmlns=\"http://www.w3.org/2000/svg\" height=\"24px\"viewBox=\"0 0 24 24\"\n",
              "     width=\"24px\">\n",
              "    <g>\n",
              "        <path d=\"M19 3H5c-1.1 0-2 .9-2 2v14c0 1.1.9 2 2 2h14c1.1 0 2-.9 2-2V5c0-1.1-.9-2-2-2zM9 17H7v-7h2v7zm4 0h-2V7h2v10zm4 0h-2v-4h2v4z\"/>\n",
              "    </g>\n",
              "</svg>\n",
              "  </button>\n",
              "\n",
              "<style>\n",
              "  .colab-df-quickchart {\n",
              "      --bg-color: #E8F0FE;\n",
              "      --fill-color: #1967D2;\n",
              "      --hover-bg-color: #E2EBFA;\n",
              "      --hover-fill-color: #174EA6;\n",
              "      --disabled-fill-color: #AAA;\n",
              "      --disabled-bg-color: #DDD;\n",
              "  }\n",
              "\n",
              "  [theme=dark] .colab-df-quickchart {\n",
              "      --bg-color: #3B4455;\n",
              "      --fill-color: #D2E3FC;\n",
              "      --hover-bg-color: #434B5C;\n",
              "      --hover-fill-color: #FFFFFF;\n",
              "      --disabled-bg-color: #3B4455;\n",
              "      --disabled-fill-color: #666;\n",
              "  }\n",
              "\n",
              "  .colab-df-quickchart {\n",
              "    background-color: var(--bg-color);\n",
              "    border: none;\n",
              "    border-radius: 50%;\n",
              "    cursor: pointer;\n",
              "    display: none;\n",
              "    fill: var(--fill-color);\n",
              "    height: 32px;\n",
              "    padding: 0;\n",
              "    width: 32px;\n",
              "  }\n",
              "\n",
              "  .colab-df-quickchart:hover {\n",
              "    background-color: var(--hover-bg-color);\n",
              "    box-shadow: 0 1px 2px rgba(60, 64, 67, 0.3), 0 1px 3px 1px rgba(60, 64, 67, 0.15);\n",
              "    fill: var(--button-hover-fill-color);\n",
              "  }\n",
              "\n",
              "  .colab-df-quickchart-complete:disabled,\n",
              "  .colab-df-quickchart-complete:disabled:hover {\n",
              "    background-color: var(--disabled-bg-color);\n",
              "    fill: var(--disabled-fill-color);\n",
              "    box-shadow: none;\n",
              "  }\n",
              "\n",
              "  .colab-df-spinner {\n",
              "    border: 2px solid var(--fill-color);\n",
              "    border-color: transparent;\n",
              "    border-bottom-color: var(--fill-color);\n",
              "    animation:\n",
              "      spin 1s steps(1) infinite;\n",
              "  }\n",
              "\n",
              "  @keyframes spin {\n",
              "    0% {\n",
              "      border-color: transparent;\n",
              "      border-bottom-color: var(--fill-color);\n",
              "      border-left-color: var(--fill-color);\n",
              "    }\n",
              "    20% {\n",
              "      border-color: transparent;\n",
              "      border-left-color: var(--fill-color);\n",
              "      border-top-color: var(--fill-color);\n",
              "    }\n",
              "    30% {\n",
              "      border-color: transparent;\n",
              "      border-left-color: var(--fill-color);\n",
              "      border-top-color: var(--fill-color);\n",
              "      border-right-color: var(--fill-color);\n",
              "    }\n",
              "    40% {\n",
              "      border-color: transparent;\n",
              "      border-right-color: var(--fill-color);\n",
              "      border-top-color: var(--fill-color);\n",
              "    }\n",
              "    60% {\n",
              "      border-color: transparent;\n",
              "      border-right-color: var(--fill-color);\n",
              "    }\n",
              "    80% {\n",
              "      border-color: transparent;\n",
              "      border-right-color: var(--fill-color);\n",
              "      border-bottom-color: var(--fill-color);\n",
              "    }\n",
              "    90% {\n",
              "      border-color: transparent;\n",
              "      border-bottom-color: var(--fill-color);\n",
              "    }\n",
              "  }\n",
              "</style>\n",
              "\n",
              "  <script>\n",
              "    async function quickchart(key) {\n",
              "      const quickchartButtonEl =\n",
              "        document.querySelector('#' + key + ' button');\n",
              "      quickchartButtonEl.disabled = true;  // To prevent multiple clicks.\n",
              "      quickchartButtonEl.classList.add('colab-df-spinner');\n",
              "      try {\n",
              "        const charts = await google.colab.kernel.invokeFunction(\n",
              "            'suggestCharts', [key], {});\n",
              "      } catch (error) {\n",
              "        console.error('Error during call to suggestCharts:', error);\n",
              "      }\n",
              "      quickchartButtonEl.classList.remove('colab-df-spinner');\n",
              "      quickchartButtonEl.classList.add('colab-df-quickchart-complete');\n",
              "    }\n",
              "    (() => {\n",
              "      let quickchartButtonEl =\n",
              "        document.querySelector('#df-4417944e-27c5-4566-8d8e-807d98386129 button');\n",
              "      quickchartButtonEl.style.display =\n",
              "        google.colab.kernel.accessAllowed ? 'block' : 'none';\n",
              "    })();\n",
              "  </script>\n",
              "</div>\n",
              "\n",
              "  <div id=\"id_b6e93268-e493-493c-a425-0a6d080cf697\">\n",
              "    <style>\n",
              "      .colab-df-generate {\n",
              "        background-color: #E8F0FE;\n",
              "        border: none;\n",
              "        border-radius: 50%;\n",
              "        cursor: pointer;\n",
              "        display: none;\n",
              "        fill: #1967D2;\n",
              "        height: 32px;\n",
              "        padding: 0 0 0 0;\n",
              "        width: 32px;\n",
              "      }\n",
              "\n",
              "      .colab-df-generate:hover {\n",
              "        background-color: #E2EBFA;\n",
              "        box-shadow: 0px 1px 2px rgba(60, 64, 67, 0.3), 0px 1px 3px 1px rgba(60, 64, 67, 0.15);\n",
              "        fill: #174EA6;\n",
              "      }\n",
              "\n",
              "      [theme=dark] .colab-df-generate {\n",
              "        background-color: #3B4455;\n",
              "        fill: #D2E3FC;\n",
              "      }\n",
              "\n",
              "      [theme=dark] .colab-df-generate:hover {\n",
              "        background-color: #434B5C;\n",
              "        box-shadow: 0px 1px 3px 1px rgba(0, 0, 0, 0.15);\n",
              "        filter: drop-shadow(0px 1px 2px rgba(0, 0, 0, 0.3));\n",
              "        fill: #FFFFFF;\n",
              "      }\n",
              "    </style>\n",
              "    <button class=\"colab-df-generate\" onclick=\"generateWithVariable('df')\"\n",
              "            title=\"Generate code using this dataframe.\"\n",
              "            style=\"display:none;\">\n",
              "\n",
              "  <svg xmlns=\"http://www.w3.org/2000/svg\" height=\"24px\"viewBox=\"0 0 24 24\"\n",
              "       width=\"24px\">\n",
              "    <path d=\"M7,19H8.4L18.45,9,17,7.55,7,17.6ZM5,21V16.75L18.45,3.32a2,2,0,0,1,2.83,0l1.4,1.43a1.91,1.91,0,0,1,.58,1.4,1.91,1.91,0,0,1-.58,1.4L9.25,21ZM18.45,9,17,7.55Zm-12,3A5.31,5.31,0,0,0,4.9,8.1,5.31,5.31,0,0,0,1,6.5,5.31,5.31,0,0,0,4.9,4.9,5.31,5.31,0,0,0,6.5,1,5.31,5.31,0,0,0,8.1,4.9,5.31,5.31,0,0,0,12,6.5,5.46,5.46,0,0,0,6.5,12Z\"/>\n",
              "  </svg>\n",
              "    </button>\n",
              "    <script>\n",
              "      (() => {\n",
              "      const buttonEl =\n",
              "        document.querySelector('#id_b6e93268-e493-493c-a425-0a6d080cf697 button.colab-df-generate');\n",
              "      buttonEl.style.display =\n",
              "        google.colab.kernel.accessAllowed ? 'block' : 'none';\n",
              "\n",
              "      buttonEl.onclick = () => {\n",
              "        google.colab.notebook.generateWithVariable('df');\n",
              "      }\n",
              "      })();\n",
              "    </script>\n",
              "  </div>\n",
              "\n",
              "    </div>\n",
              "  </div>\n"
            ],
            "application/vnd.google.colaboratory.intrinsic+json": {
              "type": "dataframe",
              "variable_name": "df"
            }
          },
          "metadata": {},
          "execution_count": 119
        }
      ]
    },
    {
      "cell_type": "code",
      "source": [
        "#Part 2 - Exploratory data analysis -- UŻYJ SQL"
      ],
      "metadata": {
        "id": "lUPfeIlGE3vc"
      },
      "execution_count": 120,
      "outputs": []
    },
    {
      "cell_type": "code",
      "source": [
        "#List the top 5 tweets with the highest number of likes."
      ],
      "metadata": {
        "id": "wOR_5M0_Cu_k"
      },
      "execution_count": 121,
      "outputs": []
    },
    {
      "cell_type": "code",
      "source": [
        "import sqlite3"
      ],
      "metadata": {
        "id": "a0DRBmZOTR9c"
      },
      "execution_count": 122,
      "outputs": []
    },
    {
      "cell_type": "code",
      "source": [
        "df = pd.read_csv('dane3.csv')"
      ],
      "metadata": {
        "id": "CTjmGBXahwyy"
      },
      "execution_count": 123,
      "outputs": []
    },
    {
      "cell_type": "code",
      "source": [
        "conn = sqlite3.connect('dane3.db')\n",
        "cursor = conn.cursor()"
      ],
      "metadata": {
        "id": "REhQrsPglrAY"
      },
      "execution_count": 124,
      "outputs": []
    },
    {
      "cell_type": "code",
      "source": [
        "df.to_sql('dane3', conn, if_exists='replace', index=False)"
      ],
      "metadata": {
        "colab": {
          "base_uri": "https://localhost:8080/"
        },
        "id": "yy-gsK0vlsp5",
        "outputId": "a734dea3-3b8e-474f-9bce-db8abe679a67"
      },
      "execution_count": 125,
      "outputs": [
        {
          "output_type": "execute_result",
          "data": {
            "text/plain": [
              "1950"
            ]
          },
          "metadata": {},
          "execution_count": 125
        }
      ]
    },
    {
      "cell_type": "code",
      "source": [
        "cursor.execute(\"SELECT id, text, favorite_count FROM df ORDER BY favorite_count DESC LIMIT 5\")\n",
        "print(cursor.fetchall())"
      ],
      "metadata": {
        "colab": {
          "base_uri": "https://localhost:8080/"
        },
        "id": "nMqJwsFkmHZ6",
        "outputId": "1835564f-74fa-4c6f-87ee-448b0b381ce4"
      },
      "execution_count": 126,
      "outputs": [
        {
          "output_type": "stream",
          "name": "stdout",
          "text": [
            "[(1411005965428789252, 'Imagine pójść na pierwsza randkę z dziewczyna na jakiś wiejski festyn. Czujesz ten klimat? Dmuchane zamki, pełno emerytów, polskie hity lat 90, zapach wiejskiego gowna i najtańszy browar na łące', 5634), (1411193596347310089, 'Kalifornia kroliczkiem katastrofy klimatyzmu. Nawet Bloomberg przyznaje, że szaleńczy pęd do zielonej energii doprowadził do masowych wylączeń i awarii Klimatyści swoje, że to klimat,  ale jakoś dziwnie klimat nie powoduje wylączeń w sąsiednich stanach. https://t.co/fcQgFatabz', 467), (1411731136833888259, '@yahabibtii Pracuje w kawiarni i nieraz jacyś stali klienci przychodzili z laptopem pracować itd, mówili że po prostu u nas w kawiarni jest fajny klimat, że dobrze im się tu pracuje, z resztą też taka osoba zawsze bierze kawę i coś do jedzenia więc myślę że spoko opcja tak raz na jakiś czas', 215), (1411273519875465216, 'Ciekawe, czy upały i pożary w chłodnej Kanadzie, przekonają niektórych, że trzeba chronić klimat?\\n\\n#kryzysklimatyczny', 131), (1410658266464534540, 'myślę, że klimat https://t.co/uIXNcsyCTW', 99)]\n"
          ]
        }
      ]
    },
    {
      "cell_type": "code",
      "source": [
        "#List the top 5 tweets with the highest number of retweets.\n",
        "cursor.execute(\"SELECT id, text, retweet_count FROM df ORDER BY retweet_count DESC LIMIT 5\")\n",
        "print(cursor.fetchall())"
      ],
      "metadata": {
        "colab": {
          "base_uri": "https://localhost:8080/"
        },
        "id": "n4_XGjtQnDBW",
        "outputId": "ff8f1566-4116-49c3-8fa8-b7f2e2d74f35"
      },
      "execution_count": 127,
      "outputs": [
        {
          "output_type": "stream",
          "name": "stdout",
          "text": [
            "[(1411999998091354114, 'Imagine pójść na pierwsza randkę z dziewczyna na jakiś wiejski festyn. Czujesz ten klimat? Dmuchane zamki, pełno emerytów, polskie hity lat 90, zapach wiejskiego gowna i najtańszy browar na łące', 395), (1411794498506702850, 'Imagine pójść na pierwsza randkę z dziewczyna na jakiś wiejski festyn. Czujesz ten klimat? Dmuchane zamki, pełno emerytów, polskie hity lat 90, zapach wiejskiego gowna i najtańszy browar na łące', 395), (1411721715126837251, 'Imagine pójść na pierwsza randkę z dziewczyna na jakiś wiejski festyn. Czujesz ten klimat? Dmuchane zamki, pełno emerytów, polskie hity lat 90, zapach wiejskiego gowna i najtańszy browar na łące', 395), (1411768178322153473, 'Imagine pójść na pierwsza randkę z dziewczyna na jakiś wiejski festyn. Czujesz ten klimat? Dmuchane zamki, pełno emerytów, polskie hity lat 90, zapach wiejskiego gowna i najtańszy browar na łące', 395), (1411733355796783106, 'Imagine pójść na pierwsza randkę z dziewczyna na jakiś wiejski festyn. Czujesz ten klimat? Dmuchane zamki, pełno emerytów, polskie hity lat 90, zapach wiejskiego gowna i najtańszy browar na łące', 395)]\n"
          ]
        }
      ]
    },
    {
      "cell_type": "code",
      "source": [
        "#Show only tweets that are not considered 'sensitive' (possibly_sensitive column).\n",
        "cursor.execute(\"SELECT id, text, user_name FROM df WHERE possibly_sensitive = TRUE\")\n",
        "print(cursor.fetchall())"
      ],
      "metadata": {
        "colab": {
          "base_uri": "https://localhost:8080/"
        },
        "id": "odOcl2LM_gkc",
        "outputId": "1763c154-601a-41fe-f159-661211fc6ff0"
      },
      "execution_count": 140,
      "outputs": [
        {
          "output_type": "stream",
          "name": "stdout",
          "text": [
            "[(1411789162907418625, '@krislem58 Nie jestem fanem, ale czasem lubię ten klimat...\\nhttps://t.co/1OAlvcGZKk', 'Krzysztof M. Lemański #PiS get the fuck out !'), (1411346211743748099, 'Czy ptaki wędrowne 🐤pomogą roślinom \"uciec\" przed ociepleniem?\\nWięcej informacji:\\n                 👇\\nhttps://t.co/LIk8cpnCGU\\n                  🐤\\n#ptaki #klimat #ocieplenie #bioróżnorodność https://t.co/b19wcxECWw', 'さらどぅ/saradox'), (1411067456630792193, 'Piękny klimat #BELITA https://t.co/DycfsMr627', 'JoliooS'), (1410853496577048578, 'Jak zmieni się klimat? Poor farmer vs.   rich farmer. @EU_Commission @jwojc @Europarl_EN czy #F2F i Green Deal wystarczą na nowe wyzwania? https://t.co/u3ve4cqfTZ', 'Green REV Institute'), (1410841243622555652, 'Nie reklamujmy tego co szkodzi. Zdrowie, klimat, prawa zwierząt. Nie ma definicji zrównoważonej produkcji/ nie finansujmy reklamy mięsa i nabiału https://t.co/mEwB8EaiRp @MarcinUrbaniakk @jwojc #StopEUMeatAds', 'Green REV Institute'), (1410118976471023617, 'Kojarzona z zimą kanada zanotowała mały rekord.\\nBawmy się dalej. #klimat https://t.co/OMw5Kj0MPN', 'Przemysław Skrzydło')]\n"
          ]
        }
      ]
    },
    {
      "cell_type": "code",
      "source": [
        "#Show the tweets of the user who created the account earliest (of all users in the dataset) (user_created_at column).\n",
        "cursor.execute(\"\"\"\n",
        "SELECT T1.id, T1.text, T1.user_name\n",
        "FROM df AS T1\n",
        "INNER JOIN (\n",
        "    SELECT user_id, MIN(STRFTIME('%Y-%m-%d %H:%M:%S', user_created_at)) AS earliest_created_at\n",
        "    FROM df\n",
        "    GROUP BY user_id\n",
        "    ORDER BY earliest_created_at\n",
        "    LIMIT 1\n",
        ") AS T2 ON T1.user_id = T2.user_id;\n",
        "\"\"\")\n",
        "print(cursor.fetchall())\n"
      ],
      "metadata": {
        "colab": {
          "base_uri": "https://localhost:8080/"
        },
        "id": "N1YU5PXTCZXz",
        "outputId": "2ec8eae3-ad5a-4e31-d3ce-a8c9dd4a54a0"
      },
      "execution_count": 141,
      "outputs": [
        {
          "output_type": "stream",
          "name": "stdout",
          "text": [
            "[(1411652554799386624, 'Trochę ostrzejszy klimat u nas ale właśnie może czas na zadaszone ścieżki 👇👍 https://t.co/kf1aZSfDqF', 'Czarek Czerwiński 🇵🇱🇺🇦🐈')]\n"
          ]
        }
      ]
    },
    {
      "cell_type": "code",
      "source": [
        "#Show the tweets of the user with the most followers.\n",
        "\n",
        "cursor.execute(\"\"\"\n",
        "SELECT id, text, user_name\n",
        "FROM df\n",
        "WHERE user_followers_count = (\n",
        "    SELECT MAX(user_followers_count)\n",
        "    FROM df\n",
        ");\n",
        "\"\"\")\n",
        "print(cursor.fetchall())"
      ],
      "metadata": {
        "colab": {
          "base_uri": "https://localhost:8080/"
        },
        "id": "UnWRW2XtH7q7",
        "outputId": "8e5a3ebb-32de-42d2-9ba3-ca8be5795f98"
      },
      "execution_count": 142,
      "outputs": [
        {
          "output_type": "stream",
          "name": "stdout",
          "text": [
            "[(1410433382807392260, 'Fala upałów w #Kanada i #USA. Setki ofiar hipertermii #pogoda #klimat \\n\\nhttps://t.co/dXYmBIkFAt', 'Rzeczpospolita'), (1410190585739284480, '#Banki dopłacą do pieców, jeśli zdecydujemy się na #kredyt \\n\\nhttps://t.co/LbfRpgsyqS', 'Rzeczpospolita'), (1410074684008378369, '49,5 stopnia Celsjusza w mieście #Kanada. Przed tym tygodniem w Kanadzie nigdy nie zanotowano temperatury wyższej niż 45 stopni Celsjusza #pogoda #klimat \\n\\nhttps://t.co/1RtJbvnJ5V', 'Rzeczpospolita')]\n"
          ]
        }
      ]
    },
    {
      "cell_type": "code",
      "source": [
        "#Show only verified users (user_verified column).\n",
        "cursor.execute(\"\"\"\n",
        "SELECT user_id, user_name\n",
        "FROM df\n",
        "WHERE  user_verified = TRUE\n",
        "\"\"\")\n",
        "print(cursor.fetchall())"
      ],
      "metadata": {
        "colab": {
          "base_uri": "https://localhost:8080/"
        },
        "id": "TJxmxt_AIh4D",
        "outputId": "f30359ee-cefb-48c0-a131-a823cbd86a60"
      },
      "execution_count": 144,
      "outputs": [
        {
          "output_type": "stream",
          "name": "stdout",
          "text": [
            "[(1077726788, 'Maciej Lasek'), (104521525, 'Dziennik.pl'), (753647431, 'Jan Mosiński'), (2451775295, 'Witold Zembaczyński🇵🇱'), (96859379, 'Kowal'), (2279602543, 'Katarzyna Lubnauer'), (4187768614, 'Agnieszka Hanajczyk'), (104521525, 'Dziennik.pl'), (2227924555, 'Ministerstwo Klimatu i Środowiska'), (96859379, 'Kowal'), (877868124984442880, 'Ireneusz Zyska'), (362411242, 'Ministerstwo Funduszy i Polityki Regionalnej'), (2227924555, 'Ministerstwo Klimatu i Środowiska'), (96859379, 'Kowal'), (877868124984442880, 'Ireneusz Zyska'), (2227924555, 'Ministerstwo Klimatu i Środowiska'), (2227924555, 'Ministerstwo Klimatu i Środowiska'), (96859379, 'Kowal'), (194399035, 'Rzeczpospolita'), (636914691, 'Grzegorz Nawacki'), (2227924555, 'Ministerstwo Klimatu i Środowiska'), (877868124984442880, 'Ireneusz Zyska'), (2227924555, 'Ministerstwo Klimatu i Środowiska'), (877868124984442880, 'Ireneusz Zyska'), (3004026063, 'Michał Potocki'), (877868124984442880, 'Ireneusz Zyska'), (194399035, 'Rzeczpospolita'), (194399035, 'Rzeczpospolita'), (2227924555, 'Ministerstwo Klimatu i Środowiska')]\n"
          ]
        }
      ]
    },
    {
      "cell_type": "code",
      "source": [
        "#Indicate on which day of the week the tweets in the dataset were most frequently published.\n",
        "\n",
        "cursor.execute(\"\"\"\n",
        "SELECT\n",
        "    CASE\n",
        "        WHEN created_at LIKE '%Mon%' THEN 'Mon'\n",
        "        WHEN created_at LIKE '%Tue%' THEN 'Tue'\n",
        "        WHEN created_at LIKE '%Wed%' THEN 'Wed'\n",
        "        WHEN created_at LIKE '%Thu%' THEN 'Thu'\n",
        "        WHEN created_at LIKE '%Fri%' THEN 'Fri'\n",
        "        WHEN created_at LIKE '%Sat%' THEN 'Sat'\n",
        "        WHEN created_at LIKE '%Sun%' THEN 'Sun'\n",
        "        ELSE 'Unknown'\n",
        "    END AS day_of_week,\n",
        "    COUNT(*) AS tweet_count\n",
        "FROM df\n",
        "GROUP BY day_of_week\n",
        "ORDER BY tweet_count DESC\n",
        "LIMIT 1\n",
        "\"\"\")\n",
        "print(cursor.fetchall())"
      ],
      "metadata": {
        "colab": {
          "base_uri": "https://localhost:8080/"
        },
        "id": "oSIf_fx2Iu0R",
        "outputId": "500ff0bd-d5b8-4ef2-a16b-795788c755b7"
      },
      "execution_count": 148,
      "outputs": [
        {
          "output_type": "stream",
          "name": "stdout",
          "text": [
            "[('Sat', 616)]\n"
          ]
        }
      ]
    },
    {
      "cell_type": "code",
      "source": [
        "#Part 3"
      ],
      "metadata": {
        "id": "dwr7_jBFLwKZ"
      },
      "execution_count": null,
      "outputs": []
    },
    {
      "cell_type": "code",
      "source": [
        "#Extract people (persName) and add them to a column called persons"
      ],
      "metadata": {
        "id": "bLiORGweMS0s"
      },
      "execution_count": null,
      "outputs": []
    },
    {
      "cell_type": "code",
      "source": [
        "import spacy"
      ],
      "metadata": {
        "id": "LL5_PCZLMkj7"
      },
      "execution_count": 149,
      "outputs": []
    },
    {
      "cell_type": "code",
      "source": [
        "!python -m spacy download pl_core_news_sm"
      ],
      "metadata": {
        "colab": {
          "base_uri": "https://localhost:8080/"
        },
        "id": "dOB22TNYM7RV",
        "outputId": "49f54cfb-3f31-492b-8985-64a28e4a093f"
      },
      "execution_count": 152,
      "outputs": [
        {
          "output_type": "stream",
          "name": "stdout",
          "text": [
            "Collecting pl-core-news-sm==3.7.0\n",
            "  Downloading https://github.com/explosion/spacy-models/releases/download/pl_core_news_sm-3.7.0/pl_core_news_sm-3.7.0-py3-none-any.whl (20.2 MB)\n",
            "\u001b[2K     \u001b[90m━━━━━━━━━━━━━━━━━━━━━━━━━━━━━━━━━━━━━━━━\u001b[0m \u001b[32m20.2/20.2 MB\u001b[0m \u001b[31m34.3 MB/s\u001b[0m eta \u001b[36m0:00:00\u001b[0m\n",
            "\u001b[?25hRequirement already satisfied: spacy<3.8.0,>=3.7.0 in /usr/local/lib/python3.11/dist-packages (from pl-core-news-sm==3.7.0) (3.7.5)\n",
            "Requirement already satisfied: spacy-legacy<3.1.0,>=3.0.11 in /usr/local/lib/python3.11/dist-packages (from spacy<3.8.0,>=3.7.0->pl-core-news-sm==3.7.0) (3.0.12)\n",
            "Requirement already satisfied: spacy-loggers<2.0.0,>=1.0.0 in /usr/local/lib/python3.11/dist-packages (from spacy<3.8.0,>=3.7.0->pl-core-news-sm==3.7.0) (1.0.5)\n",
            "Requirement already satisfied: murmurhash<1.1.0,>=0.28.0 in /usr/local/lib/python3.11/dist-packages (from spacy<3.8.0,>=3.7.0->pl-core-news-sm==3.7.0) (1.0.12)\n",
            "Requirement already satisfied: cymem<2.1.0,>=2.0.2 in /usr/local/lib/python3.11/dist-packages (from spacy<3.8.0,>=3.7.0->pl-core-news-sm==3.7.0) (2.0.11)\n",
            "Requirement already satisfied: preshed<3.1.0,>=3.0.2 in /usr/local/lib/python3.11/dist-packages (from spacy<3.8.0,>=3.7.0->pl-core-news-sm==3.7.0) (3.0.9)\n",
            "Requirement already satisfied: thinc<8.3.0,>=8.2.2 in /usr/local/lib/python3.11/dist-packages (from spacy<3.8.0,>=3.7.0->pl-core-news-sm==3.7.0) (8.2.5)\n",
            "Requirement already satisfied: wasabi<1.2.0,>=0.9.1 in /usr/local/lib/python3.11/dist-packages (from spacy<3.8.0,>=3.7.0->pl-core-news-sm==3.7.0) (1.1.3)\n",
            "Requirement already satisfied: srsly<3.0.0,>=2.4.3 in /usr/local/lib/python3.11/dist-packages (from spacy<3.8.0,>=3.7.0->pl-core-news-sm==3.7.0) (2.5.1)\n",
            "Requirement already satisfied: catalogue<2.1.0,>=2.0.6 in /usr/local/lib/python3.11/dist-packages (from spacy<3.8.0,>=3.7.0->pl-core-news-sm==3.7.0) (2.0.10)\n",
            "Requirement already satisfied: weasel<0.5.0,>=0.1.0 in /usr/local/lib/python3.11/dist-packages (from spacy<3.8.0,>=3.7.0->pl-core-news-sm==3.7.0) (0.4.1)\n",
            "Requirement already satisfied: typer<1.0.0,>=0.3.0 in /usr/local/lib/python3.11/dist-packages (from spacy<3.8.0,>=3.7.0->pl-core-news-sm==3.7.0) (0.15.1)\n",
            "Requirement already satisfied: tqdm<5.0.0,>=4.38.0 in /usr/local/lib/python3.11/dist-packages (from spacy<3.8.0,>=3.7.0->pl-core-news-sm==3.7.0) (4.67.1)\n",
            "Requirement already satisfied: requests<3.0.0,>=2.13.0 in /usr/local/lib/python3.11/dist-packages (from spacy<3.8.0,>=3.7.0->pl-core-news-sm==3.7.0) (2.32.3)\n",
            "Requirement already satisfied: pydantic!=1.8,!=1.8.1,<3.0.0,>=1.7.4 in /usr/local/lib/python3.11/dist-packages (from spacy<3.8.0,>=3.7.0->pl-core-news-sm==3.7.0) (2.10.5)\n",
            "Requirement already satisfied: jinja2 in /usr/local/lib/python3.11/dist-packages (from spacy<3.8.0,>=3.7.0->pl-core-news-sm==3.7.0) (3.1.5)\n",
            "Requirement already satisfied: setuptools in /usr/local/lib/python3.11/dist-packages (from spacy<3.8.0,>=3.7.0->pl-core-news-sm==3.7.0) (75.1.0)\n",
            "Requirement already satisfied: packaging>=20.0 in /usr/local/lib/python3.11/dist-packages (from spacy<3.8.0,>=3.7.0->pl-core-news-sm==3.7.0) (24.2)\n",
            "Requirement already satisfied: langcodes<4.0.0,>=3.2.0 in /usr/local/lib/python3.11/dist-packages (from spacy<3.8.0,>=3.7.0->pl-core-news-sm==3.7.0) (3.5.0)\n",
            "Requirement already satisfied: numpy>=1.19.0 in /usr/local/lib/python3.11/dist-packages (from spacy<3.8.0,>=3.7.0->pl-core-news-sm==3.7.0) (1.26.4)\n",
            "Requirement already satisfied: language-data>=1.2 in /usr/local/lib/python3.11/dist-packages (from langcodes<4.0.0,>=3.2.0->spacy<3.8.0,>=3.7.0->pl-core-news-sm==3.7.0) (1.3.0)\n",
            "Requirement already satisfied: annotated-types>=0.6.0 in /usr/local/lib/python3.11/dist-packages (from pydantic!=1.8,!=1.8.1,<3.0.0,>=1.7.4->spacy<3.8.0,>=3.7.0->pl-core-news-sm==3.7.0) (0.7.0)\n",
            "Requirement already satisfied: pydantic-core==2.27.2 in /usr/local/lib/python3.11/dist-packages (from pydantic!=1.8,!=1.8.1,<3.0.0,>=1.7.4->spacy<3.8.0,>=3.7.0->pl-core-news-sm==3.7.0) (2.27.2)\n",
            "Requirement already satisfied: typing-extensions>=4.12.2 in /usr/local/lib/python3.11/dist-packages (from pydantic!=1.8,!=1.8.1,<3.0.0,>=1.7.4->spacy<3.8.0,>=3.7.0->pl-core-news-sm==3.7.0) (4.12.2)\n",
            "Requirement already satisfied: charset-normalizer<4,>=2 in /usr/local/lib/python3.11/dist-packages (from requests<3.0.0,>=2.13.0->spacy<3.8.0,>=3.7.0->pl-core-news-sm==3.7.0) (3.4.1)\n",
            "Requirement already satisfied: idna<4,>=2.5 in /usr/local/lib/python3.11/dist-packages (from requests<3.0.0,>=2.13.0->spacy<3.8.0,>=3.7.0->pl-core-news-sm==3.7.0) (3.10)\n",
            "Requirement already satisfied: urllib3<3,>=1.21.1 in /usr/local/lib/python3.11/dist-packages (from requests<3.0.0,>=2.13.0->spacy<3.8.0,>=3.7.0->pl-core-news-sm==3.7.0) (2.3.0)\n",
            "Requirement already satisfied: certifi>=2017.4.17 in /usr/local/lib/python3.11/dist-packages (from requests<3.0.0,>=2.13.0->spacy<3.8.0,>=3.7.0->pl-core-news-sm==3.7.0) (2024.12.14)\n",
            "Requirement already satisfied: blis<0.8.0,>=0.7.8 in /usr/local/lib/python3.11/dist-packages (from thinc<8.3.0,>=8.2.2->spacy<3.8.0,>=3.7.0->pl-core-news-sm==3.7.0) (0.7.11)\n",
            "Requirement already satisfied: confection<1.0.0,>=0.0.1 in /usr/local/lib/python3.11/dist-packages (from thinc<8.3.0,>=8.2.2->spacy<3.8.0,>=3.7.0->pl-core-news-sm==3.7.0) (0.1.5)\n",
            "Requirement already satisfied: click>=8.0.0 in /usr/local/lib/python3.11/dist-packages (from typer<1.0.0,>=0.3.0->spacy<3.8.0,>=3.7.0->pl-core-news-sm==3.7.0) (8.1.8)\n",
            "Requirement already satisfied: shellingham>=1.3.0 in /usr/local/lib/python3.11/dist-packages (from typer<1.0.0,>=0.3.0->spacy<3.8.0,>=3.7.0->pl-core-news-sm==3.7.0) (1.5.4)\n",
            "Requirement already satisfied: rich>=10.11.0 in /usr/local/lib/python3.11/dist-packages (from typer<1.0.0,>=0.3.0->spacy<3.8.0,>=3.7.0->pl-core-news-sm==3.7.0) (13.9.4)\n",
            "Requirement already satisfied: cloudpathlib<1.0.0,>=0.7.0 in /usr/local/lib/python3.11/dist-packages (from weasel<0.5.0,>=0.1.0->spacy<3.8.0,>=3.7.0->pl-core-news-sm==3.7.0) (0.20.0)\n",
            "Requirement already satisfied: smart-open<8.0.0,>=5.2.1 in /usr/local/lib/python3.11/dist-packages (from weasel<0.5.0,>=0.1.0->spacy<3.8.0,>=3.7.0->pl-core-news-sm==3.7.0) (7.1.0)\n",
            "Requirement already satisfied: MarkupSafe>=2.0 in /usr/local/lib/python3.11/dist-packages (from jinja2->spacy<3.8.0,>=3.7.0->pl-core-news-sm==3.7.0) (3.0.2)\n",
            "Requirement already satisfied: marisa-trie>=1.1.0 in /usr/local/lib/python3.11/dist-packages (from language-data>=1.2->langcodes<4.0.0,>=3.2.0->spacy<3.8.0,>=3.7.0->pl-core-news-sm==3.7.0) (1.2.1)\n",
            "Requirement already satisfied: markdown-it-py>=2.2.0 in /usr/local/lib/python3.11/dist-packages (from rich>=10.11.0->typer<1.0.0,>=0.3.0->spacy<3.8.0,>=3.7.0->pl-core-news-sm==3.7.0) (3.0.0)\n",
            "Requirement already satisfied: pygments<3.0.0,>=2.13.0 in /usr/local/lib/python3.11/dist-packages (from rich>=10.11.0->typer<1.0.0,>=0.3.0->spacy<3.8.0,>=3.7.0->pl-core-news-sm==3.7.0) (2.18.0)\n",
            "Requirement already satisfied: wrapt in /usr/local/lib/python3.11/dist-packages (from smart-open<8.0.0,>=5.2.1->weasel<0.5.0,>=0.1.0->spacy<3.8.0,>=3.7.0->pl-core-news-sm==3.7.0) (1.17.2)\n",
            "Requirement already satisfied: mdurl~=0.1 in /usr/local/lib/python3.11/dist-packages (from markdown-it-py>=2.2.0->rich>=10.11.0->typer<1.0.0,>=0.3.0->spacy<3.8.0,>=3.7.0->pl-core-news-sm==3.7.0) (0.1.2)\n",
            "Installing collected packages: pl-core-news-sm\n",
            "Successfully installed pl-core-news-sm-3.7.0\n",
            "\u001b[38;5;2m✔ Download and installation successful\u001b[0m\n",
            "You can now load the package via spacy.load('pl_core_news_sm')\n",
            "\u001b[38;5;3m⚠ Restart to reload dependencies\u001b[0m\n",
            "If you are in a Jupyter or Colab notebook, you may need to restart Python in\n",
            "order to load all the package's dependencies. You can do this by selecting the\n",
            "'Restart kernel' or 'Restart runtime' option.\n"
          ]
        }
      ]
    },
    {
      "cell_type": "code",
      "source": [
        "nlp = spacy.load('pl_core_news_sm')"
      ],
      "metadata": {
        "id": "M2MkCmpUMn8d"
      },
      "execution_count": 158,
      "outputs": []
    },
    {
      "cell_type": "code",
      "source": [
        "def extract_person_names(text):\n",
        "    doc = nlp(text)\n",
        "    person_names = [ent.text for ent in doc.ents if ent.label_ == \"persName\"]\n",
        "    return person_names if person_names else None\n",
        "\n",
        "df['persName'] = df['text'].apply(extract_person_names)"
      ],
      "metadata": {
        "id": "jqcxGa8WNAtp"
      },
      "execution_count": 159,
      "outputs": []
    },
    {
      "cell_type": "code",
      "source": [
        "#Extract places (placeName) and add them to a column called places\n",
        "def extract_place_names(text):\n",
        "    doc = nlp(text)\n",
        "    place_names = [ent.text for ent in doc.ents if ent.label_ == \"placeName\"]\n",
        "    return place_names if place_names else None\n",
        "\n",
        "df['placeName'] = df['text'].apply(extract_place_names)\n"
      ],
      "metadata": {
        "id": "9N2XOcRuQAuq"
      },
      "execution_count": 165,
      "outputs": []
    },
    {
      "cell_type": "code",
      "source": [
        "#Extract organisations (orgName) and place them in the column called organisations\n",
        "def extract_organisation_names(text):\n",
        "    doc = nlp(text)\n",
        "    organisation_names = [ent.text for ent in doc.ents if ent.label_ == \"orgName\"]\n",
        "    return organisation_names if organisation_names else None\n",
        "\n",
        "df['orgNames'] = df['text'].apply( extract_organisation_names)"
      ],
      "metadata": {
        "id": "9lYJztc3QENA"
      },
      "execution_count": 167,
      "outputs": []
    },
    {
      "cell_type": "code",
      "source": [
        "#Part 4 - Problem solving/interpreting documentation skills"
      ],
      "metadata": {
        "id": "4vGjP3VxX0Yg"
      },
      "execution_count": null,
      "outputs": []
    },
    {
      "cell_type": "code",
      "source": [
        "#Using the matplotlib package, create a graph showing the number of tweets per day of the week."
      ],
      "metadata": {
        "id": "DOothR7ZX5mp"
      },
      "execution_count": null,
      "outputs": []
    },
    {
      "cell_type": "code",
      "source": [
        "import matplotlib.pyplot as plt"
      ],
      "metadata": {
        "id": "Kj7briVdYFB-"
      },
      "execution_count": 170,
      "outputs": []
    },
    {
      "cell_type": "code",
      "source": [
        "df['day_of_week'] = pd.to_datetime(df['created_at']).dt.day_name()\n",
        "tweet_counts = df['day_of_week'].value_counts()"
      ],
      "metadata": {
        "colab": {
          "base_uri": "https://localhost:8080/"
        },
        "id": "Y_rt3EIGYNsc",
        "outputId": "18513a2d-3a3c-4947-9e71-165dd5d6743d"
      },
      "execution_count": 171,
      "outputs": [
        {
          "output_type": "stream",
          "name": "stderr",
          "text": [
            "<ipython-input-171-f1322aa844db>:1: UserWarning: Could not infer format, so each element will be parsed individually, falling back to `dateutil`. To ensure parsing is consistent and as-expected, please specify a format.\n",
            "  df['day_of_week'] = pd.to_datetime(df['created_at']).dt.day_name() # Extract day name\n"
          ]
        }
      ]
    },
    {
      "cell_type": "code",
      "source": [
        "plt.figure(figsize=(8, 6))  # Adjust figure size if needed\n",
        "plt.bar(tweet_counts.index, tweet_counts.values)\n",
        "plt.xlabel(\"Day of the Week\")\n",
        "plt.ylabel(\"Number of Tweets\")\n",
        "plt.title(\"Number of Tweets per Day of the Week\")\n",
        "plt.xticks(rotation=45, ha='right')  # Rotate x-axis labels for better readability\n",
        "plt.tight_layout()  # Adjust layout to prevent labels from overlapping\n",
        "plt.show()"
      ],
      "metadata": {
        "colab": {
          "base_uri": "https://localhost:8080/",
          "height": 607
        },
        "id": "aKHPTdUMYVfk",
        "outputId": "37088037-955b-4af6-9b86-c19ace9ca50e"
      },
      "execution_count": 172,
      "outputs": [
        {
          "output_type": "display_data",
          "data": {
            "text/plain": [
              "<Figure size 800x600 with 1 Axes>"
            ],
            "image/png": "[encoded data removed]"
          },
          "metadata": {}
        }
      ]
    }
  ]
}